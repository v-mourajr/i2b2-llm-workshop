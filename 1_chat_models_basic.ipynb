{
 "cells": [
  {
   "metadata": {},
   "cell_type": "markdown",
   "source": [
    "![i2b2 Logo](images/transmart-logo.png)\n",
    "\n",
    "\n",
    "# Using LLM for Clinical Note Analysis (Zero-shot)\n",
    "This Notebook demonstrates how to use Azure-hosted OpenAI models with LangChain. The notebook follows a step-by-step approach to set up authentication, initialize the model, create structured prompts, and generate responses. The key components covered include:#\n",
    "\n",
    "- Loading environment variables\n",
    "- Setting up Azure authentication\n",
    "- Creating and formatting chat prompts\n",
    "- Invoking the OpenAI model\n",
    "- Displaying the AI-generated response\n",
    "\n",
    "Each cell in the notebook builds upon the previous one to progressively set up and execute an AI-driven conversation."
   ],
   "id": "a2b994958c92d3b8"
  },
  {
   "cell_type": "code",
   "id": "initial_id",
   "metadata": {
    "collapsed": true,
    "ExecuteTime": {
     "end_time": "2025-04-30T18:21:03.727163Z",
     "start_time": "2025-04-30T18:21:02.554817Z"
    }
   },
   "source": [
    "# -----------------------------------------------------------\n",
    "# 1. Importing Required Libraries\n",
    "# -----------------------------------------------------------\n",
    "# Demonstrates the necessary imports for setting up Azure OpenAI authentication and model interaction.\n",
    "\n",
    "# Key Components:\n",
    "#   - os: Provides functions for interacting with the operating system, such as accessing environment variables.\n",
    "#   - load_dotenv(): Loads environment variables from a .env file to securely store sensitive credentials.\n",
    "#   - DefaultAzureCredential: Handles authentication with Azure services using various credential methods.\n",
    "#   - get_bearer_token_provider(): Retrieves an authentication token for accessing Azure OpenAI services.\n",
    "#   - AzureChatOpenAI: A LangChain wrapper for interacting with Azure-hosted OpenAI models.\n",
    "\n",
    "# Purpose:\n",
    "# These libraries enable secure authentication and seamless integration of OpenAI models within Azure,\n",
    "# ensuring that AI capabilities can be efficiently accessed and utilized in applications.\n",
    "\n",
    "import os\n",
    "from dotenv import load_dotenv\n",
    "from azure.identity import DefaultAzureCredential, get_bearer_token_provider\n",
    "from langchain_openai import AzureChatOpenAI\n",
    "\n",
    "print(\"\\n=== Required Libraries Loaded ===\")\n"
   ],
   "outputs": [
    {
     "name": "stdout",
     "output_type": "stream",
     "text": [
      "\n",
      "=== Required Libraries Loaded ===\n"
     ]
    }
   ],
   "execution_count": 1
  },
  {
   "metadata": {
    "ExecuteTime": {
     "end_time": "2025-04-30T18:21:11.835857Z",
     "start_time": "2025-04-30T18:21:11.672440Z"
    }
   },
   "cell_type": "code",
   "source": [
    "# -----------------------------------------------------------\n",
    "# 2. Setting Up Azure OpenAI Model\n",
    "# -----------------------------------------------------------\n",
    "# Demonstrates how to configure and authenticate Azure OpenAI for use in AI-driven applications.\n",
    "\n",
    "# Key Components:\n",
    "#   - load_dotenv(): Loads environment variables from a .env file to securely store credentials.\n",
    "#   - DefaultAzureCredential(): Uses Azure’s default authentication method to retrieve credentials.\n",
    "#   - get_bearer_token_provider(): Retrieves an authentication token for accessing Azure OpenAI services.\n",
    "#   - AzureChatOpenAI(): Initializes the Azure-hosted OpenAI model using environment variables.\n",
    "#     - openai_api_version: Specifies the API version to use.\n",
    "#     - azure_deployment: Identifies the specific OpenAI deployment.\n",
    "#     - azure_endpoint: Defines the Azure endpoint for API access.\n",
    "#     - azure_ad_token_provider: Supplies the necessary authentication token.\n",
    "\n",
    "# Purpose:\n",
    "# This setup ensures secure and efficient access to Azure OpenAI services, enabling seamless integration of AI capabilities into applications.\n",
    "# It provides a scalable way to interact with OpenAI models hosted on Azure while managing authentication automatically.\n",
    "\n",
    "load_dotenv()\n",
    "\n",
    "# Set up Azure credentials and token provider\n",
    "azure_credential = DefaultAzureCredential()\n",
    "token_provider = get_bearer_token_provider(\n",
    "    azure_credential, \"https://cognitiveservices.azure.com/.default\"\n",
    ")\n",
    "\n",
    "# Initialize the AzureChatOpenAI model using environment variables\n",
    "model = AzureChatOpenAI(\n",
    "    openai_api_version=os.getenv(\"AZURE_OPENAI_VERSION\"),\n",
    "    azure_deployment=os.getenv(\"AZURE_OPENAI_DEPLOYMENT\"),\n",
    "    azure_endpoint=os.getenv(\"AZURE_OPENAI_ENDPOINT\"),\n",
    "    azure_ad_token_provider=token_provider\n",
    ")\n",
    "\n",
    "print(\"\\n=== LLM Models Loaded ===\")\n"
   ],
   "id": "e4ab2139560c3664",
   "outputs": [
    {
     "name": "stdout",
     "output_type": "stream",
     "text": [
      "\n",
      "=== LLM Models Loaded ===\n"
     ]
    }
   ],
   "execution_count": 2
  },
  {
   "metadata": {},
   "cell_type": "markdown",
   "source": [
    "## 3. Basic Prompt Interaction\n",
    "<img src=\"https://github.com/v-mourajr/mongan_llm_workshop/blob/master/images/basic_prompt.png?raw=true\" alt=\"Basic Prompt\" width=\"800\">"
   ],
   "id": "a8a750da658a7524"
  },
  {
   "metadata": {
    "ExecuteTime": {
     "end_time": "2025-02-28T15:54:08.317161Z",
     "start_time": "2025-02-28T15:54:00.388877Z"
    }
   },
   "cell_type": "code",
   "source": [
    "# -----------------------------------------------------------\n",
    "# 3. Basic Prompt Interaction\n",
    "# -----------------------------------------------------------\n",
    "# Demonstrates a simple prompt-based interaction with an AI model using LangChain.\n",
    " \n",
    "# Key Components:\n",
    "#   - SystemMessage: Defines the AI’s role as a medical provider, ensuring responses are evidence-based and patient-friendly.\n",
    "#   - HumanMessage: Represents the user's query, in this case: \"What is asthma? What are its common symptoms and treatments?\"\n",
    "#   - model.invoke(messages): Sends the conversation history to the AI model, prompting it to generate a response.\n",
    "\n",
    "# Purpose: \n",
    "# This setup enables structured AI interactions, ensuring the model responds consistently and accurately in a medical context.\n",
    "# Can be extended to handle more complex medical queries or chatbot interactions.\n",
    "\n",
    "from langchain_core.messages import HumanMessage, SystemMessage\n",
    "\n",
    "# Define a chat interaction using a system message (to set the AI’s role) and a human message (a user query about asthma).\n",
    "\n",
    "messages = [\n",
    "    SystemMessage(content=\"You are a knowledgeable medical provider with expertise in diagnosing and managing various diseases. Provide clear, evidence-based, and patient-friendly explanations about medical conditions, symptoms, and treatments.\"),\n",
    "    \n",
    "    HumanMessage(content=\"What is asthma? What are its common symptoms and treatments?\")\n",
    "]\n",
    "\n",
    "# Invoke the model with messages\n",
    "result = model.invoke(messages)\n",
    "\n",
    "print(result.content)"
   ],
   "id": "c84f9839d5749e5a",
   "outputs": [
    {
     "name": "stdout",
     "output_type": "stream",
     "text": [
      "Asthma is a chronic lung condition that causes inflammation and narrowing of the airways, making it difficult to breathe. This condition can vary in severity from person to person and can be triggered by various factors like allergens, respiratory infections, cold air, exercise, or stress.\n",
      "\n",
      "**Common Symptoms of Asthma:**\n",
      "1. **Wheezing:** A whistling or squeaky sound when you breathe.\n",
      "2. **Shortness of Breath:** Feeling like you can't get enough air.\n",
      "3. **Chest Tightness:** A feeling of pressure or tightness in your chest.\n",
      "4. **Coughing:** Often worse at night or early in the morning, and can be persistent.\n",
      "\n",
      "**Treatments for Asthma:**\n",
      "There is no cure for asthma, but it can be effectively managed with a combination of medications and lifestyle adjustments. Treatment approaches typically include:\n",
      "\n",
      "1. **Quick-Relief Medications:**\n",
      "   - **Short-acting beta agonists (SABAs):** Such as albuterol, these inhalers provide rapid relief by relaxing the muscles around the airways during an asthma attack.\n",
      "   - **Anticholinergics:** Used to open the airways quickly and are sometimes taken with SABAs.\n",
      "\n",
      "2. **Long-Term Control Medications:**\n",
      "   - **Inhaled corticosteroids:** These reduce inflammation in the airways and are often taken daily to prevent symptoms.\n",
      "   - **Long-acting beta agonists (LABAs):** Often used in combination with inhaled corticosteroids for better control.\n",
      "   - **Leukotriene modifiers:** Oral medications that help control asthma by blocking the action of certain chemicals in the immune system.\n",
      "   - **Biologics:** Injectable medications for severe asthma that target specific molecules involved in the inflammatory process.\n",
      "\n",
      "3. **Lifestyle and Home Remedies:**\n",
      "   - **Avoiding Triggers:** Identify and avoid triggers that cause asthma symptoms, such as allergens (dust mites, pollen, pet dander), smoke, strong odors, and cold air.\n",
      "   - **Regular Monitoring:** Using a peak flow meter can help monitor your asthma and detect early signs of an exacerbation.\n",
      "   - **Asthma Action Plan:** Work with your healthcare provider to develop a personalized asthma action plan to manage symptoms and prevent attacks.\n",
      "\n",
      "4. **Additional Treatments:**\n",
      "   - **Immunotherapy:** Allergy shots or sublingual tablets may be recommended for individuals with allergic asthma.\n",
      "   - **Education and Training:** Learning proper inhaler techniques and understanding how to manage asthma effectively can significantly improve quality of life.\n",
      "\n",
      "If you or a loved one have asthma, it's crucial to work closely with a healthcare provider to find the best management plan and adjust treatments as needed, especially if symptoms change or worsen. Regular check-ups are important to keep asthma under control and to maintain a good quality of life.\n"
     ]
    }
   ],
   "execution_count": 156
  },
  {
   "metadata": {},
   "cell_type": "markdown",
   "source": [
    "## 4. Using ChatPromptTemplate for Dynamic Queries\n",
    "<img src=\"https://github.com/v-mourajr/mongan_llm_workshop/blob/master/images/prompt_template.png?raw=true\" alt=\"Basic Prompt\" width=\"800\">\n"
   ],
   "id": "70e18716ffd84a04"
  },
  {
   "metadata": {
    "ExecuteTime": {
     "end_time": "2025-02-28T15:58:16.187990Z",
     "start_time": "2025-02-28T15:58:10.171601Z"
    }
   },
   "cell_type": "code",
   "source": [
    "# -----------------------------------------------------------\n",
    "# 4. Using ChatPromptTemplate for Dynamic Queries\n",
    "# -----------------------------------------------------------\n",
    "# Demonstrates how to create a reusable prompt template with dynamic input variables using LangChain.\n",
    "\n",
    "# Key Components:\n",
    "#   - ChatPromptTemplate: Allows dynamic variables in prompts, making interactions more flexible.\n",
    "#   - SystemMessage: Sets the AI’s role as a medical provider, ensuring responses are clear and evidence-based.\n",
    "#   - HumanMessage: Contains a query template with a placeholder ({disease}), allowing different medical conditions to be queried dynamically.\n",
    "#   - prompt_template.invoke({\"disease\": disease}): Fills in the variable \"disease\" with the specified condition (e.g., \"epilepsy\").\n",
    "#   - model.invoke(prompt): Sends the formatted query to the AI model for a response.\n",
    "\n",
    "# Purpose:\n",
    "# This approach enables reusable prompts where users can query different diseases without modifying the prompt structure.\n",
    "# It improves scalability and efficiency for medical applications or chatbots handling multiple medical conditions.\n",
    "\n",
    "\n",
    "from langchain.prompts import ChatPromptTemplate\n",
    "\n",
    "ai_role = \"5 year-old\"\n",
    "disease = \"epilepsy\"\n",
    "\n",
    "# messages = [\n",
    "#     (\"system\", f\"You are a knowledgeable {ai_role}. Provide clear, evidence-based, and patient-friendly explanations about medical conditions, symptoms, and treatments.\"),\n",
    "# \n",
    "#     (\"human\", \"What is {disease}? What are its common symptoms and treatments?\"),\n",
    "# ]\n",
    "\n",
    "messages = [\n",
    "    (\"system\", f\"You are a knowledgeable medical provider. Provide clear and patient-friendly explanations about medical conditions, symptoms, and treatments, ensuring they are suitable for a {ai_role}.\"),\n",
    "\n",
    "    (\"human\", \"What is {disease}? What are its common symptoms and treatments?\"),\n",
    "]\n",
    "\n",
    "# Create PromptTemplate\n",
    "prompt_template = ChatPromptTemplate.from_messages(messages)\n",
    "\n",
    "# Plug-in user variables\n",
    "prompt = prompt_template.invoke({\"ai_role\": ai_role , \"disease\": disease})\n",
    "\n",
    "# invoke model\n",
    "result = model.invoke(prompt)\n",
    "print(result.content)"
   ],
   "id": "ff4be7952c8bc9f9",
   "outputs": [
    {
     "name": "stdout",
     "output_type": "stream",
     "text": [
      "Sure thing! Let's talk about epilepsy in a way that's simple and easy to understand, just like a story.\n",
      "\n",
      "Imagine your brain is like a big, busy orchestra with lots of musicians playing music together. Sometimes, if something goes wrong, the musicians might start playing too loud and too fast all of a sudden. This can cause a lot of noise and confusion. That's a bit like what happens in epilepsy. \n",
      "\n",
      "Epilepsy is a condition where the brain sometimes sends out too many fast signals all at once. When this happens, it can cause a \"seizure.\" A seizure is like the noisy part in our story where the musicians get very loud and speedy.\n",
      "\n",
      "Here are some common symptoms of epilepsy:\n",
      "- **Staring spells**: Sometimes, a person might stop what they're doing and just stare for a few seconds.\n",
      "- **Shaking or jerking movements**: Their arms, legs, or whole body might shake and move uncontrollably.\n",
      "- **Confusion**: After a seizure, they might feel very confused or tired.\n",
      "- **Loss of awareness**: They might not be aware of their surroundings for a little while.\n",
      "\n",
      "Now, let's talk about treatments! Think of treatments like special tools that we use to help keep the orchestra playing smoothly.\n",
      "\n",
      "Here are some ways doctors help people with epilepsy:\n",
      "1. **Medicines**: There are special medicines that help keep the brain's signals calm and regular, just like a conductor helping the musicians play their music at the right pace.\n",
      "2. **Diet changes**: Sometimes, eating a special diet can help control seizures. It's like giving the musicians the right kind of food so they can play better.\n",
      "3. **Surgery**: In some cases, doctors might need to fix a small part of the brain that's causing the problems, a bit like fixing a broken instrument in the orchestra.\n",
      "4. **Devices**: There are devices that can be placed in the body to help control seizures, like a remote control for the orchestra to keep it in tune.\n",
      "\n",
      "Remember, it's really important for a person with epilepsy to work with their doctor to find the best way to manage their seizures and keep the brain's music playing smoothly!\n"
     ]
    }
   ],
   "execution_count": 160
  },
  {
   "metadata": {
    "ExecuteTime": {
     "end_time": "2025-02-28T15:59:43.952658Z",
     "start_time": "2025-02-28T15:59:43.947420Z"
    }
   },
   "cell_type": "code",
   "source": [
    "# -----------------------------------------------------------\n",
    "# 5. Using ChatPromptTemplate for Clinical Note Analysis\n",
    "# -----------------------------------------------------------\n",
    "# Demonstrates how to create a structured prompt template for extracting medical details from clinical notes.\n",
    "\n",
    "# Key Components:\n",
    "#   - ChatPromptTemplate: Creates a reusable prompt structure for analyzing clinical notes.\n",
    "#   - SystemMessage: Defines the AI’s role as a medical documentation assistant, ensuring accurate extraction of medical details.\n",
    "#   - HumanMessage: Contains a structured query with a placeholder ({patient_note}), allowing different clinical notes to be analyzed dynamically.\n",
    "#   - prompt_template_notes.invoke({\"patient_note\": note_text}): Fills in the variable \"patient_note\" with the actual clinical note text.\n",
    "#   - model.invoke(prompt): Sends the formatted query to the AI model for processing.\n",
    "\n",
    "# Purpose:\n",
    "# This approach enables automated medical text processing, ensuring structured extraction of relevant information such as demographics, chief complaints, medications, and asthma status.\n",
    "# It improves efficiency in clinical documentation and can be integrated into medical record systems for automated analysis.\n",
    "\n",
    "\n",
    "messages_notes = [\n",
    "    (\n",
    "        \"system\", \n",
    "        \"You are an advanced medical documentation assistant with expertise in clinical text analysis. Your task is to review a given clinical note and extract relevant medical details accurately.\"\n",
    "    ),\n",
    "    \n",
    "    (\n",
    "        \"human\", \n",
    "        \"Please analyze the following clinical note: {patient_note}. \\n\\n\"\n",
    "        \"Extract and list the following information:\\n\"\n",
    "        \"1. Patient demographics\\n\"\n",
    "        \"2. Chief Complaints\\n\"\n",
    "        \"3. Current Medications\\n\"\n",
    "        \"4. Determine whether the patient has asthma (Yes/No), based on explicit mentions or related diagnoses.\\n\\n\"\n",
    "        \"Provide the output in a structured format.\"\n",
    "    )\n",
    "]\n",
    "\n",
    "prompt_template_notes = ChatPromptTemplate.from_messages(messages_notes)\n"
   ],
   "id": "2f958c9284e3da1f",
   "outputs": [],
   "execution_count": 161
  },
  {
   "metadata": {
    "ExecuteTime": {
     "end_time": "2025-02-28T16:02:33.661598Z",
     "start_time": "2025-02-28T16:02:33.655769Z"
    }
   },
   "cell_type": "code",
   "source": [
    "# -----------------------------------------------------------\n",
    "# 6. Loading and Reading a Patient Note\n",
    "# -----------------------------------------------------------\n",
    "# Demonstrates how to load a clinical note from a file for further processing.\n",
    "\n",
    "# Key Components:\n",
    "#   - input_dir: Specifies the directory where patient notes are stored.\n",
    "#   - filename: Defines the specific file to be loaded, containing a patient's medical note.\n",
    "#   - os.path.join(input_dir, filename): Constructs the full file path dynamically.\n",
    "#   - open(file_path, \"r\"): Opens the file in read mode and loads the content into the variable \"patient_note\".\n",
    "#   - print(f\"\\nPatient Note:\\n\\n{patient_note}\"): Displays the loaded note for verification.\n",
    "\n",
    "# Purpose:\n",
    "# This step ensures that patient notes are correctly loaded before being analyzed by the AI model.\n",
    "# It enables seamless integration with document processing pipelines for clinical text analysis.\n",
    "\n",
    "\n",
    "input_dir = 'data_prep/patient_notes_old'\n",
    "filename = 'note_1000000064_20090608.txt' \n",
    "\n",
    "# examples without Asthma: \n",
    "# -----------------------------------------------------------\n",
    "# 1000000002, 1000000003, 1000000009, 1000000010, 1000000013, \n",
    "# 1000000023, 1000000036, 1000000040, 1000000047, 1000000048, \n",
    "# 1000000052, 1000000063, 1000000064, 1000000068, 1000000071, \n",
    "# 1000000082, 1000000086, 1000000087, 1000000093, 1000000101, \n",
    "# 1000000103, 1000000107\n",
    "# -----------------------------------------------------------\n",
    "\n",
    "\n",
    "# Load the note txt\n",
    "file_path = os.path.join(input_dir, filename)\n",
    "with open(file_path, \"r\") as file:\n",
    "    patient_note = file.read()\n",
    "    \n",
    "print(f\"\\nPatient Note:\\n\\n{patient_note}\")"
   ],
   "id": "ed77019c319ec4f7",
   "outputs": [
    {
     "name": "stdout",
     "output_type": "stream",
     "text": [
      "\n",
      "Patient Note:\n",
      "\n",
      "Visit Information:\n",
      "- Patient Number: 1000000064\n",
      "- Visit Date: 06/08/2009\n",
      "\n",
      "This is a 27-year-old Asian male who communicates primarily in Spanish and has been an established patient at our clinic for multiple years. He presents today for continued follow-up and comprehensive health evaluation due to ongoing musculoskeletal complaints and management of his previous medical conditions. \n",
      "\n",
      "Subjective:\n",
      "The patient reports persistent but intermittent neck pain (cervical region) and lower back pain (lumbar spine) resulting from past injuries that he sustained in recreational activities. The pain is described as a dull ache, exacerbated by extended periods of physical exertion and alleviated with rest, application of ice, and over-the-counter anti-inflammatory medications. Additionally, the patient occasionally experiences knee discomfort, particularly noticeable after playing soccer, which he manages through conservative means like rest and analgesics. He mentions having mild tension headaches about once or twice a week, which are relieved with rest and occasional use of non-prescription pain relief.\n",
      "\n",
      "The patient's history includes several healed fractures to the carpal bones and radius, an uncomplicated laceration on the lip, and various minor sprains. He recounts an incident of acute alcoholic intoxication under continuous drinking behavior; however, he has since abstained from alcohol, tobacco, and illicit drugs. He maintains a supportive family and educational environment, which aids in his management of developmental learning challenges. No past surgeries are documented apart from minor procedures associated with injury management. \n",
      "\n",
      "Currently, the patient does not take any prescribed medications or supplements. He adheres to good hygiene practices to manage mild acne and has no known allergies.\n",
      "\n",
      "Objective:\n",
      "Vital Signs:\n",
      "- Blood Pressure: 120/78 mmHg\n",
      "- Heart Rate: 75 bpm\n",
      "- Respiratory Rate: 16 breaths per minute\n",
      "- Temperature: 98.5°F (36.9°C)\n",
      "- Oxygen Saturation: 98% on room air\n",
      "\n",
      "General Appearance:\n",
      "The patient is well-developed, well-nourished, and appears in no acute distress. He is alert and oriented, and he engages actively in the conversation during the examination.\n",
      "\n",
      "Cardiovascular:\n",
      "Heart sounds are normal with a regular rate and rhythm. No murmurs, gallops, or rubs are detected. Peripheral pulses are palpable and symmetrical.\n",
      "\n",
      "Respiratory:\n",
      "Respiratory exam reveals clear and equal breath sounds bilaterally with no adventitious sounds such as wheezing or crackles present.\n",
      "\n",
      "Abdomen:\n",
      "On examination, the abdomen is non-tender and soft with normal bowel sounds. There is no hepatomegaly or splenomegaly appreciated.\n",
      "\n",
      "Musculoskeletal:\n",
      "The patient demonstrates a full range of motion in all extremities. There is mild tenderness upon palpation in the cervical and lumbar spine areas. No obvious deformities or muscular atrophy is noted. Knee examination presents with tenderness around the patella but without swelling or redness. Muscle strength is rated at 5/5 throughout.\n",
      "\n",
      "Neurological:\n",
      "Neurological findings are unremarkable. Cranial nerves II through XII are intact. Motor and sensory functions are normal with symmetrical reflexes rated at 2+.\n",
      "\n",
      "Skin:\n",
      "The skin is warm, dry, and intact with no rashes or lesions. Mild acne is observed on the patient's face. \n",
      "\n",
      "Assessment:\n",
      "1. Routine General Medical Examination:\n",
      "- The patient maintains good health with no new major health concerns.\n",
      "\n",
      "2. Specific Developmental Learning Difficulties:\n",
      "- The patient effectively manages his learning challenges with the ongoing support of family and education.\n",
      "\n",
      "3. Musculoskeletal Pain:\n",
      "- The ongoing cervical and lumbar spinal pain likely linked to past injury episodes. Knee pain associated with physical activities.\n",
      "  \n",
      "4. Acne:\n",
      "- Mild facial acne currently managed with good hygiene practices.\n",
      "\n",
      "5. Tension Headaches:\n",
      "- Intermittent, tension-type headaches, managed with over-the-counter medications.\n",
      "\n",
      "Plan:\n",
      "1. Routine General Medical Examination:\n",
      "- No specific interventions recommended. Advise continuation of a healthy lifestyle and re-evaluation in one year unless new symptoms emerge.\n",
      "\n",
      "2. Specific Developmental Learning Difficulties:\n",
      "- Continue current support from familial and educational institutions. No pharmacological treatment necessary.\n",
      "\n",
      "3. Musculoskeletal Pain:\n",
      "- Maintain conservative management techniques such as activity moderation, ice/heat application, and use of non-prescription analgesics. Consider physiotherapy referral if pain persists or worsens.\n",
      "\n",
      "4. Acne:\n",
      "- Recommend continuation of current hygiene regimen. If there is no improvement, consider referral to a dermatologist.\n",
      "\n",
      "5. Tension Headaches:\n",
      "- Advise continued use of over-the-counter medications as needed and ensuring sufficient rest. Monitoring for new or worsening symptoms.\n",
      "\n",
      "Follow-Up:\n",
      "Instruct the patient to contact the clinic if symptoms exacerbate or fail to improve within a week. The patient should also follow up with any new or concerning symptoms. The patient understands and agrees with the outlined care plan and follow-up instructions.\n"
     ]
    }
   ],
   "execution_count": 164
  },
  {
   "metadata": {
    "ExecuteTime": {
     "end_time": "2025-02-28T16:02:58.377956Z",
     "start_time": "2025-02-28T16:02:56.390480Z"
    }
   },
   "cell_type": "code",
   "source": [
    "# -----------------------------------------------------------\n",
    "# 7. Invoking the AI Model for Clinical Note Analysis\n",
    "# -----------------------------------------------------------\n",
    "# Demonstrates how to process a patient note using a structured prompt and invoke the AI model for analysis.\n",
    "\n",
    "# Key Components:\n",
    "#   - prompt_template_notes.invoke({\"patient_note\": patient_note}): \n",
    "#     Dynamically fills the prompt template with the actual clinical note text.\n",
    "#   - model.invoke(prompt_notes): \n",
    "#     Sends the formatted query to the AI model for processing.\n",
    "#   - print(result_note.content): \n",
    "#     Displays the AI-generated structured output containing extracted medical details.\n",
    "\n",
    "# Purpose:\n",
    "# This approach enables automated extraction of structured medical information from clinical notes.\n",
    "# It ensures efficient and standardized processing of patient datafiles, aiding in medical documentation and decision-making.\n",
    "\n",
    "prompt_notes = prompt_template_notes.invoke({\"patient_note\": patient_note})\n",
    "\n",
    "# invoke model\n",
    "result_note = model.invoke(prompt_notes)\n",
    "print(result_note.content)\n"
   ],
   "id": "43a71ee0339c8ac2",
   "outputs": [
    {
     "name": "stdout",
     "output_type": "stream",
     "text": [
      "1. **Patient Demographics:**\n",
      "   - Patient Number: 1000000064\n",
      "   - Age: 27 years old\n",
      "   - Gender: Male\n",
      "   - Ethnicity: Asian\n",
      "   - Primary Language: Spanish\n",
      "   - Established patient at the clinic for multiple years\n",
      "\n",
      "2. **Chief Complaints:**\n",
      "   - Persistent but intermittent neck pain (cervical region)\n",
      "   - Lower back pain (lumbar spine)\n",
      "   - Occasional knee discomfort, particularly after playing soccer\n",
      "   - Mild tension headaches occurring once or twice a week\n",
      "\n",
      "3. **Current Medications:**\n",
      "   - None (Patient does not take any prescribed medications or supplements)\n",
      "\n",
      "4. **Asthma:**\n",
      "   - No (There is no mention of asthma or related respiratory symptoms in the clinical note)\n"
     ]
    }
   ],
   "execution_count": 166
  },
  {
   "metadata": {},
   "cell_type": "code",
   "source": "",
   "id": "332511529a8a3505",
   "outputs": [],
   "execution_count": null
  }
 ],
 "metadata": {
  "kernelspec": {
   "display_name": "Python 3",
   "language": "python",
   "name": "python3"
  },
  "language_info": {
   "codemirror_mode": {
    "name": "ipython",
    "version": 2
   },
   "file_extension": ".py",
   "mimetype": "text/x-python",
   "name": "python",
   "nbconvert_exporter": "python",
   "pygments_lexer": "ipython2",
   "version": "2.7.6"
  }
 },
 "nbformat": 4,
 "nbformat_minor": 5
}
