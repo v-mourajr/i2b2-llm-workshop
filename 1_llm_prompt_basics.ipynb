{
 "cells": [
  {
   "metadata": {},
   "cell_type": "markdown",
   "source": [
    "![i2b2 Logo](./images/transmart-logo.png)\n",
    "\n",
    "# Using LLM for Clinical Note Analysis (Zero-shot)\n",
    "\n",
    "This notebook demonstrates how to use a **locally hosted large language model (LLM)** with LangChain and Ollama to analyze clinical content in a zero-shot setting—without prior training or fine-tuning.\n",
    "\n",
    "You will walk through a structured process for:\n",
    "- Loading a local LLM (e.g., Qwen or DeepSeek via Ollama)\n",
    "- Running basic clinical queries using system and user messages\n",
    "- Creating reusable prompt templates for dynamic disease-specific explanations\n",
    "- Preparing a prompt for structured clinical note extraction\n",
    "- Applying the LLM to decode and analyze real patient notes\n",
    "\n",
    "Each cell builds on the previous one, moving from simple interactions to more advanced, structured information extraction from unstructured clinical text.\n"
   ],
   "id": "bf2bc9b0fb813186"
  },
  {
   "metadata": {
    "ExecuteTime": {
     "end_time": "2025-05-15T22:54:28.494829Z",
     "start_time": "2025-05-15T22:54:28.467243Z"
    }
   },
   "cell_type": "code",
   "source": [
    "# -----------------------------------------------------------\n",
    "# 1. Load the Ollama Model\n",
    "# -----------------------------------------------------------\n",
    "# This cell loads a local Large Language Model (LLM) using LangChain's\n",
    "# `ChatOllama` wrapper. Make sure the model has been pulled via Ollama CLI before use.\n",
    "\n",
    "# To explore available models, visit:\n",
    "# - Ollama Library: https://ollama.com/library\n",
    "# - Hugging Face (for embeddings and additional models): https://huggingface.co/models\n",
    "\n",
    "from langchain_ollama import ChatOllama\n",
    "\n",
    "# Define the model name — make sure this model is already downloaded using:\n",
    "#   ollama pull deepseek-v2:16b\n",
    "model_name = \"qwen2\"  # Alternatives: \"qwen2\", \"llama3\", etc.\n",
    "\n",
    "# Initialize the model with LangChain\n",
    "model = ChatOllama(model=model_name)\n",
    "\n",
    "print(f\"✅ Model '{model_name}' is loaded and ready to use.\")\n"
   ],
   "id": "82e6a97150f1d06f",
   "outputs": [
    {
     "name": "stdout",
     "output_type": "stream",
     "text": [
      "✅ Model 'qwen2' is loaded and ready to use.\n"
     ]
    }
   ],
   "execution_count": 65
  },
  {
   "metadata": {},
   "cell_type": "markdown",
   "source": [
    "## 2. Basic Prompt Interaction - Simple Query\n",
    "\n",
    "<img src=\"./images/basic_prompt.png\" alt=\"i2b2 Logo\" width=\"900\">\n",
    "\n"
   ],
   "id": "98d1e0333b2bd856"
  },
  {
   "metadata": {
    "ExecuteTime": {
     "end_time": "2025-05-15T22:54:37.294945Z",
     "start_time": "2025-05-15T22:54:28.507365Z"
    }
   },
   "cell_type": "code",
   "source": [
    "# -----------------------------------------------------------\n",
    "# 2. Run a Simple Clinical Query with System + User Prompts\n",
    "# -----------------------------------------------------------\n",
    "# This tests the model by asking a simple clinical question using structured messages.\n",
    "\n",
    "from langchain_core.messages import HumanMessage, SystemMessage\n",
    "from IPython.display import display, Markdown\n",
    "\n",
    "\n",
    "messages = [\n",
    "    SystemMessage(content=(\n",
    "        \"You are a knowledgeable medical provider. \"\n",
    "        \"Provide clear, evidence-based explanations about a medical conditions.\"\n",
    "    )),\n",
    "    HumanMessage(content=\"What is asthma? What are its common symptoms and treatments?\")\n",
    "]\n",
    "\n",
    "# Run inference\n",
    "response = model.invoke(messages)\n",
    "\n",
    "# Display result\n",
    "display(Markdown(\"### Model Response:\"))\n",
    "display(Markdown(response.content))\n"
   ],
   "id": "e019e06b683e2ea1",
   "outputs": [
    {
     "data": {
      "text/plain": [
       "<IPython.core.display.Markdown object>"
      ],
      "text/markdown": "### Model Response:"
     },
     "metadata": {},
     "output_type": "display_data"
    },
    {
     "data": {
      "text/plain": [
       "<IPython.core.display.Markdown object>"
      ],
      "text/markdown": "Asthma is a long-term (chronic) condition that inflames the airways in the lungs. This inflammation causes swelling and narrowing of these airways, leading to difficulty breathing. It affects millions of people worldwide.\n\n### Common Symptoms of Asthma\n\nSymptoms of asthma can vary greatly between individuals and can range from mild to severe:\n\n1. **Coughing**: Often worse at night or early morning.\n2. **Shortness of Breath**: Difficulty in breathing during physical activity, especially when running, climbing stairs, or exercising.\n3. **Wheezing**: A whistling sound produced when you breathe, heard during both the intake and exhalation of air.\n4. **Chest Tightness or Pressure**: Often described as a sensation of tightness in the chest that may make it feel difficult to open your chest cavity.\n5. **Pain or Discomfort**: In some cases, especially in children, this can be confused with abdominal pain.\n\n### Causes of Asthma\n\nAsthma is often caused by exposure to triggers such as allergens (like pollen, dust mites, pet dander), cold air, exercise, respiratory infections, and irritants like smoke or chemical fumes. It's also influenced by genetics and factors including obesity, asthma history in the family, and viral infections.\n\n### Treatments for Asthma\n\nAsthma management is tailored to individual needs but typically includes:\n\n1. **Medications**:\n   - **Inhaled Corticosteroids**: These are medications used daily to reduce airway inflammation.\n   - **Quick-Relief Inhalers (Rescue inhalers)**: Used during an asthma attack, they contain bronchodilators like albuterol or levalbuterol which help open the airways quickly.\n   - **Long-term Control Medications**: These may include inhaled corticosteroids used daily to prevent symptoms and control inflammation. Oral medications, such as oral corticosteroids, are sometimes prescribed for severe asthma attacks.\n\n2. **Avoiding Triggers**: Identifying and avoiding triggers is crucial. This might involve modifying the environment or adjusting lifestyle habits.\n\n3. **Lifestyle Changes**:\n   - Quitting smoking.\n   - Maintaining good indoor air quality with regular cleaning, using air filters, and removing allergens like pet dander and dust mites.\n   - Staying hydrated and well-rested can help manage symptoms.\n\n4. **Education**: Understanding how to recognize asthma symptoms early and knowing what to do when an episode occurs is important for self-management.\n\n5. **Monitoring and Adjusting Treatments**: Regular check-ups with a healthcare provider are crucial to adjust treatment plans based on changes in the condition of the patient or response to medications.\n\n6. **Emergency Preparedness**: Having a written asthma action plan and quick-relief inhalers available at all times can help manage severe attacks effectively.\n\nAsthma is managed through ongoing care, including regular check-ups with healthcare providers, monitoring symptoms, adjusting treatments as needed, and educating oneself on how to handle both mild and severe episodes. With proper management, most individuals with asthma are able to enjoy a good quality of life with only minimal impact from their condition."
     },
     "metadata": {},
     "output_type": "display_data"
    }
   ],
   "execution_count": 66
  },
  {
   "metadata": {},
   "cell_type": "markdown",
   "source": [
    "## 3. Using ChatPromptTemplate for Dynamic Prompts\n",
    "\n",
    "This section shows how to create reusable prompt templates using LangChain’s `ChatPromptTemplate`.\n",
    "\n",
    "- **3.1**: Runs a dynamic medical query by filling in a condition (e.g., epilepsy) and a patient type (e.g., child).\n",
    "- **3.2**: Prepares a prompt template for clinical note extraction. This will be used later in Section 4 when we insert actual patient notes.\n",
    "\n",
    "Prompt templates make it easier to reuse the same structure with different inputs.\n",
    "\n",
    "<img src=\"./images/prompt_template.png\" alt=\"Prompt Template\" width=\"900\">\n"
   ],
   "id": "f02e27596486474"
  },
  {
   "metadata": {
    "ExecuteTime": {
     "end_time": "2025-05-15T22:54:42.808222Z",
     "start_time": "2025-05-15T22:54:37.311519Z"
    }
   },
   "cell_type": "code",
   "source": [
    "# -----------------------------------------------------------\n",
    "# 3.1. Create a Reusable Prompt Template (Dynamic Querying)\n",
    "# -----------------------------------------------------------\n",
    "# This cell demonstrates how to build a dynamic prompt template using placeholders\n",
    "# for different medical conditions and patient profiles. The prompt is populated\n",
    "# with variables at runtime and sent to the LLM for inference.\n",
    "\n",
    "from langchain.prompts import ChatPromptTemplate\n",
    "from IPython.display import display, Markdown\n",
    "\n",
    "# Define input variables\n",
    "patient_type = \"5 year-old\"\n",
    "disease = \"epilepsy\"\n",
    "\n",
    "# Define a role-based prompt using variable placeholders\n",
    "messages = [\n",
    "    (\"system\",\n",
    "     \"You are a knowledgeable medical provider. Provide clear, evidence-based explanations appropriate for a {patient_type} patient.\"),\n",
    "\n",
    "    (\"human\",\n",
    "     \"What is {disease}? What are its common symptoms and treatments?\")\n",
    "]\n",
    "\n",
    "# Create a prompt template with dynamic inputs\n",
    "prompt_template = ChatPromptTemplate.from_messages(messages)\n",
    "\n",
    "# Fill the template with actual values\n",
    "prompt = prompt_template.invoke({\n",
    "    \"patient_type\": patient_type,\n",
    "    \"disease\": disease\n",
    "})\n",
    "\n",
    "# Run the model with the constructed prompt\n",
    "response = model.invoke(prompt)\n",
    "\n",
    "# Display the generated answer\n",
    "display(Markdown(\"### AI Response\"))\n",
    "display(Markdown(response.content))\n"
   ],
   "id": "c87b037636a9b61f",
   "outputs": [
    {
     "data": {
      "text/plain": [
       "<IPython.core.display.Markdown object>"
      ],
      "text/markdown": "### AI Response"
     },
     "metadata": {},
     "output_type": "display_data"
    },
    {
     "data": {
      "text/plain": [
       "<IPython.core.display.Markdown object>"
      ],
      "text/markdown": "Epilepsy is a condition where someone has seizures because their brain is not working as it should sometimes. Think of the brain like a traffic director that helps guide all your actions, from walking to playing games or eating. When something goes wrong in this system, like too many cars going too fast without following rules, it can cause strange things to happen.\n\n### Common Symptoms\nThe most common symptom is having seizures, which look different for each person and can be:\n1. **Staring spells** where you just stand still and don't do anything.\n2. **Fits** that might make your arms or legs move in ways they normally don't.\n3. **Confusion**, acting strange or not knowing what's going on around them.\n4. **Convulsions** which are big shaking movements.\n\n### Treatments\nThere are several ways to treat epilepsy, and the main goal is to help you have fewer seizures:\n1. **Medicines**: Doctors might prescribe special pills that can calm down your brain signals, making seizures less likely.\n2. **Special diets**: Sometimes following a very strict diet can help stop seizures in kids who respond well.\n3. **Surgery**: If the problem comes from a specific spot in the brain, doctors might remove part of it to take away the bad signals causing seizures.\n4. **Stimulation devices**: There are tiny devices that can be put into your body that help control seizure activity.\n\n### Why Treatments Work\nThese treatments work by helping balance the signals in your brain. Just like how traffic lights help cars move safely, these treatments try to guide your brain's signals so they don't suddenly go crazy and cause seizures.\n\nRemember, epilepsy is not something you can catch from someone else or eat too much of a certain thing; it's a bit more complex than that! It's just about the way your brain sometimes doesn't work quite right. Your doctors are here to help figure out what makes your brain act up so we can get those seizures under control.\n\nIf you ever have worries or questions, feel free to ask your parents or your healthcare provider to explain it in a way you understand better!"
     },
     "metadata": {},
     "output_type": "display_data"
    }
   ],
   "execution_count": 67
  },
  {
   "metadata": {
    "ExecuteTime": {
     "end_time": "2025-05-15T22:54:42.821541Z",
     "start_time": "2025-05-15T22:54:42.819530Z"
    }
   },
   "cell_type": "code",
   "source": [
    "# -----------------------------------------------------------\n",
    "# 3.2. Clinical Note Extraction Prompt\n",
    "# -----------------------------------------------------------\n",
    "# This cell defines a reusable prompt template to guide the LLM\n",
    "# in extracting structured clinical information from a free-text note.\n",
    "\n",
    "from langchain.prompts import ChatPromptTemplate\n",
    "\n",
    "# Define the prompt structure using role-based messages\n",
    "messages_notes = [\n",
    "    (\"system\",\n",
    "     \"You are an advanced medical documentation assistant. \"\n",
    "     \"Your task is to extract key clinical details from unstructured notes in a clear and structured format.\"),\n",
    "\n",
    "    (\"human\",\n",
    "     \"Analyze the following clinical note:\\n\\n\"\n",
    "     \"{patient_note}\\n\\n\"\n",
    "     \"Extract the following:\\n\"\n",
    "     \"1. Patient demographics\\n\"\n",
    "     \"2. Chief complaints\\n\"\n",
    "     \"3. Current medications\\n\"\n",
    "     \"4. Does the patient have asthma? (Yes/No)\\n\\n\"\n",
    "     \"Format your response using clear, structured bullet points.\")\n",
    "]\n",
    "\n",
    "# Create the prompt template with a placeholder for the clinical note\n",
    "prompt_template_notes = ChatPromptTemplate.from_messages(messages_notes)\n"
   ],
   "id": "4c7c6ee3663290b4",
   "outputs": [],
   "execution_count": 68
  },
  {
   "metadata": {},
   "cell_type": "markdown",
   "source": [
    "## 4. Extract and Decode Notes from i2b2 Encounter Table\n",
    "\n",
    "In this section, we explore how to work with real clinical notes stored in a simulated i2b2 `visit_dimension` table. These notes are encoded in BinHex format and need to be decoded before being used in a prompt.\n",
    "\n",
    "### What You'll Do:\n",
    "- **4.1**: Load and inspect the structure of the CSV file containing patient visits and encoded notes.\n",
    "- **4.2**: Interactively select a patient and encounter to preview the decoded note.\n",
    "- **4.3**: Use the previously defined prompt template to extract structured clinical information from a real decoded note.\n",
    "\n",
    "This prepares the data for downstream tasks like summarization or diagnostic tagging using a large language model.\n"
   ],
   "id": "43cf5b1c680a28be"
  },
  {
   "metadata": {
    "ExecuteTime": {
     "end_time": "2025-05-15T22:54:42.874630Z",
     "start_time": "2025-05-15T22:54:42.828370Z"
    }
   },
   "cell_type": "code",
   "source": [
    "# -----------------------------------------------------------\n",
    "# 4.1. Load and Explore Visit Data from i2b2-Mimicking CSV\n",
    "# -----------------------------------------------------------\n",
    "# This cell loads a simulated `visit_dimension` table similar to what is used in i2b2.\n",
    "# It includes clinical notes stored in BinHex format and related visit metadata.\n",
    "\n",
    "# Each record includes:\n",
    "# - encounter_num: Unique visit ID\n",
    "# - patient_num: Patient identifier\n",
    "# - start_date, end_date: Visit timestamps\n",
    "# - location_cd, location_path: Care setting info\n",
    "# - visit_blob: BinHex-encoded clinical note\n",
    "\n",
    "# Purpose:\n",
    "# Load the data into a pandas DataFrame and inspect the structure before decoding.\n",
    "\n",
    "import pandas as pd\n",
    "\n",
    "# Load the visit-level dataset\n",
    "csv_path = \"datafiles/i2b2_encounter_table.csv\"\n",
    "df = pd.read_csv(csv_path)\n",
    "\n",
    "# Preview the first 10 records\n",
    "df.head(10)\n"
   ],
   "id": "initial_id",
   "outputs": [
    {
     "data": {
      "text/plain": [
       "   encounter_num  patient_num  start_date    end_date inout_cd  \\\n",
       "0         475303   1000000001  01/16/2003  01/16/2003        O   \n",
       "1         479681   1000000001  03/29/2007  03/29/2007        O   \n",
       "2         480315   1000000001  09/20/2007  09/20/2007        O   \n",
       "3         480903   1000000001  03/04/2008  03/04/2008        O   \n",
       "4         481398   1000000001  08/11/2008  08/11/2008        O   \n",
       "5         482655   1000000001  05/18/2009  05/18/2009        O   \n",
       "6         471658   1000000002  04/17/1998  04/17/1998        O   \n",
       "7         472076   1000000002  01/04/1999  01/04/1999        O   \n",
       "8         472473   1000000002  08/12/1999  08/12/1999        O   \n",
       "9         472692   1000000002  12/01/1999  12/01/1999        O   \n",
       "\n",
       "          location_cd                           location_path  \\\n",
       "0       ASTHMA_CLINIC     \\Hospital\\Clinic\\Pulmonary\\Asthma\\\\   \n",
       "1       ASTHMA_CLINIC     \\Hospital\\Clinic\\Pulmonary\\Asthma\\\\   \n",
       "2       ASTHMA_CLINIC     \\Hospital\\Clinic\\Pulmonary\\Asthma\\\\   \n",
       "3       ASTHMA_CLINIC     \\Hospital\\Clinic\\Pulmonary\\Asthma\\\\   \n",
       "4       ASTHMA_CLINIC     \\Hospital\\Clinic\\Pulmonary\\Asthma\\\\   \n",
       "5       ASTHMA_CLINIC     \\Hospital\\Clinic\\Pulmonary\\Asthma\\\\   \n",
       "6  GEN_MED_OUTPATIENT  \\Hospital\\Outpatient\\GeneralMedicine\\\\   \n",
       "7  GEN_MED_OUTPATIENT  \\Hospital\\Outpatient\\GeneralMedicine\\\\   \n",
       "8  GEN_MED_OUTPATIENT  \\Hospital\\Outpatient\\GeneralMedicine\\\\   \n",
       "9  GEN_MED_OUTPATIENT  \\Hospital\\Outpatient\\GeneralMedicine\\\\   \n",
       "\n",
       "                                          visit_blob  \n",
       "0  0x2A2A566973697420496E666F726D6174696F6E3A2A2A...  \n",
       "1  0x2A2A566973697420496E666F726D6174696F6E3A2A2A...  \n",
       "2  0x2A2A566973697420496E666F726D6174696F6E3A2A2A...  \n",
       "3  0x5468697320697320612032332D796561722D6F6C6420...  \n",
       "4  0x566973697420496E666F726D6174696F6E3A20202020...  \n",
       "5  0x566973697420496E666F726D6174696F6E3A0A202020...  \n",
       "6  0x2A2A566973697420496E666F726D6174696F6E3A2A2A...  \n",
       "7  0x2A2A566973697420496E666F726D6174696F6E3A2A2A...  \n",
       "8  0x2A2A566973697420496E666F726D6174696F6E3A2A2A...  \n",
       "9  0x2A2A566973697420496E666F726D6174696F6E3A2A2A...  "
      ],
      "text/html": [
       "<div>\n",
       "<style scoped>\n",
       "    .dataframe tbody tr th:only-of-type {\n",
       "        vertical-align: middle;\n",
       "    }\n",
       "\n",
       "    .dataframe tbody tr th {\n",
       "        vertical-align: top;\n",
       "    }\n",
       "\n",
       "    .dataframe thead th {\n",
       "        text-align: right;\n",
       "    }\n",
       "</style>\n",
       "<table border=\"1\" class=\"dataframe\">\n",
       "  <thead>\n",
       "    <tr style=\"text-align: right;\">\n",
       "      <th></th>\n",
       "      <th>encounter_num</th>\n",
       "      <th>patient_num</th>\n",
       "      <th>start_date</th>\n",
       "      <th>end_date</th>\n",
       "      <th>inout_cd</th>\n",
       "      <th>location_cd</th>\n",
       "      <th>location_path</th>\n",
       "      <th>visit_blob</th>\n",
       "    </tr>\n",
       "  </thead>\n",
       "  <tbody>\n",
       "    <tr>\n",
       "      <th>0</th>\n",
       "      <td>475303</td>\n",
       "      <td>1000000001</td>\n",
       "      <td>01/16/2003</td>\n",
       "      <td>01/16/2003</td>\n",
       "      <td>O</td>\n",
       "      <td>ASTHMA_CLINIC</td>\n",
       "      <td>\\Hospital\\Clinic\\Pulmonary\\Asthma\\\\</td>\n",
       "      <td>0x2A2A566973697420496E666F726D6174696F6E3A2A2A...</td>\n",
       "    </tr>\n",
       "    <tr>\n",
       "      <th>1</th>\n",
       "      <td>479681</td>\n",
       "      <td>1000000001</td>\n",
       "      <td>03/29/2007</td>\n",
       "      <td>03/29/2007</td>\n",
       "      <td>O</td>\n",
       "      <td>ASTHMA_CLINIC</td>\n",
       "      <td>\\Hospital\\Clinic\\Pulmonary\\Asthma\\\\</td>\n",
       "      <td>0x2A2A566973697420496E666F726D6174696F6E3A2A2A...</td>\n",
       "    </tr>\n",
       "    <tr>\n",
       "      <th>2</th>\n",
       "      <td>480315</td>\n",
       "      <td>1000000001</td>\n",
       "      <td>09/20/2007</td>\n",
       "      <td>09/20/2007</td>\n",
       "      <td>O</td>\n",
       "      <td>ASTHMA_CLINIC</td>\n",
       "      <td>\\Hospital\\Clinic\\Pulmonary\\Asthma\\\\</td>\n",
       "      <td>0x2A2A566973697420496E666F726D6174696F6E3A2A2A...</td>\n",
       "    </tr>\n",
       "    <tr>\n",
       "      <th>3</th>\n",
       "      <td>480903</td>\n",
       "      <td>1000000001</td>\n",
       "      <td>03/04/2008</td>\n",
       "      <td>03/04/2008</td>\n",
       "      <td>O</td>\n",
       "      <td>ASTHMA_CLINIC</td>\n",
       "      <td>\\Hospital\\Clinic\\Pulmonary\\Asthma\\\\</td>\n",
       "      <td>0x5468697320697320612032332D796561722D6F6C6420...</td>\n",
       "    </tr>\n",
       "    <tr>\n",
       "      <th>4</th>\n",
       "      <td>481398</td>\n",
       "      <td>1000000001</td>\n",
       "      <td>08/11/2008</td>\n",
       "      <td>08/11/2008</td>\n",
       "      <td>O</td>\n",
       "      <td>ASTHMA_CLINIC</td>\n",
       "      <td>\\Hospital\\Clinic\\Pulmonary\\Asthma\\\\</td>\n",
       "      <td>0x566973697420496E666F726D6174696F6E3A20202020...</td>\n",
       "    </tr>\n",
       "    <tr>\n",
       "      <th>5</th>\n",
       "      <td>482655</td>\n",
       "      <td>1000000001</td>\n",
       "      <td>05/18/2009</td>\n",
       "      <td>05/18/2009</td>\n",
       "      <td>O</td>\n",
       "      <td>ASTHMA_CLINIC</td>\n",
       "      <td>\\Hospital\\Clinic\\Pulmonary\\Asthma\\\\</td>\n",
       "      <td>0x566973697420496E666F726D6174696F6E3A0A202020...</td>\n",
       "    </tr>\n",
       "    <tr>\n",
       "      <th>6</th>\n",
       "      <td>471658</td>\n",
       "      <td>1000000002</td>\n",
       "      <td>04/17/1998</td>\n",
       "      <td>04/17/1998</td>\n",
       "      <td>O</td>\n",
       "      <td>GEN_MED_OUTPATIENT</td>\n",
       "      <td>\\Hospital\\Outpatient\\GeneralMedicine\\\\</td>\n",
       "      <td>0x2A2A566973697420496E666F726D6174696F6E3A2A2A...</td>\n",
       "    </tr>\n",
       "    <tr>\n",
       "      <th>7</th>\n",
       "      <td>472076</td>\n",
       "      <td>1000000002</td>\n",
       "      <td>01/04/1999</td>\n",
       "      <td>01/04/1999</td>\n",
       "      <td>O</td>\n",
       "      <td>GEN_MED_OUTPATIENT</td>\n",
       "      <td>\\Hospital\\Outpatient\\GeneralMedicine\\\\</td>\n",
       "      <td>0x2A2A566973697420496E666F726D6174696F6E3A2A2A...</td>\n",
       "    </tr>\n",
       "    <tr>\n",
       "      <th>8</th>\n",
       "      <td>472473</td>\n",
       "      <td>1000000002</td>\n",
       "      <td>08/12/1999</td>\n",
       "      <td>08/12/1999</td>\n",
       "      <td>O</td>\n",
       "      <td>GEN_MED_OUTPATIENT</td>\n",
       "      <td>\\Hospital\\Outpatient\\GeneralMedicine\\\\</td>\n",
       "      <td>0x2A2A566973697420496E666F726D6174696F6E3A2A2A...</td>\n",
       "    </tr>\n",
       "    <tr>\n",
       "      <th>9</th>\n",
       "      <td>472692</td>\n",
       "      <td>1000000002</td>\n",
       "      <td>12/01/1999</td>\n",
       "      <td>12/01/1999</td>\n",
       "      <td>O</td>\n",
       "      <td>GEN_MED_OUTPATIENT</td>\n",
       "      <td>\\Hospital\\Outpatient\\GeneralMedicine\\\\</td>\n",
       "      <td>0x2A2A566973697420496E666F726D6174696F6E3A2A2A...</td>\n",
       "    </tr>\n",
       "  </tbody>\n",
       "</table>\n",
       "</div>"
      ]
     },
     "execution_count": 69,
     "metadata": {},
     "output_type": "execute_result"
    }
   ],
   "execution_count": 69
  },
  {
   "metadata": {
    "ExecuteTime": {
     "end_time": "2025-05-15T22:54:42.916544Z",
     "start_time": "2025-05-15T22:54:42.895425Z"
    }
   },
   "cell_type": "code",
   "source": [
    "# -----------------------------------------------------------\n",
    "# 4.2. Interactive Exploration and Decoding of Clinical Notes\n",
    "# -----------------------------------------------------------\n",
    "# This cell allows users to interactively select a patient and encounter\n",
    "# to preview the decoded clinical note (stored as BinHex in the dataset).\n",
    "\n",
    "import binascii\n",
    "import ipywidgets as widgets\n",
    "from IPython.display import display, Markdown\n",
    "\n",
    "# Step 1: Create dropdown for unique patient IDs\n",
    "distinct_patients = sorted(df['patient_num'].unique())\n",
    "\n",
    "patient_dropdown = widgets.Dropdown(\n",
    "    options=distinct_patients,\n",
    "    description=\"Patient #:\",\n",
    "    layout=widgets.Layout(width='25%')\n",
    ")\n",
    "\n",
    "# Step 2: Encounter dropdown (updates based on patient selection)\n",
    "encounter_dropdown = widgets.Dropdown(\n",
    "    options=[],\n",
    "    description=\"Encounter #:\",\n",
    "    layout=widgets.Layout(width='25%')\n",
    ")\n",
    "\n",
    "# Step 3: Update encounters dynamically when patient is selected\n",
    "def update_encounters(*args):\n",
    "    patient_encounters = df[df['patient_num'] == patient_dropdown.value]['encounter_num'].tolist()\n",
    "    encounter_dropdown.options = patient_encounters\n",
    "\n",
    "# Step 4: Decode and display the selected clinical note\n",
    "def decode_and_preview(patient_num, encounter_num):\n",
    "    selected_row = df[\n",
    "        (df['patient_num'] == patient_num) &\n",
    "        (df['encounter_num'] == encounter_num)\n",
    "    ].iloc[0]\n",
    "\n",
    "    hex_blob = selected_row[\"visit_blob\"].replace(\"0x\", \"\")\n",
    "    decoded_note = binascii.unhexlify(hex_blob).decode(\"utf-8\", errors=\"ignore\")\n",
    "\n",
    "    display(Markdown(f\"### Clinical Note Preview (Patient {patient_num}, Encounter {encounter_num})\"))\n",
    "    display(Markdown(f\"```text\\n{decoded_note}\\n```\"))\n",
    "\n",
    "# Step 5: Set up dropdown linkage and render interface\n",
    "patient_dropdown.observe(update_encounters, names='value')\n",
    "update_encounters()\n",
    "\n",
    "widgets.interact(\n",
    "    decode_and_preview,\n",
    "    patient_num=patient_dropdown,\n",
    "    encounter_num=encounter_dropdown\n",
    ")\n"
   ],
   "id": "bf423cd2524760ce",
   "outputs": [
    {
     "data": {
      "text/plain": [
       "interactive(children=(Dropdown(description='Patient #:', layout=Layout(width='25%'), options=(np.int64(1000000…"
      ],
      "application/vnd.jupyter.widget-view+json": {
       "version_major": 2,
       "version_minor": 0,
       "model_id": "1585294996eb4537a7eec16cce20a086"
      }
     },
     "metadata": {},
     "output_type": "display_data"
    },
    {
     "data": {
      "text/plain": [
       "<function __main__.decode_and_preview(patient_num, encounter_num)>"
      ]
     },
     "execution_count": 70,
     "metadata": {},
     "output_type": "execute_result"
    }
   ],
   "execution_count": 70
  },
  {
   "metadata": {
    "ExecuteTime": {
     "end_time": "2025-05-15T22:54:50.082874Z",
     "start_time": "2025-05-15T22:54:42.937212Z"
    }
   },
   "cell_type": "code",
   "source": [
    "# -----------------------------------------------------------\n",
    "# 4.3. Analyze a Real Patient Note Using the Prompt\n",
    "# -----------------------------------------------------------\n",
    "# This cell selects a decoded clinical note for a given patient and encounter,\n",
    "# fills the clinical extraction prompt (prepared in Cell 3.2), and runs it through the LLM.\n",
    "\n",
    "# Define patient and encounter to analyze\n",
    "patient_num = 1000000002\n",
    "encounter_num = 475326\n",
    "\n",
    "# Extract and decode the clinical note\n",
    "selected_row = df[\n",
    "    (df['patient_num'] == patient_num) &\n",
    "    (df['encounter_num'] == encounter_num)\n",
    "].iloc[0]\n",
    "\n",
    "hex_blob = selected_row[\"visit_blob\"].replace(\"0x\", \"\")\n",
    "decoded_note = binascii.unhexlify(hex_blob).decode(\"utf-8\", errors=\"ignore\")\n",
    "\n",
    "# Fill the template with the note text\n",
    "filled_prompt = prompt_template_notes.invoke({\"patient_note\": decoded_note})\n",
    "\n",
    "# Invoke the model with the prompt\n",
    "clinical_response = model.invoke(filled_prompt)\n",
    "\n",
    "# Display the structured output\n",
    "from IPython.display import display, Markdown\n",
    "display(Markdown(\"### Extracted Clinical Information\"))\n",
    "display(Markdown(clinical_response.content))\n"
   ],
   "id": "7710a63cdb61efe2",
   "outputs": [
    {
     "data": {
      "text/plain": [
       "<IPython.core.display.Markdown object>"
      ],
      "text/markdown": "### Extracted Clinical Information"
     },
     "metadata": {},
     "output_type": "display_data"
    },
    {
     "data": {
      "text/plain": [
       "<IPython.core.display.Markdown object>"
      ],
      "text/markdown": "### Extracted Information\n\n**Patient Demographics:**\n- **ID:** 1000000002\n- **Date of Visit:** January 28, 2003\n- **Encounter ID:** 475326\n- **Age:** 37 years\n- **Gender:** Female\n- **Ethnicity:** White\n- **Language Spoken:** Spanish\n\n**Chief Complaints:**\n1. Hair loss (persistent over several months)\n2. Severe manic behavior episodes (intensifying in nature)\n3. Headaches, specifically frontal region throbbing and only partially relieved by rest and analgesics\n4. Ongoing respiratory difficulties including shortness of breath, wheezing, and difficulty swallowing\n\n**Current Medications:**\n- **Claritin Reditab 10mg:** Used for allergy relief with moderate symptomatic improvement in throat pain and respiratory discomfort.\n- **Desipramine Hydrochloride 25mg:** Effective for depressive episodes but less so for manic episodes.\n\n**Asthma Inquiry:**\n- **Response:** No\n\n### Additional Information\n- **Tobacco Use:** Continuous, acknowledged as a factor contributing to her respiratory concerns.\n- **Alcohol and Drug Use:** Refrained from alcohol and drugs.\n- **Past Visit:** Last visit on September 24, 2001.\n\n**Plan of Action:**\n- **Referral:** Dermatology for alopecia evaluation.\n- **Psychiatric Management:** Adjustment of bipolar disorder medication regimen (potentially increasing Desipramine or introducing a mood stabilizer).\n- **Headache Treatment:** Trial of tricyclic antidepressant or prolonged analgesics, emphasizing hydration and rest.\n- **Lifestyle Recommendations:** Smoking cessation and introduction of proton pump inhibitors for potential reflux management.\n\n**Follow-Up:**\n- Immediate contact if symptoms do not improve within the week.\n- Monthly follow-up appointment to assess treatment effectiveness and make adjustments as needed.\n- Importance of comprehensive education about chronic condition management highlighted."
     },
     "metadata": {},
     "output_type": "display_data"
    }
   ],
   "execution_count": 71
  }
 ],
 "metadata": {
  "kernelspec": {
   "display_name": "Python 3",
   "language": "python",
   "name": "python3"
  },
  "language_info": {
   "codemirror_mode": {
    "name": "ipython",
    "version": 2
   },
   "file_extension": ".py",
   "mimetype": "text/x-python",
   "name": "python",
   "nbconvert_exporter": "python",
   "pygments_lexer": "ipython2",
   "version": "2.7.6"
  }
 },
 "nbformat": 4,
 "nbformat_minor": 5
}
