{
 "cells": [
  {
   "metadata": {},
   "cell_type": "markdown",
   "source": [
    "![i2b2 Logo](./images/transmart-logo.png)\n",
    "\n",
    "# Using LLM for Clinical Note Analysis (Zero-shot)\n",
    "\n",
    "This notebook demonstrates how to use a **locally hosted large language model (LLM)** with LangChain and Ollama to analyze clinical content in a zero-shot setting—without prior training or fine-tuning.\n",
    "\n",
    "You will walk through a structured process for:\n",
    "- Loading a local LLM (e.g., Qwen or DeepSeek via Ollama)\n",
    "- Running basic clinical queries using system and user messages\n",
    "- Creating reusable prompt templates for dynamic disease-specific explanations\n",
    "- Preparing a prompt for structured clinical note extraction\n",
    "- Applying the LLM to decode and analyze real patient notes\n",
    "\n",
    "Each cell builds on the previous one, moving from simple interactions to more advanced, structured information extraction from unstructured clinical text.\n"
   ],
   "id": "bf2bc9b0fb813186"
  },
  {
   "metadata": {
    "ExecuteTime": {
     "end_time": "2025-05-16T21:24:24.566053Z",
     "start_time": "2025-05-16T21:24:24.537197Z"
    }
   },
   "cell_type": "code",
   "source": [
    "# -----------------------------------------------------------\n",
    "# 1. Load the Ollama Model\n",
    "# -----------------------------------------------------------\n",
    "# This cell loads a local Large Language Model (LLM) using LangChain's\n",
    "# `ChatOllama` wrapper. Make sure the model has been pulled via Ollama CLI before use.\n",
    "\n",
    "# To explore available models, visit:\n",
    "# - Ollama Library: https://ollama.com/library\n",
    "# - Hugging Face (for embeddings and additional models): https://huggingface.co/models\n",
    "\n",
    "from langchain_ollama import ChatOllama\n",
    "\n",
    "# Define the model name — make sure this model is already downloaded using:\n",
    "#   ollama pull deepseek-v2:16b\n",
    "model_name = \"qwen2\"  # Alternatives: \"qwen2\", \"llama3\", etc.\n",
    "\n",
    "# Initialize the model with LangChain\n",
    "model = ChatOllama(model=model_name)\n",
    "\n",
    "print(f\"✅ Model '{model_name}' is loaded and ready to use.\")\n"
   ],
   "id": "82e6a97150f1d06f",
   "outputs": [
    {
     "name": "stdout",
     "output_type": "stream",
     "text": [
      "✅ Model 'qwen2' is loaded and ready to use.\n"
     ]
    }
   ],
   "execution_count": 72
  },
  {
   "metadata": {},
   "cell_type": "markdown",
   "source": [
    "## 2. Basic Prompt Interaction - Simple Query\n",
    "\n",
    "<img src=\"./images/basic_prompt.png\" alt=\"i2b2 Logo\" width=\"900\">\n",
    "\n"
   ],
   "id": "98d1e0333b2bd856"
  },
  {
   "metadata": {
    "ExecuteTime": {
     "end_time": "2025-05-16T21:24:32.329075Z",
     "start_time": "2025-05-16T21:24:24.600343Z"
    }
   },
   "cell_type": "code",
   "source": [
    "# -----------------------------------------------------------\n",
    "# 2. Run a Simple Clinical Query with System + User Prompts\n",
    "# -----------------------------------------------------------\n",
    "# This tests the model by asking a simple clinical question using structured messages.\n",
    "\n",
    "from langchain_core.messages import HumanMessage, SystemMessage\n",
    "from IPython.display import display, Markdown\n",
    "\n",
    "\n",
    "messages = [\n",
    "    SystemMessage(content=(\n",
    "        \"You are a knowledgeable medical provider. \"\n",
    "        \"Provide clear, evidence-based explanations about a medical conditions.\"\n",
    "    )),\n",
    "    HumanMessage(content=\"What is asthma? What are its common symptoms and treatments?\")\n",
    "]\n",
    "\n",
    "# Run inference\n",
    "response = model.invoke(messages)\n",
    "\n",
    "# Display result\n",
    "display(Markdown(\"### Model Response:\"))\n",
    "display(Markdown(response.content))\n"
   ],
   "id": "e019e06b683e2ea1",
   "outputs": [
    {
     "data": {
      "text/plain": [
       "<IPython.core.display.Markdown object>"
      ],
      "text/markdown": "### Model Response:"
     },
     "metadata": {},
     "output_type": "display_data"
    },
    {
     "data": {
      "text/plain": [
       "<IPython.core.display.Markdown object>"
      ],
      "text/markdown": "Asthma is a long-term, chronic condition that affects the airways in the lungs. It involves inflammation and narrowing of the bronchial tubes, which carry air into and out of the lungs. This inflammation causes swelling and mucus production, making it difficult for air to flow through them.\n\n### Common Symptoms\n\nThe common symptoms of asthma include:\n\n1. **Recurrent Coughing**: Often occurring at night or early in the morning.\n2. **Wheezing**: A whistling sound when breathing, especially during exhalation.\n3. **Breathlessness**: Difficulty in breathing both on exertion and at rest.\n4. **Chest Tightness or Pressure**: Often described as a sensation of tightness around the chest.\n5. **Prolonged Exhalation**: The typical \"whooshing\" sound that occurs during expiration.\n\n### Causes\n\nAsthma is typically triggered by allergens, exercise, cold weather, air pollution, smoking, and other irritants in the air. It can affect people of all ages but is most commonly diagnosed in children under 12 years old.\n\n### Treatments\n\n#### Medications\nAsthma treatment aims to control inflammation and reduce symptoms or prevent asthma attacks:\n\n- **Inhaled Corticosteroids**: These are corticosteroid medications that you inhale through a metered-dose inhaler or a nebulizer. They help decrease swelling in the airways.\n  \n  - **Short-acting bronchodilators (SABAs)**: These include albuterol, salmeterol, and formoterol. They are used to quickly relieve symptoms of asthma when needed.\n\n#### Lifestyle Changes\nModifying daily activities can also help manage asthma:\n\n1. **Avoiding Triggers**: Identifying and avoiding allergens like dust mites, pet dander, pollen, and mold is crucial.\n2. **Physical Activity**: Regular exercise can improve lung function but needs to be carefully planned to avoid triggers.\n\n#### Long-term Management\n- **Long-term Control Medications**: Apart from corticosteroids, long-acting bronchodilators like salmeterol or formoterol are used daily to keep the airways open and prevent symptoms.\n- **Peak Flow Meter**: Monitoring peak expiratory flow can help identify when asthma is worsening before symptoms appear.\n\n#### Emergency Management\n- **Quick-relief Medications**: These are inhaled medications taken during an asthma attack. Examples include albuterol inhalers, which are typically used to relieve symptoms quickly.\n\n### Monitoring and Education\nRegular check-ups with a healthcare provider are essential to monitor lung function and adjust treatment as needed. Patients should learn how to recognize their triggers, understand the severity of their condition, and know when to seek emergency care.\n\n### Conclusion\nAsthma management is multifaceted, involving both medical treatments and lifestyle changes tailored to each individual's needs. Effective management can significantly improve quality of life by reducing symptoms and preventing asthma attacks."
     },
     "metadata": {},
     "output_type": "display_data"
    }
   ],
   "execution_count": 73
  },
  {
   "metadata": {},
   "cell_type": "markdown",
   "source": [
    "## 3. Using ChatPromptTemplate for Dynamic Prompts\n",
    "\n",
    "This section shows how to create reusable prompt templates using LangChain’s `ChatPromptTemplate`.\n",
    "\n",
    "- **3.1**: Runs a dynamic medical query by filling in a condition (e.g., epilepsy) and a patient type (e.g., child).\n",
    "- **3.2**: Prepares a prompt template for clinical note extraction. This will be used later in Section 4 when we insert actual patient notes.\n",
    "\n",
    "Prompt templates make it easier to reuse the same structure with different inputs.\n",
    "\n",
    "<img src=\"./images/prompt_template.png\" alt=\"Prompt Template\" width=\"900\">\n"
   ],
   "id": "f02e27596486474"
  },
  {
   "metadata": {
    "ExecuteTime": {
     "end_time": "2025-05-16T21:24:36.519127Z",
     "start_time": "2025-05-16T21:24:32.340626Z"
    }
   },
   "cell_type": "code",
   "source": [
    "# -----------------------------------------------------------\n",
    "# 3.1. Create a Reusable Prompt Template (Dynamic Querying)\n",
    "# -----------------------------------------------------------\n",
    "# This cell demonstrates how to build a dynamic prompt template using placeholders\n",
    "# for different medical conditions and patient profiles. The prompt is populated\n",
    "# with variables at runtime and sent to the LLM for inference.\n",
    "\n",
    "from langchain.prompts import ChatPromptTemplate\n",
    "from IPython.display import display, Markdown\n",
    "\n",
    "# Define input variables\n",
    "patient_type = \"5 year-old\"\n",
    "disease = \"epilepsy\"\n",
    "\n",
    "# Define a role-based prompt using variable placeholders\n",
    "messages = [\n",
    "    (\"system\",\n",
    "     \"You are a knowledgeable medical provider. Provide clear, evidence-based explanations appropriate for a {patient_type} patient.\"),\n",
    "\n",
    "    (\"human\",\n",
    "     \"What is {disease}? What are its common symptoms and treatments?\")\n",
    "]\n",
    "\n",
    "# Create a prompt template with dynamic inputs\n",
    "prompt_template = ChatPromptTemplate.from_messages(messages)\n",
    "\n",
    "# Fill the template with actual values\n",
    "prompt = prompt_template.invoke({\n",
    "    \"patient_type\": patient_type,\n",
    "    \"disease\": disease\n",
    "})\n",
    "\n",
    "# Run the model with the constructed prompt\n",
    "response = model.invoke(prompt)\n",
    "\n",
    "# Display the generated answer\n",
    "display(Markdown(\"### AI Response\"))\n",
    "display(Markdown(response.content))\n"
   ],
   "id": "c87b037636a9b61f",
   "outputs": [
    {
     "data": {
      "text/plain": [
       "<IPython.core.display.Markdown object>"
      ],
      "text/markdown": "### AI Response"
     },
     "metadata": {},
     "output_type": "display_data"
    },
    {
     "data": {
      "text/plain": [
       "<IPython.core.display.Markdown object>"
      ],
      "text/markdown": "Epilepsy is a condition where someone has seizures because their brain's electrical signals don't work properly. Imagine your brain as a little town with lots of traffic lights that control when cars can go or stop. In epilepsy, these traffic lights sometimes get confused and change too quickly or randomly, making it hard for the town to function smoothly. When this happens, it might cause seizures.\n\n**Common Symptoms:**\n1. **Sudden Seizures:** These are like the town suddenly going into chaos. Some kids may freeze in place, others might have a lot of jerky movements all over their body.\n2. **Confusion or Changes in Behavior:** After some seizures, kids might be very confused and not remember things that just happened or seem upset for no reason.\n3. **Staring Spells:** Sometimes, during a seizure, kids will just stare into space without moving much.\n\n**Treatments:**\n1. **Medications:** Doctors often give medicines to help control the brain's signals so they don't get confused as often. It's like giving the traffic lights special instructions on when to change.\n2. **Special Diets:** Sometimes, kids need to follow very specific diets that limit certain foods because they can make seizures happen less often.\n3. **Surgery or Devices:** In some cases, doctors might do surgery to fix parts of the brain that are causing seizures or use a device like a pacemaker for the brain (VNS) to help control them.\n\nThe goal is to keep kids as healthy and happy as possible while managing their epilepsy. It's important for parents and teachers to learn about what can trigger seizures, so they know how to make safe environments and react when needed."
     },
     "metadata": {},
     "output_type": "display_data"
    }
   ],
   "execution_count": 74
  },
  {
   "metadata": {
    "ExecuteTime": {
     "end_time": "2025-05-16T21:24:36.537168Z",
     "start_time": "2025-05-16T21:24:36.535374Z"
    }
   },
   "cell_type": "code",
   "source": [
    "# -----------------------------------------------------------\n",
    "# 3.2. Clinical Note Extraction Prompt\n",
    "# -----------------------------------------------------------\n",
    "# This cell defines a reusable prompt template to guide the LLM\n",
    "# in extracting structured clinical information from a free-text note.\n",
    "\n",
    "from langchain.prompts import ChatPromptTemplate\n",
    "\n",
    "# Define the prompt structure using role-based messages\n",
    "messages_notes = [\n",
    "    (\"system\",\n",
    "     \"You are an advanced medical documentation assistant. \"\n",
    "     \"Your task is to extract key clinical details from unstructured notes in a clear and structured format.\"),\n",
    "\n",
    "    (\"human\",\n",
    "     \"Analyze the following clinical note:\\n\\n\"\n",
    "     \"{patient_note}\\n\\n\"\n",
    "     \"Extract the following:\\n\"\n",
    "     \"1. Patient demographics\\n\"\n",
    "     \"2. Chief complaints\\n\"\n",
    "     \"3. Current medications\\n\"\n",
    "     \"4. Does the patient have asthma? (Yes/No)\\n\\n\"\n",
    "     \"Format your response using clear, structured bullet points.\")\n",
    "]\n",
    "\n",
    "# Create the prompt template with a placeholder for the clinical note\n",
    "prompt_template_notes = ChatPromptTemplate.from_messages(messages_notes)\n"
   ],
   "id": "4c7c6ee3663290b4",
   "outputs": [],
   "execution_count": 75
  },
  {
   "metadata": {},
   "cell_type": "markdown",
   "source": [
    "## 4. Extract and Decode Notes from i2b2 Encounter Table\n",
    "\n",
    "In this section, we explore how to work with real clinical notes stored in a simulated i2b2 `visit_dimension` table. These notes are encoded in BinHex format and need to be decoded before being used in a prompt.\n",
    "\n",
    "### What You'll Do:\n",
    "- **4.1**: Load and inspect the structure of the CSV file containing patient visits and encoded notes.\n",
    "- **4.2**: Interactively select a patient and encounter to preview the decoded note.\n",
    "- **4.3**: Use the previously defined prompt template to extract structured clinical information from a real decoded note.\n",
    "\n",
    "This prepares the data for downstream tasks like summarization or diagnostic tagging using a large language model.\n"
   ],
   "id": "43cf5b1c680a28be"
  },
  {
   "metadata": {
    "ExecuteTime": {
     "end_time": "2025-05-16T21:24:36.593381Z",
     "start_time": "2025-05-16T21:24:36.543878Z"
    }
   },
   "cell_type": "code",
   "source": [
    "# -----------------------------------------------------------\n",
    "# 4.1. Load and Explore Visit Data from i2b2-Mimicking CSV\n",
    "# -----------------------------------------------------------\n",
    "# This cell loads a simulated `visit_dimension` table similar to what is used in i2b2.\n",
    "# It includes clinical notes stored in BinHex format and related visit metadata.\n",
    "\n",
    "# Each record includes:\n",
    "# - encounter_num: Unique visit ID\n",
    "# - patient_num: Patient identifier\n",
    "# - start_date, end_date: Visit timestamps\n",
    "# - location_cd, location_path: Care setting info\n",
    "# - visit_blob: BinHex-encoded clinical note\n",
    "\n",
    "# Purpose:\n",
    "# Load the data into a pandas DataFrame and inspect the structure before decoding.\n",
    "\n",
    "import pandas as pd\n",
    "\n",
    "# Load the visit-level dataset\n",
    "csv_path = \"datafiles/i2b2_encounter_table.csv\"\n",
    "df = pd.read_csv(csv_path)\n",
    "\n",
    "# Preview the first 10 records\n",
    "df.head(10)\n"
   ],
   "id": "initial_id",
   "outputs": [
    {
     "data": {
      "text/plain": [
       "   encounter_num  patient_num  start_date    end_date inout_cd  \\\n",
       "0         475303   1000000001  01/16/2003  01/16/2003        O   \n",
       "1         479681   1000000001  03/29/2007  03/29/2007        O   \n",
       "2         480315   1000000001  09/20/2007  09/20/2007        O   \n",
       "3         480903   1000000001  03/04/2008  03/04/2008        O   \n",
       "4         481398   1000000001  08/11/2008  08/11/2008        O   \n",
       "5         482655   1000000001  05/18/2009  05/18/2009        O   \n",
       "6         471658   1000000002  04/17/1998  04/17/1998        O   \n",
       "7         472076   1000000002  01/04/1999  01/04/1999        O   \n",
       "8         472473   1000000002  08/12/1999  08/12/1999        O   \n",
       "9         472692   1000000002  12/01/1999  12/01/1999        O   \n",
       "\n",
       "          location_cd                           location_path  \\\n",
       "0       ASTHMA_CLINIC     \\Hospital\\Clinic\\Pulmonary\\Asthma\\\\   \n",
       "1       ASTHMA_CLINIC     \\Hospital\\Clinic\\Pulmonary\\Asthma\\\\   \n",
       "2       ASTHMA_CLINIC     \\Hospital\\Clinic\\Pulmonary\\Asthma\\\\   \n",
       "3       ASTHMA_CLINIC     \\Hospital\\Clinic\\Pulmonary\\Asthma\\\\   \n",
       "4       ASTHMA_CLINIC     \\Hospital\\Clinic\\Pulmonary\\Asthma\\\\   \n",
       "5       ASTHMA_CLINIC     \\Hospital\\Clinic\\Pulmonary\\Asthma\\\\   \n",
       "6  GEN_MED_OUTPATIENT  \\Hospital\\Outpatient\\GeneralMedicine\\\\   \n",
       "7  GEN_MED_OUTPATIENT  \\Hospital\\Outpatient\\GeneralMedicine\\\\   \n",
       "8  GEN_MED_OUTPATIENT  \\Hospital\\Outpatient\\GeneralMedicine\\\\   \n",
       "9  GEN_MED_OUTPATIENT  \\Hospital\\Outpatient\\GeneralMedicine\\\\   \n",
       "\n",
       "                                          visit_blob  \n",
       "0  0x2A2A566973697420496E666F726D6174696F6E3A2A2A...  \n",
       "1  0x2A2A566973697420496E666F726D6174696F6E3A2A2A...  \n",
       "2  0x2A2A566973697420496E666F726D6174696F6E3A2A2A...  \n",
       "3  0x5468697320697320612032332D796561722D6F6C6420...  \n",
       "4  0x566973697420496E666F726D6174696F6E3A20202020...  \n",
       "5  0x566973697420496E666F726D6174696F6E3A0A202020...  \n",
       "6  0x2A2A566973697420496E666F726D6174696F6E3A2A2A...  \n",
       "7  0x2A2A566973697420496E666F726D6174696F6E3A2A2A...  \n",
       "8  0x2A2A566973697420496E666F726D6174696F6E3A2A2A...  \n",
       "9  0x2A2A566973697420496E666F726D6174696F6E3A2A2A...  "
      ],
      "text/html": [
       "<div>\n",
       "<style scoped>\n",
       "    .dataframe tbody tr th:only-of-type {\n",
       "        vertical-align: middle;\n",
       "    }\n",
       "\n",
       "    .dataframe tbody tr th {\n",
       "        vertical-align: top;\n",
       "    }\n",
       "\n",
       "    .dataframe thead th {\n",
       "        text-align: right;\n",
       "    }\n",
       "</style>\n",
       "<table border=\"1\" class=\"dataframe\">\n",
       "  <thead>\n",
       "    <tr style=\"text-align: right;\">\n",
       "      <th></th>\n",
       "      <th>encounter_num</th>\n",
       "      <th>patient_num</th>\n",
       "      <th>start_date</th>\n",
       "      <th>end_date</th>\n",
       "      <th>inout_cd</th>\n",
       "      <th>location_cd</th>\n",
       "      <th>location_path</th>\n",
       "      <th>visit_blob</th>\n",
       "    </tr>\n",
       "  </thead>\n",
       "  <tbody>\n",
       "    <tr>\n",
       "      <th>0</th>\n",
       "      <td>475303</td>\n",
       "      <td>1000000001</td>\n",
       "      <td>01/16/2003</td>\n",
       "      <td>01/16/2003</td>\n",
       "      <td>O</td>\n",
       "      <td>ASTHMA_CLINIC</td>\n",
       "      <td>\\Hospital\\Clinic\\Pulmonary\\Asthma\\\\</td>\n",
       "      <td>0x2A2A566973697420496E666F726D6174696F6E3A2A2A...</td>\n",
       "    </tr>\n",
       "    <tr>\n",
       "      <th>1</th>\n",
       "      <td>479681</td>\n",
       "      <td>1000000001</td>\n",
       "      <td>03/29/2007</td>\n",
       "      <td>03/29/2007</td>\n",
       "      <td>O</td>\n",
       "      <td>ASTHMA_CLINIC</td>\n",
       "      <td>\\Hospital\\Clinic\\Pulmonary\\Asthma\\\\</td>\n",
       "      <td>0x2A2A566973697420496E666F726D6174696F6E3A2A2A...</td>\n",
       "    </tr>\n",
       "    <tr>\n",
       "      <th>2</th>\n",
       "      <td>480315</td>\n",
       "      <td>1000000001</td>\n",
       "      <td>09/20/2007</td>\n",
       "      <td>09/20/2007</td>\n",
       "      <td>O</td>\n",
       "      <td>ASTHMA_CLINIC</td>\n",
       "      <td>\\Hospital\\Clinic\\Pulmonary\\Asthma\\\\</td>\n",
       "      <td>0x2A2A566973697420496E666F726D6174696F6E3A2A2A...</td>\n",
       "    </tr>\n",
       "    <tr>\n",
       "      <th>3</th>\n",
       "      <td>480903</td>\n",
       "      <td>1000000001</td>\n",
       "      <td>03/04/2008</td>\n",
       "      <td>03/04/2008</td>\n",
       "      <td>O</td>\n",
       "      <td>ASTHMA_CLINIC</td>\n",
       "      <td>\\Hospital\\Clinic\\Pulmonary\\Asthma\\\\</td>\n",
       "      <td>0x5468697320697320612032332D796561722D6F6C6420...</td>\n",
       "    </tr>\n",
       "    <tr>\n",
       "      <th>4</th>\n",
       "      <td>481398</td>\n",
       "      <td>1000000001</td>\n",
       "      <td>08/11/2008</td>\n",
       "      <td>08/11/2008</td>\n",
       "      <td>O</td>\n",
       "      <td>ASTHMA_CLINIC</td>\n",
       "      <td>\\Hospital\\Clinic\\Pulmonary\\Asthma\\\\</td>\n",
       "      <td>0x566973697420496E666F726D6174696F6E3A20202020...</td>\n",
       "    </tr>\n",
       "    <tr>\n",
       "      <th>5</th>\n",
       "      <td>482655</td>\n",
       "      <td>1000000001</td>\n",
       "      <td>05/18/2009</td>\n",
       "      <td>05/18/2009</td>\n",
       "      <td>O</td>\n",
       "      <td>ASTHMA_CLINIC</td>\n",
       "      <td>\\Hospital\\Clinic\\Pulmonary\\Asthma\\\\</td>\n",
       "      <td>0x566973697420496E666F726D6174696F6E3A0A202020...</td>\n",
       "    </tr>\n",
       "    <tr>\n",
       "      <th>6</th>\n",
       "      <td>471658</td>\n",
       "      <td>1000000002</td>\n",
       "      <td>04/17/1998</td>\n",
       "      <td>04/17/1998</td>\n",
       "      <td>O</td>\n",
       "      <td>GEN_MED_OUTPATIENT</td>\n",
       "      <td>\\Hospital\\Outpatient\\GeneralMedicine\\\\</td>\n",
       "      <td>0x2A2A566973697420496E666F726D6174696F6E3A2A2A...</td>\n",
       "    </tr>\n",
       "    <tr>\n",
       "      <th>7</th>\n",
       "      <td>472076</td>\n",
       "      <td>1000000002</td>\n",
       "      <td>01/04/1999</td>\n",
       "      <td>01/04/1999</td>\n",
       "      <td>O</td>\n",
       "      <td>GEN_MED_OUTPATIENT</td>\n",
       "      <td>\\Hospital\\Outpatient\\GeneralMedicine\\\\</td>\n",
       "      <td>0x2A2A566973697420496E666F726D6174696F6E3A2A2A...</td>\n",
       "    </tr>\n",
       "    <tr>\n",
       "      <th>8</th>\n",
       "      <td>472473</td>\n",
       "      <td>1000000002</td>\n",
       "      <td>08/12/1999</td>\n",
       "      <td>08/12/1999</td>\n",
       "      <td>O</td>\n",
       "      <td>GEN_MED_OUTPATIENT</td>\n",
       "      <td>\\Hospital\\Outpatient\\GeneralMedicine\\\\</td>\n",
       "      <td>0x2A2A566973697420496E666F726D6174696F6E3A2A2A...</td>\n",
       "    </tr>\n",
       "    <tr>\n",
       "      <th>9</th>\n",
       "      <td>472692</td>\n",
       "      <td>1000000002</td>\n",
       "      <td>12/01/1999</td>\n",
       "      <td>12/01/1999</td>\n",
       "      <td>O</td>\n",
       "      <td>GEN_MED_OUTPATIENT</td>\n",
       "      <td>\\Hospital\\Outpatient\\GeneralMedicine\\\\</td>\n",
       "      <td>0x2A2A566973697420496E666F726D6174696F6E3A2A2A...</td>\n",
       "    </tr>\n",
       "  </tbody>\n",
       "</table>\n",
       "</div>"
      ]
     },
     "execution_count": 76,
     "metadata": {},
     "output_type": "execute_result"
    }
   ],
   "execution_count": 76
  },
  {
   "metadata": {
    "ExecuteTime": {
     "end_time": "2025-05-16T21:24:36.636439Z",
     "start_time": "2025-05-16T21:24:36.614679Z"
    }
   },
   "cell_type": "code",
   "source": [
    "# -----------------------------------------------------------\n",
    "# 4.2. Interactive Exploration and Decoding of Clinical Notes\n",
    "# -----------------------------------------------------------\n",
    "# This cell allows users to interactively select a patient and encounter\n",
    "# to preview the decoded clinical note (stored as BinHex in the dataset).\n",
    "\n",
    "import binascii\n",
    "import ipywidgets as widgets\n",
    "from IPython.display import display, Markdown\n",
    "\n",
    "# Step 1: Create dropdown for unique patient IDs\n",
    "distinct_patients = sorted(df['patient_num'].unique())\n",
    "\n",
    "patient_dropdown = widgets.Dropdown(\n",
    "    options=distinct_patients,\n",
    "    description=\"Patient #:\",\n",
    "    layout=widgets.Layout(width='25%')\n",
    ")\n",
    "\n",
    "# Step 2: Encounter dropdown (updates based on patient selection)\n",
    "encounter_dropdown = widgets.Dropdown(\n",
    "    options=[],\n",
    "    description=\"Encounter #:\",\n",
    "    layout=widgets.Layout(width='25%')\n",
    ")\n",
    "\n",
    "# Step 3: Update encounters dynamically when patient is selected\n",
    "def update_encounters(*args):\n",
    "    patient_encounters = df[df['patient_num'] == patient_dropdown.value]['encounter_num'].tolist()\n",
    "    encounter_dropdown.options = patient_encounters\n",
    "\n",
    "# Step 4: Decode and display the selected clinical note\n",
    "def decode_and_preview(patient_num, encounter_num):\n",
    "    selected_row = df[\n",
    "        (df['patient_num'] == patient_num) &\n",
    "        (df['encounter_num'] == encounter_num)\n",
    "    ].iloc[0]\n",
    "\n",
    "    hex_blob = selected_row[\"visit_blob\"].replace(\"0x\", \"\")\n",
    "    decoded_note = binascii.unhexlify(hex_blob).decode(\"utf-8\", errors=\"ignore\")\n",
    "\n",
    "    display(Markdown(f\"### Clinical Note Preview (Patient {patient_num}, Encounter {encounter_num})\"))\n",
    "    display(Markdown(f\"```text\\n{decoded_note}\\n```\"))\n",
    "\n",
    "# Step 5: Set up dropdown linkage and render interface\n",
    "patient_dropdown.observe(update_encounters, names='value')\n",
    "update_encounters()\n",
    "\n",
    "widgets.interact(\n",
    "    decode_and_preview,\n",
    "    patient_num=patient_dropdown,\n",
    "    encounter_num=encounter_dropdown\n",
    ")\n"
   ],
   "id": "bf423cd2524760ce",
   "outputs": [
    {
     "data": {
      "text/plain": [
       "interactive(children=(Dropdown(description='Patient #:', layout=Layout(width='25%'), options=(np.int64(1000000…"
      ],
      "application/vnd.jupyter.widget-view+json": {
       "version_major": 2,
       "version_minor": 0,
       "model_id": "d40b81f08751438393385baf3b76350f"
      }
     },
     "metadata": {},
     "output_type": "display_data"
    },
    {
     "data": {
      "text/plain": [
       "<function __main__.decode_and_preview(patient_num, encounter_num)>"
      ]
     },
     "execution_count": 77,
     "metadata": {},
     "output_type": "execute_result"
    }
   ],
   "execution_count": 77
  },
  {
   "metadata": {
    "ExecuteTime": {
     "end_time": "2025-05-16T21:24:43.033091Z",
     "start_time": "2025-05-16T21:24:36.657196Z"
    }
   },
   "cell_type": "code",
   "source": [
    "# -----------------------------------------------------------\n",
    "# 4.3. Analyze a Real Patient Note Using the Prompt\n",
    "# -----------------------------------------------------------\n",
    "# This cell selects a decoded clinical note for a given patient and encounter,\n",
    "# fills the clinical extraction prompt (prepared in Cell 3.2), and runs it through the LLM.\n",
    "\n",
    "# Define patient and encounter to analyze\n",
    "patient_num = 1000000002\n",
    "encounter_num = 475326\n",
    "\n",
    "# Extract and decode the clinical note\n",
    "selected_row = df[\n",
    "    (df['patient_num'] == patient_num) &\n",
    "    (df['encounter_num'] == encounter_num)\n",
    "].iloc[0]\n",
    "\n",
    "hex_blob = selected_row[\"visit_blob\"].replace(\"0x\", \"\")\n",
    "decoded_note = binascii.unhexlify(hex_blob).decode(\"utf-8\", errors=\"ignore\")\n",
    "\n",
    "# Fill the template with the note text\n",
    "filled_prompt = prompt_template_notes.invoke({\"patient_note\": decoded_note})\n",
    "\n",
    "# Invoke the model with the prompt\n",
    "clinical_response = model.invoke(filled_prompt)\n",
    "\n",
    "# Display the structured output\n",
    "from IPython.display import display, Markdown\n",
    "display(Markdown(\"### Extracted Clinical Information\"))\n",
    "display(Markdown(clinical_response.content))\n"
   ],
   "id": "7710a63cdb61efe2",
   "outputs": [
    {
     "data": {
      "text/plain": [
       "<IPython.core.display.Markdown object>"
      ],
      "text/markdown": "### Extracted Clinical Information"
     },
     "metadata": {},
     "output_type": "display_data"
    },
    {
     "data": {
      "text/plain": [
       "<IPython.core.display.Markdown object>"
      ],
      "text/markdown": "### Patient Demographics\n\n- **ID Number**: 1000000002\n- **Date of Visit**: January 28, 2003\n- **Encounter ID**: 475326\n- **Age**: 37 years\n- **Sex**: Female\n- **Ethnicity**: White\n- **Language**: Spanish\n\n### Chief Complaints\n\n- **Hair Loss**\n- **Severe Manic Episodes**\n- **Headaches (frontal region, throbbing)**\n- **Throat Pain** (continuous for several weeks)\n- **Ongoing Respiratory Difficulties** (shortness of breath, wheezing)\n\n### Current Medications\n\n- **Claritin Reditab 10mg**: For allergy relief\n- **Desipramine Hydrochloride 25mg**: To manage bipolar disorder\n\n### Diagnosis and Management\n\n1. **Alopecia**: Referral to dermatology for further evaluation.\n2. **Bipolar Disorder, manic phase**: Adjustment in psychiatric medication regimen.\n3. **Chronic Headache**: Differentiation between headache types, management trial with medication.\n4. **Chronic Throat Pain**: Potential causes including reflux or tobacco use.\n\n### Asthma Status\n\n- **Yes**\n\n### Follow-Up and Plan of Care\n\n- **Follow-up referral to dermatology** for alopecia.\n- **Psychiatric coordination** for adjusting bipolar disorder medications.\n- **Headache management trial** with potential lifestyle changes and medication adjustments.\n- **Smoking cessation advice** and proton pump inhibitors prescription.\n- **Laboratory tests monitoring** (complete blood count, liver function).\n- **Lifestyle modifications** including strict adherence to medication regimen and proposed lifestyle changes.\n- **Continuous care** through follow-up appointments and comprehensive education on the importance of follow-up visits."
     },
     "metadata": {},
     "output_type": "display_data"
    }
   ],
   "execution_count": 78
  }
 ],
 "metadata": {
  "kernelspec": {
   "display_name": "Python 3",
   "language": "python",
   "name": "python3"
  },
  "language_info": {
   "codemirror_mode": {
    "name": "ipython",
    "version": 2
   },
   "file_extension": ".py",
   "mimetype": "text/x-python",
   "name": "python",
   "nbconvert_exporter": "python",
   "pygments_lexer": "ipython2",
   "version": "2.7.6"
  }
 },
 "nbformat": 4,
 "nbformat_minor": 5
}
