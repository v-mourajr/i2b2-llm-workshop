{
 "cells": [
  {
   "cell_type": "code",
   "id": "initial_id",
   "metadata": {
    "collapsed": true,
    "ExecuteTime": {
     "end_time": "2025-05-13T15:59:01.567101Z",
     "start_time": "2025-05-13T15:59:01.283869Z"
    }
   },
   "source": [
    "# -----------------------------------------------------------\n",
    "# 1. Load and Explore Visit Data from i2b2-Mimicking CSV\n",
    "# -----------------------------------------------------------\n",
    "# 📌 This notebook demonstrates how to load and inspect clinical notes\n",
    "# encoded in BinHex format from a CSV mimicking the i2b2 `visit_dimension` table.\n",
    "# Each record includes:\n",
    "#   - Encounter number (encounter_num)\n",
    "#   - Patient ID (patient_num)\n",
    "#   - Visit dates (start_date, end_date)\n",
    "#   - Location codes (location_cd, location_path)\n",
    "#   - Encoded clinical notes (visit_blob)\n",
    "\n",
    "# 🔧 Load necessary library\n",
    "import pandas as pd\n",
    "\n",
    "# 📂 Path to the data file\n",
    "csv_path = \"datafiles/i2b2_encounter_table.csv\"\n",
    "\n",
    "# ✅ Load data into a DataFrame\n",
    "df = pd.read_csv(csv_path)\n",
    "\n",
    "# 🔍 Display the first 10 records to preview the data structure\n",
    "df.head(10)\n"
   ],
   "outputs": [
    {
     "data": {
      "text/plain": [
       "   encounter_num  patient_num  start_date    end_date inout_cd  \\\n",
       "0         475303   1000000001  01/16/2003  01/16/2003        O   \n",
       "1         479681   1000000001  03/29/2007  03/29/2007        O   \n",
       "2         480315   1000000001  09/20/2007  09/20/2007        O   \n",
       "3         480903   1000000001  03/04/2008  03/04/2008        O   \n",
       "4         481398   1000000001  08/11/2008  08/11/2008        O   \n",
       "5         482655   1000000001  05/18/2009  05/18/2009        O   \n",
       "6         471658   1000000002  04/17/1998  04/17/1998        O   \n",
       "7         472076   1000000002  01/04/1999  01/04/1999        O   \n",
       "8         472473   1000000002  08/12/1999  08/12/1999        O   \n",
       "9         472692   1000000002  12/01/1999  12/01/1999        O   \n",
       "\n",
       "          location_cd                           location_path  \\\n",
       "0       ASTHMA_CLINIC     \\Hospital\\Clinic\\Pulmonary\\Asthma\\\\   \n",
       "1       ASTHMA_CLINIC     \\Hospital\\Clinic\\Pulmonary\\Asthma\\\\   \n",
       "2       ASTHMA_CLINIC     \\Hospital\\Clinic\\Pulmonary\\Asthma\\\\   \n",
       "3       ASTHMA_CLINIC     \\Hospital\\Clinic\\Pulmonary\\Asthma\\\\   \n",
       "4       ASTHMA_CLINIC     \\Hospital\\Clinic\\Pulmonary\\Asthma\\\\   \n",
       "5       ASTHMA_CLINIC     \\Hospital\\Clinic\\Pulmonary\\Asthma\\\\   \n",
       "6  GEN_MED_OUTPATIENT  \\Hospital\\Outpatient\\GeneralMedicine\\\\   \n",
       "7  GEN_MED_OUTPATIENT  \\Hospital\\Outpatient\\GeneralMedicine\\\\   \n",
       "8  GEN_MED_OUTPATIENT  \\Hospital\\Outpatient\\GeneralMedicine\\\\   \n",
       "9  GEN_MED_OUTPATIENT  \\Hospital\\Outpatient\\GeneralMedicine\\\\   \n",
       "\n",
       "                                          visit_blob  \n",
       "0  0x2A2A566973697420496E666F726D6174696F6E3A2A2A...  \n",
       "1  0x2A2A566973697420496E666F726D6174696F6E3A2A2A...  \n",
       "2  0x2A2A566973697420496E666F726D6174696F6E3A2A2A...  \n",
       "3  0x5468697320697320612032332D796561722D6F6C6420...  \n",
       "4  0x566973697420496E666F726D6174696F6E3A20202020...  \n",
       "5  0x566973697420496E666F726D6174696F6E3A0A202020...  \n",
       "6  0x2A2A566973697420496E666F726D6174696F6E3A2A2A...  \n",
       "7  0x2A2A566973697420496E666F726D6174696F6E3A2A2A...  \n",
       "8  0x2A2A566973697420496E666F726D6174696F6E3A2A2A...  \n",
       "9  0x2A2A566973697420496E666F726D6174696F6E3A2A2A...  "
      ],
      "text/html": [
       "<div>\n",
       "<style scoped>\n",
       "    .dataframe tbody tr th:only-of-type {\n",
       "        vertical-align: middle;\n",
       "    }\n",
       "\n",
       "    .dataframe tbody tr th {\n",
       "        vertical-align: top;\n",
       "    }\n",
       "\n",
       "    .dataframe thead th {\n",
       "        text-align: right;\n",
       "    }\n",
       "</style>\n",
       "<table border=\"1\" class=\"dataframe\">\n",
       "  <thead>\n",
       "    <tr style=\"text-align: right;\">\n",
       "      <th></th>\n",
       "      <th>encounter_num</th>\n",
       "      <th>patient_num</th>\n",
       "      <th>start_date</th>\n",
       "      <th>end_date</th>\n",
       "      <th>inout_cd</th>\n",
       "      <th>location_cd</th>\n",
       "      <th>location_path</th>\n",
       "      <th>visit_blob</th>\n",
       "    </tr>\n",
       "  </thead>\n",
       "  <tbody>\n",
       "    <tr>\n",
       "      <th>0</th>\n",
       "      <td>475303</td>\n",
       "      <td>1000000001</td>\n",
       "      <td>01/16/2003</td>\n",
       "      <td>01/16/2003</td>\n",
       "      <td>O</td>\n",
       "      <td>ASTHMA_CLINIC</td>\n",
       "      <td>\\Hospital\\Clinic\\Pulmonary\\Asthma\\\\</td>\n",
       "      <td>0x2A2A566973697420496E666F726D6174696F6E3A2A2A...</td>\n",
       "    </tr>\n",
       "    <tr>\n",
       "      <th>1</th>\n",
       "      <td>479681</td>\n",
       "      <td>1000000001</td>\n",
       "      <td>03/29/2007</td>\n",
       "      <td>03/29/2007</td>\n",
       "      <td>O</td>\n",
       "      <td>ASTHMA_CLINIC</td>\n",
       "      <td>\\Hospital\\Clinic\\Pulmonary\\Asthma\\\\</td>\n",
       "      <td>0x2A2A566973697420496E666F726D6174696F6E3A2A2A...</td>\n",
       "    </tr>\n",
       "    <tr>\n",
       "      <th>2</th>\n",
       "      <td>480315</td>\n",
       "      <td>1000000001</td>\n",
       "      <td>09/20/2007</td>\n",
       "      <td>09/20/2007</td>\n",
       "      <td>O</td>\n",
       "      <td>ASTHMA_CLINIC</td>\n",
       "      <td>\\Hospital\\Clinic\\Pulmonary\\Asthma\\\\</td>\n",
       "      <td>0x2A2A566973697420496E666F726D6174696F6E3A2A2A...</td>\n",
       "    </tr>\n",
       "    <tr>\n",
       "      <th>3</th>\n",
       "      <td>480903</td>\n",
       "      <td>1000000001</td>\n",
       "      <td>03/04/2008</td>\n",
       "      <td>03/04/2008</td>\n",
       "      <td>O</td>\n",
       "      <td>ASTHMA_CLINIC</td>\n",
       "      <td>\\Hospital\\Clinic\\Pulmonary\\Asthma\\\\</td>\n",
       "      <td>0x5468697320697320612032332D796561722D6F6C6420...</td>\n",
       "    </tr>\n",
       "    <tr>\n",
       "      <th>4</th>\n",
       "      <td>481398</td>\n",
       "      <td>1000000001</td>\n",
       "      <td>08/11/2008</td>\n",
       "      <td>08/11/2008</td>\n",
       "      <td>O</td>\n",
       "      <td>ASTHMA_CLINIC</td>\n",
       "      <td>\\Hospital\\Clinic\\Pulmonary\\Asthma\\\\</td>\n",
       "      <td>0x566973697420496E666F726D6174696F6E3A20202020...</td>\n",
       "    </tr>\n",
       "    <tr>\n",
       "      <th>5</th>\n",
       "      <td>482655</td>\n",
       "      <td>1000000001</td>\n",
       "      <td>05/18/2009</td>\n",
       "      <td>05/18/2009</td>\n",
       "      <td>O</td>\n",
       "      <td>ASTHMA_CLINIC</td>\n",
       "      <td>\\Hospital\\Clinic\\Pulmonary\\Asthma\\\\</td>\n",
       "      <td>0x566973697420496E666F726D6174696F6E3A0A202020...</td>\n",
       "    </tr>\n",
       "    <tr>\n",
       "      <th>6</th>\n",
       "      <td>471658</td>\n",
       "      <td>1000000002</td>\n",
       "      <td>04/17/1998</td>\n",
       "      <td>04/17/1998</td>\n",
       "      <td>O</td>\n",
       "      <td>GEN_MED_OUTPATIENT</td>\n",
       "      <td>\\Hospital\\Outpatient\\GeneralMedicine\\\\</td>\n",
       "      <td>0x2A2A566973697420496E666F726D6174696F6E3A2A2A...</td>\n",
       "    </tr>\n",
       "    <tr>\n",
       "      <th>7</th>\n",
       "      <td>472076</td>\n",
       "      <td>1000000002</td>\n",
       "      <td>01/04/1999</td>\n",
       "      <td>01/04/1999</td>\n",
       "      <td>O</td>\n",
       "      <td>GEN_MED_OUTPATIENT</td>\n",
       "      <td>\\Hospital\\Outpatient\\GeneralMedicine\\\\</td>\n",
       "      <td>0x2A2A566973697420496E666F726D6174696F6E3A2A2A...</td>\n",
       "    </tr>\n",
       "    <tr>\n",
       "      <th>8</th>\n",
       "      <td>472473</td>\n",
       "      <td>1000000002</td>\n",
       "      <td>08/12/1999</td>\n",
       "      <td>08/12/1999</td>\n",
       "      <td>O</td>\n",
       "      <td>GEN_MED_OUTPATIENT</td>\n",
       "      <td>\\Hospital\\Outpatient\\GeneralMedicine\\\\</td>\n",
       "      <td>0x2A2A566973697420496E666F726D6174696F6E3A2A2A...</td>\n",
       "    </tr>\n",
       "    <tr>\n",
       "      <th>9</th>\n",
       "      <td>472692</td>\n",
       "      <td>1000000002</td>\n",
       "      <td>12/01/1999</td>\n",
       "      <td>12/01/1999</td>\n",
       "      <td>O</td>\n",
       "      <td>GEN_MED_OUTPATIENT</td>\n",
       "      <td>\\Hospital\\Outpatient\\GeneralMedicine\\\\</td>\n",
       "      <td>0x2A2A566973697420496E666F726D6174696F6E3A2A2A...</td>\n",
       "    </tr>\n",
       "  </tbody>\n",
       "</table>\n",
       "</div>"
      ]
     },
     "execution_count": 5,
     "metadata": {},
     "output_type": "execute_result"
    }
   ],
   "execution_count": 5
  },
  {
   "metadata": {
    "ExecuteTime": {
     "end_time": "2025-05-13T15:59:04.693892Z",
     "start_time": "2025-05-13T15:59:04.628817Z"
    }
   },
   "cell_type": "code",
   "source": [
    "# -----------------------------------------------------------\n",
    "# 2. Interactive Exploration and Decoding of Clinical Notes\n",
    "# -----------------------------------------------------------\n",
    "# 📌 This cell allows interactive selection of patients and encounters\n",
    "# to decode and preview their clinical notes stored in BinHex format.\n",
    "\n",
    "import binascii\n",
    "from IPython.display import display, Markdown\n",
    "import ipywidgets as widgets\n",
    "\n",
    "# 🔍 Create a list of distinct patient numbers\n",
    "distinct_patients = sorted(df['patient_num'].unique())\n",
    "\n",
    "# Create dropdown widgets for patient and encounter selection\n",
    "patient_dropdown = widgets.Dropdown(\n",
    "    options=distinct_patients,\n",
    "    description=\"Patient #:\",\n",
    "    layout=widgets.Layout(width='50%')\n",
    ")\n",
    "\n",
    "encounter_dropdown = widgets.Dropdown(\n",
    "    options=[],\n",
    "    description=\"Encounter #:\",\n",
    "    layout=widgets.Layout(width='50%')\n",
    ")\n",
    "\n",
    "# Function to update encounters based on selected patient\n",
    "def update_encounters(*args):\n",
    "    patient_encounters = df[df['patient_num'] == patient_dropdown.value]['encounter_num'].tolist()\n",
    "    encounter_dropdown.options = patient_encounters\n",
    "\n",
    "# Function to decode and preview the clinical note\n",
    "def decode_and_preview(patient_num, encounter_num):\n",
    "    selected_row = df[\n",
    "        (df['patient_num'] == patient_num) &\n",
    "        (df['encounter_num'] == encounter_num)\n",
    "    ].iloc[0]\n",
    "\n",
    "    hex_blob = selected_row[\"visit_blob\"].replace(\"0x\", \"\")\n",
    "    decoded_note = binascii.unhexlify(hex_blob).decode(\"utf-8\", errors=\"ignore\")\n",
    "    display(Markdown(f\"### 📝 Clinical Note Preview (Patient: {patient_num}, Encounter: {encounter_num})\\n\"))\n",
    "\n",
    "    display(Markdown(decoded_note))\n",
    "\n",
    "# Link dropdowns for dynamic interaction\n",
    "patient_dropdown.observe(update_encounters, 'value')\n",
    "\n",
    "# Initial population of encounter dropdown\n",
    "update_encounters()\n",
    "\n",
    "# Interactive widgets\n",
    "widgets.interact(\n",
    "    decode_and_preview,\n",
    "    patient_num=patient_dropdown,\n",
    "    encounter_num=encounter_dropdown\n",
    ")\n"
   ],
   "id": "bf423cd2524760ce",
   "outputs": [
    {
     "data": {
      "text/plain": [
       "interactive(children=(Dropdown(description='Patient #:', layout=Layout(width='50%'), options=(np.int64(1000000…"
      ],
      "application/vnd.jupyter.widget-view+json": {
       "version_major": 2,
       "version_minor": 0,
       "model_id": "91f2749a3509449d8e9a6d0d757185e4"
      }
     },
     "metadata": {},
     "output_type": "display_data"
    },
    {
     "data": {
      "text/plain": [
       "<function __main__.decode_and_preview(patient_num, encounter_num)>"
      ]
     },
     "execution_count": 6,
     "metadata": {},
     "output_type": "execute_result"
    }
   ],
   "execution_count": 6
  },
  {
   "metadata": {
    "ExecuteTime": {
     "end_time": "2025-05-13T16:00:36.841043Z",
     "start_time": "2025-05-13T16:00:36.813296Z"
    }
   },
   "cell_type": "code",
   "source": [
    "# -----------------------------------------------------------\n",
    "# 3. Load the Ollama Model\n",
    "# -----------------------------------------------------------\n",
    "# Load the local LLM using LangChain's Ollama wrapper.\n",
    "\n",
    "from langchain_ollama import ChatOllama\n",
    "\n",
    "# Define the model name (assumed to be already pulled)\n",
    "model_name = \"qwen2\"\n",
    "\n",
    "model = ChatOllama(model=model_name)\n",
    "print(f\"✅ Model '{model_name}' is ready.\")\n"
   ],
   "id": "82e6a97150f1d06f",
   "outputs": [
    {
     "name": "stdout",
     "output_type": "stream",
     "text": [
      "✅ Model 'qwen2' is ready.\n"
     ]
    }
   ],
   "execution_count": 11
  },
  {
   "metadata": {},
   "cell_type": "markdown",
   "source": [
    "## 4. Basic Prompt Interaction - Simple Clinical Query\n",
    "<img src=\"https://github.com/v-mourajr/mongan_llm_workshop/blob/master/images/basic_prompt.png?raw=true\" alt=\"Basic Prompt\" width=\"800\">"
   ],
   "id": "98d1e0333b2bd856"
  },
  {
   "metadata": {
    "ExecuteTime": {
     "end_time": "2025-05-13T16:00:49.674611Z",
     "start_time": "2025-05-13T16:00:40.409934Z"
    }
   },
   "cell_type": "code",
   "source": [
    "# -----------------------------------------------------------\n",
    "# 4. Run a Simple Clinical Query with System + User Prompts\n",
    "# -----------------------------------------------------------\n",
    "# This tests the model by asking a simple clinical question using structured messages.\n",
    "\n",
    "from langchain_core.messages import HumanMessage, SystemMessage\n",
    "\n",
    "\n",
    "messages = [\n",
    "    SystemMessage(content=(\n",
    "        \"You are a knowledgeable medical provider. \"\n",
    "        \"Provide clear, evidence-based explanations about a medical conditions.\"\n",
    "    )),\n",
    "    HumanMessage(content=\"What is asthma? What are its common symptoms and treatments?\")\n",
    "]\n",
    "\n",
    "# Run inference\n",
    "response = model.invoke(messages)\n",
    "\n",
    "# Display result\n",
    "print(\"🧠 Model Response:\\n\")\n",
    "display(Markdown(response.content))\n"
   ],
   "id": "e019e06b683e2ea1",
   "outputs": [
    {
     "name": "stdout",
     "output_type": "stream",
     "text": [
      "🧠 Model Response:\n",
      "\n"
     ]
    },
    {
     "data": {
      "text/plain": [
       "<IPython.core.display.Markdown object>"
      ],
      "text/markdown": "Asthma is a long-term (chronic) condition characterized by inflammation in the airways of the lungs. This inflammation causes narrowing or constriction of these passages, leading to difficulty breathing. The symptoms can vary widely from person to person but typically include:\n\n### Common Symptoms of Asthma:\n1. **Shortness of Breath**: Often described as breathlessness, especially during physical activity.\n2. **Coughing**: Especially at night and early in the morning or upon waking.\n3. **Wheezing**: A whistling sound when exhaling due to narrowed airways.\n4. **Chronic Sputum Production**: Persistent cough with phlegm or mucus, especially if there is a history of recurring chest infections.\n\n### Causes:\nAsthma can be triggered by various factors including allergens (like pollen, dust mites), cold weather, exercise, strong emotions, medications, and some chemicals. The exact cause varies from person to person.\n\n### Diagnosis:\nDiagnosis usually involves understanding the patient's medical history, conducting a physical examination, and performing lung function tests like spirometry which measures how well your lungs are working.\n\n### Treatments for Asthma:\nAsthma management is personalized based on severity, frequency of symptoms, level of daily activity, and response to treatment. Common treatments include:\n\n1. **Lifestyle Adjustments**: Avoiding known triggers can help manage symptoms.\n2. **Inhalers**:\n   - **Short-Acting Beta Agonists (SABAs)**: These are used for quick relief during an asthma attack.\n   - **Long-Acting Beta Agonists (LABAs)**: Used in combination with other medications to control asthma symptoms on a daily basis. They should not be used as the sole treatment and require use of an inhaler that delivers corticosteroids.\n3. **Corticosteroids**: These are often prescribed as a maintenance therapy, typically via an inhaler or a nebulizer, to reduce inflammation in the airways.\n4. **Long-Term Control Medications**: Apart from LABAs, medications like Methylxanthines and Leukotriene Modulators can be used for long-term control of asthma.\n5. **Allergy Shots (Immunotherapy)**: Useful if your asthma is triggered by allergies.\n\n### Managing Asthma:\n- Regular check-ups with a healthcare provider to review treatment effectiveness and adjust medications as needed.\n- Keeping an asthma action plan that outlines symptoms, triggers, treatments, and when to seek medical help.\n- Learning techniques like using a peak flow meter to monitor lung function at home can be part of self-management.\n\n### Conclusion:\nAsthma management is crucial for people with this condition. It often requires a combination of medications, avoidance strategies, and ongoing healthcare monitoring. By working closely with your doctor, you can effectively manage asthma symptoms and enjoy an active lifestyle."
     },
     "metadata": {},
     "output_type": "display_data"
    }
   ],
   "execution_count": 12
  },
  {
   "metadata": {},
   "cell_type": "markdown",
   "source": [
    "## 5. Using ChatPromptTemplate for Dynamic Queries\n",
    "<img src=\"https://github.com/v-mourajr/mongan_llm_workshop/blob/master/images/prompt_template.png?raw=true\" alt=\"Basic Prompt\" width=\"800\">"
   ],
   "id": "f02e27596486474"
  },
  {
   "metadata": {
    "ExecuteTime": {
     "end_time": "2025-05-13T16:10:30.935720Z",
     "start_time": "2025-05-13T16:10:25.455464Z"
    }
   },
   "cell_type": "code",
   "source": [
    "# -----------------------------------------------------------\n",
    "# 5. Create a Reusable Prompt Template\n",
    "# -----------------------------------------------------------\n",
    "# Demonstrates how to dynamically query different conditions.\n",
    "\n",
    "from langchain.prompts import ChatPromptTemplate\n",
    "\n",
    "\n",
    "patient_type = \"child\"\n",
    "disease = \"asthma\"\n",
    "\n",
    "messages = [\n",
    "    (\"system\",\n",
    "     \"You are a knowledgeable medical provider. Provide clear, evidence-based explanations suitable for a {patient_type}.\"),\n",
    "\n",
    "    (\"human\",\n",
    "     \"What is {disease}? What are its common symptoms and treatments?\")\n",
    "]\n",
    "\n",
    "prompt_template = ChatPromptTemplate.from_messages(messages)\n",
    "\n",
    "# Fill in variables\n",
    "prompt = prompt_template.invoke({\"patient_type\": patient_type, \"disease\": disease})\n",
    "response = model.invoke(prompt)\n",
    "\n",
    "# Output\n",
    "print(\"💬 AI Response:\\n\")\n",
    "display(Markdown(response.content))\n"
   ],
   "id": "c87b037636a9b61f",
   "outputs": [
    {
     "name": "stdout",
     "output_type": "stream",
     "text": [
      "💬 AI Response:\n",
      "\n"
     ]
    },
    {
     "data": {
      "text/plain": [
       "<IPython.core.display.Markdown object>"
      ],
      "text/markdown": "Asthma is a condition that affects the airways in your lungs. Imagine your lungs as a tunnel where air travels from your nose or mouth all the way down to where you breathe out. When you have asthma, these tunnels can get inflamed and swollen, making them narrower. This makes it hard for air to go through, which can cause breathing problems.\n\n**Common Symptoms of Asthma:**\n\n1. **Coughing:** You might cough a lot, especially at night or early in the morning.\n2. **Breathing困难:** It feels like you're struggling to breathe, and sometimes your chest may feel tight.\n3. **Wheezing:** When you exhale, you can hear a whistling sound because air is rushing through narrow passages.\n4. **Shortness of breath:** You might feel out of breath after just a little bit of activity.\n5. **Fever:** Sometimes, if the asthma gets really bad and affects your body in more ways than breathing problems, you could have a fever.\n\n**Treatments for Asthma:**\n\n1. **Medicines to open up airways:** These can be taken as inhalers that help widen the tunnels so air can flow easily. Think of it like using a key to unlock a door.\n2. **Long-term control medicine:** This is usually taken daily, often as a pill or inhaled through an inhaler, to keep your lungs healthy and reduce inflammation. It's like using a spray to keep plants healthy.\n3. **Avoiding triggers:** Knowing what makes your asthma worse (like dust mites, pet hair, or strong smells) and trying to avoid them can help prevent symptoms.\n4. **Emergency plan:** Sometimes breathing gets really bad, and you need quick action. There's a plan that helps with this too, which includes knowing when to use your fast-acting inhaler.\n\nIt's important to work closely with a doctor who specializes in asthma (an allergist or pediatrician) to find the best treatment for you. They can help adjust your medicine as needed and teach you how to manage your asthma effectively so you can live life without worrying too much about breathing difficulties."
     },
     "metadata": {},
     "output_type": "display_data"
    }
   ],
   "execution_count": 33
  },
  {
   "metadata": {
    "ExecuteTime": {
     "end_time": "2025-05-13T16:10:39.959689Z",
     "start_time": "2025-05-13T16:10:39.957522Z"
    }
   },
   "cell_type": "code",
   "source": [
    "# -----------------------------------------------------------\n",
    "# 6. Clinical Note Extraction Prompt\n",
    "# -----------------------------------------------------------\n",
    "# This template prompts the LLM to extract structured information from a clinical note.\n",
    "\n",
    "messages_notes = [\n",
    "    (\"system\",\n",
    "     \"You are an advanced medical documentation assistant. Your task is to extract meaningful clinical insights from unstructured notes.\"),\n",
    "\n",
    "    (\"human\",\n",
    "     \"Analyze the following clinical note: {patient_note}.\\n\\n\"\n",
    "     \"Extract:\\n\"\n",
    "     \"1. Patient demographics\\n\"\n",
    "     \"2. Chief Complaints\\n\"\n",
    "     \"3. Current Medications\\n\"\n",
    "     \"4. Does the patient have asthma? (Yes/No)\\n\\n\"\n",
    "     \"Respond in structured bullet points.\")\n",
    "]\n",
    "\n",
    "prompt_template_notes = ChatPromptTemplate.from_messages(messages_notes)\n"
   ],
   "id": "4c7c6ee3663290b4",
   "outputs": [],
   "execution_count": 34
  },
  {
   "metadata": {
    "ExecuteTime": {
     "end_time": "2025-05-13T16:12:11.413940Z",
     "start_time": "2025-05-13T16:12:08.375192Z"
    }
   },
   "cell_type": "code",
   "source": [
    "# -----------------------------------------------------------\n",
    "# 7. Analyze a Real Patient Note Using the Prompt\n",
    "# -----------------------------------------------------------\n",
    "# Pull a decoded note and run it through the clinical prompt\n",
    "\n",
    "patient_num = 1000000047\n",
    "encounter_num = 472602\n",
    "\n",
    "selected_row = df[\n",
    "    (df['patient_num'] == patient_num) &\n",
    "    (df['encounter_num'] == encounter_num)\n",
    "].iloc[0]\n",
    "\n",
    "hex_blob = selected_row[\"visit_blob\"].replace(\"0x\", \"\")\n",
    "decoded_note = binascii.unhexlify(hex_blob).decode(\"utf-8\", errors=\"ignore\")\n",
    "\n",
    "# Fill the prompt with note text\n",
    "filled_prompt = prompt_template_notes.invoke({\"patient_note\": decoded_note})\n",
    "\n",
    "# Get model response\n",
    "clinical_response = model.invoke(filled_prompt)\n",
    "\n",
    "# Show results\n",
    "print(\"📋 Extracted Clinical Information:\\n\")\n",
    "display(Markdown(clinical_response.content))\n",
    "\n"
   ],
   "id": "7710a63cdb61efe2",
   "outputs": [
    {
     "name": "stdout",
     "output_type": "stream",
     "text": [
      "📋 Extracted Clinical Information:\n",
      "\n"
     ]
    },
    {
     "data": {
      "text/plain": [
       "<IPython.core.display.Markdown object>"
      ],
      "text/markdown": "### Extracted Information\n\n#### 1. Patient Demographics\n- **Age:** 28 years\n- **Ethnicity:** Black\n- **Language:** English\n- **Duration of care at clinic:** Approximately seven months\n- **Date and time of appointment:** October 25, 1999\n\n#### 2. Chief Complaints\n- **Recurrent skin issues:** Facial and back acne exacerbation characterized by pain and persistence.\n- **Symptoms affecting quality of life:** Painful and persistent acne, worsens during high stress or dietary changes.\n\n#### 3. Current Medications\n- **Oral antibiotics**\n- **Topical retinoid**\n\n#### 4. Asthma Status (Yes/No)\n- **No**"
     },
     "metadata": {},
     "output_type": "display_data"
    }
   ],
   "execution_count": 36
  }
 ],
 "metadata": {
  "kernelspec": {
   "display_name": "Python 3",
   "language": "python",
   "name": "python3"
  },
  "language_info": {
   "codemirror_mode": {
    "name": "ipython",
    "version": 2
   },
   "file_extension": ".py",
   "mimetype": "text/x-python",
   "name": "python",
   "nbconvert_exporter": "python",
   "pygments_lexer": "ipython2",
   "version": "2.7.6"
  }
 },
 "nbformat": 4,
 "nbformat_minor": 5
}
