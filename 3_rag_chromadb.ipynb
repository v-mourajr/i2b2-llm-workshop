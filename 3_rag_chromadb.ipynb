{
 "cells": [
  {
   "metadata": {},
   "cell_type": "markdown",
   "source": [
    "![i2b2 Logo](images/transmart-logo.png)\n",
    "\n",
    "# Using ChromaDB + Embeddings to Search Patient Notes (RAG)\n",
    "\n",
    "This notebook demonstrates how to implement a **Retrieval-Augmented Generation (RAG)** pipeline using **local embeddings** and **ChromaDB** to search and analyze clinical notes stored in an i2b2-like format. It walks through decoding, embedding, storing, retrieving, and generating responses with a local LLM.\n",
    "\n",
    "You will work through a complete pipeline:\n",
    "- Decode notes from BinHex format\n",
    "- Embed clinical notes using the MiniLM model\n",
    "- Store the notes and metadata in a persistent ChromaDB vector store\n",
    "- Perform semantic similarity search and inspect cosine-based scores\n",
    "- Apply **Maximal Marginal Relevance (MMR)** to promote diversity and reduce redundancy\n",
    "- Retrieve only the **most recent note per patient** for clarity and accuracy\n",
    "- Inject results into a reusable prompt template\n",
    "- Generate structured, clinically meaningful responses using a local LLM (e.g., Qwen or LLaMA 3 via Ollama)\n",
    "\n",
    "### 🔍 Key Concepts Covered\n",
    "\n",
    "- Decoding i2b2-formatted BinHex clinical notes\n",
    "- Embedding full notes for semantic similarity search\n",
    "- Persistent storage and retrieval using ChromaDB\n",
    "- Score-based filtering and MMR ranking\n",
    "- Structured prompt engineering for LLMs\n",
    "- Zero-shot summarization with a local model\n",
    "\n",
    "Each cell builds on the last to demonstrate a complete RAG workflow, tailored to **clinical informatics and patient note analysis**.\n",
    "\n",
    "> This notebook is part of the workshop: _Using LLMs to Search and Summarize Patient Notes_.\n"
   ],
   "id": "e6022b84adefe37b"
  },
  {
   "metadata": {},
   "cell_type": "markdown",
   "source": [
    "## 1. Prepare Data for Embedding\n",
    "\n",
    "Before we can perform semantic search or generate responses using clinical notes, we must first prepare the data.\n",
    "\n",
    "- **1.1**: Load a simulated i2b2 `visit_dimension` table that contains BinHex-encoded clinical notes and decode them into readable plain text.\n",
    "\n",
    "This step ensures that each clinical note is in a usable format for embedding in the next section using a local MiniLM model.\n"
   ],
   "id": "9a4858c32f021553"
  },
  {
   "metadata": {
    "ExecuteTime": {
     "end_time": "2025-05-16T21:33:08.306066Z",
     "start_time": "2025-05-16T21:33:08.243351Z"
    }
   },
   "cell_type": "code",
   "source": [
    "# -----------------------------------------------------------\n",
    "# 1.1. Load and Decode Clinical Notes from i2b2-Mimicking CSV\n",
    "# -----------------------------------------------------------\n",
    "# This cell loads visit-level data from a CSV file that mimics the i2b2 `visit_dimension` table\n",
    "# and decodes the BinHex-encoded clinical notes into readable plain text.\n",
    "\n",
    "# Each record includes:\n",
    "# - encounter_num: Unique visit ID\n",
    "# - patient_num: Patient identifier\n",
    "# - start_date, end_date: Visit dates\n",
    "# - location_cd, location_path: Clinic metadata\n",
    "# - visit_blob: BinHex-encoded clinical note text\n",
    "# - note_text: Decoded BinHex clinical note text\n",
    "\n",
    "import pandas as pd\n",
    "import binascii\n",
    "from IPython.display import display, Markdown\n",
    "\n",
    "# Load the i2b2-style data\n",
    "csv_path = \"datafiles/i2b2_encounter_table.csv\"\n",
    "df = pd.read_csv(csv_path)\n",
    "\n",
    "# Function to decode BinHex-encoded notes\n",
    "def decode_note(hex_blob):\n",
    "    hex_str = hex_blob.replace(\"0x\", \"\")\n",
    "    return binascii.unhexlify(hex_str).decode(\"utf-8\", errors=\"ignore\")\n",
    "\n",
    "# Decode all notes into a new column\n",
    "df[\"note_text\"] = df[\"visit_blob\"].apply(decode_note)\n",
    "\n",
    "# Preview the first 10 records with decoded notes\n",
    "display(Markdown(\"### Preview of Decoded Notes\"))\n",
    "display(df.head(10))\n"
   ],
   "id": "initial_id",
   "outputs": [
    {
     "data": {
      "text/plain": [
       "<IPython.core.display.Markdown object>"
      ],
      "text/markdown": "### Preview of Decoded Notes"
     },
     "metadata": {},
     "output_type": "display_data"
    },
    {
     "data": {
      "text/plain": [
       "   encounter_num  patient_num  start_date    end_date inout_cd  \\\n",
       "0         475303   1000000001  01/16/2003  01/16/2003        O   \n",
       "1         479681   1000000001  03/29/2007  03/29/2007        O   \n",
       "2         480315   1000000001  09/20/2007  09/20/2007        O   \n",
       "3         480903   1000000001  03/04/2008  03/04/2008        O   \n",
       "4         481398   1000000001  08/11/2008  08/11/2008        O   \n",
       "5         482655   1000000001  05/18/2009  05/18/2009        O   \n",
       "6         471658   1000000002  04/17/1998  04/17/1998        O   \n",
       "7         472076   1000000002  01/04/1999  01/04/1999        O   \n",
       "8         472473   1000000002  08/12/1999  08/12/1999        O   \n",
       "9         472692   1000000002  12/01/1999  12/01/1999        O   \n",
       "\n",
       "          location_cd                           location_path  \\\n",
       "0       ASTHMA_CLINIC     \\Hospital\\Clinic\\Pulmonary\\Asthma\\\\   \n",
       "1       ASTHMA_CLINIC     \\Hospital\\Clinic\\Pulmonary\\Asthma\\\\   \n",
       "2       ASTHMA_CLINIC     \\Hospital\\Clinic\\Pulmonary\\Asthma\\\\   \n",
       "3       ASTHMA_CLINIC     \\Hospital\\Clinic\\Pulmonary\\Asthma\\\\   \n",
       "4       ASTHMA_CLINIC     \\Hospital\\Clinic\\Pulmonary\\Asthma\\\\   \n",
       "5       ASTHMA_CLINIC     \\Hospital\\Clinic\\Pulmonary\\Asthma\\\\   \n",
       "6  GEN_MED_OUTPATIENT  \\Hospital\\Outpatient\\GeneralMedicine\\\\   \n",
       "7  GEN_MED_OUTPATIENT  \\Hospital\\Outpatient\\GeneralMedicine\\\\   \n",
       "8  GEN_MED_OUTPATIENT  \\Hospital\\Outpatient\\GeneralMedicine\\\\   \n",
       "9  GEN_MED_OUTPATIENT  \\Hospital\\Outpatient\\GeneralMedicine\\\\   \n",
       "\n",
       "                                          visit_blob  \\\n",
       "0  0x2A2A566973697420496E666F726D6174696F6E3A2A2A...   \n",
       "1  0x2A2A566973697420496E666F726D6174696F6E3A2A2A...   \n",
       "2  0x2A2A566973697420496E666F726D6174696F6E3A2A2A...   \n",
       "3  0x5468697320697320612032332D796561722D6F6C6420...   \n",
       "4  0x566973697420496E666F726D6174696F6E3A20202020...   \n",
       "5  0x566973697420496E666F726D6174696F6E3A0A202020...   \n",
       "6  0x2A2A566973697420496E666F726D6174696F6E3A2A2A...   \n",
       "7  0x2A2A566973697420496E666F726D6174696F6E3A2A2A...   \n",
       "8  0x2A2A566973697420496E666F726D6174696F6E3A2A2A...   \n",
       "9  0x2A2A566973697420496E666F726D6174696F6E3A2A2A...   \n",
       "\n",
       "                                           note_text  \n",
       "0  **Visit Information:**\\n   - Patient ID: 10000...  \n",
       "1  **Visit Information:**\\n- Patient ID: 10000000...  \n",
       "2  **Visit Information:**\\n\\n    - Patient ID: 10...  \n",
       "3  This is a 23-year-old Black female who has bee...  \n",
       "4  Visit Information:    \\n    - Patient ID: 1000...  \n",
       "5  Visit Information:\\n    - Patient ID: 10000000...  \n",
       "6  **Visit Information:**\\n- Patient ID: 10000000...  \n",
       "7  **Visit Information:**\\n- Patient ID: 10000000...  \n",
       "8  **Visit Information:**\\n- Patient ID: 10000000...  \n",
       "9  **Visit Information:**\\n- Patient ID: 10000000...  "
      ],
      "text/html": [
       "<div>\n",
       "<style scoped>\n",
       "    .dataframe tbody tr th:only-of-type {\n",
       "        vertical-align: middle;\n",
       "    }\n",
       "\n",
       "    .dataframe tbody tr th {\n",
       "        vertical-align: top;\n",
       "    }\n",
       "\n",
       "    .dataframe thead th {\n",
       "        text-align: right;\n",
       "    }\n",
       "</style>\n",
       "<table border=\"1\" class=\"dataframe\">\n",
       "  <thead>\n",
       "    <tr style=\"text-align: right;\">\n",
       "      <th></th>\n",
       "      <th>encounter_num</th>\n",
       "      <th>patient_num</th>\n",
       "      <th>start_date</th>\n",
       "      <th>end_date</th>\n",
       "      <th>inout_cd</th>\n",
       "      <th>location_cd</th>\n",
       "      <th>location_path</th>\n",
       "      <th>visit_blob</th>\n",
       "      <th>note_text</th>\n",
       "    </tr>\n",
       "  </thead>\n",
       "  <tbody>\n",
       "    <tr>\n",
       "      <th>0</th>\n",
       "      <td>475303</td>\n",
       "      <td>1000000001</td>\n",
       "      <td>01/16/2003</td>\n",
       "      <td>01/16/2003</td>\n",
       "      <td>O</td>\n",
       "      <td>ASTHMA_CLINIC</td>\n",
       "      <td>\\Hospital\\Clinic\\Pulmonary\\Asthma\\\\</td>\n",
       "      <td>0x2A2A566973697420496E666F726D6174696F6E3A2A2A...</td>\n",
       "      <td>**Visit Information:**\\n   - Patient ID: 10000...</td>\n",
       "    </tr>\n",
       "    <tr>\n",
       "      <th>1</th>\n",
       "      <td>479681</td>\n",
       "      <td>1000000001</td>\n",
       "      <td>03/29/2007</td>\n",
       "      <td>03/29/2007</td>\n",
       "      <td>O</td>\n",
       "      <td>ASTHMA_CLINIC</td>\n",
       "      <td>\\Hospital\\Clinic\\Pulmonary\\Asthma\\\\</td>\n",
       "      <td>0x2A2A566973697420496E666F726D6174696F6E3A2A2A...</td>\n",
       "      <td>**Visit Information:**\\n- Patient ID: 10000000...</td>\n",
       "    </tr>\n",
       "    <tr>\n",
       "      <th>2</th>\n",
       "      <td>480315</td>\n",
       "      <td>1000000001</td>\n",
       "      <td>09/20/2007</td>\n",
       "      <td>09/20/2007</td>\n",
       "      <td>O</td>\n",
       "      <td>ASTHMA_CLINIC</td>\n",
       "      <td>\\Hospital\\Clinic\\Pulmonary\\Asthma\\\\</td>\n",
       "      <td>0x2A2A566973697420496E666F726D6174696F6E3A2A2A...</td>\n",
       "      <td>**Visit Information:**\\n\\n    - Patient ID: 10...</td>\n",
       "    </tr>\n",
       "    <tr>\n",
       "      <th>3</th>\n",
       "      <td>480903</td>\n",
       "      <td>1000000001</td>\n",
       "      <td>03/04/2008</td>\n",
       "      <td>03/04/2008</td>\n",
       "      <td>O</td>\n",
       "      <td>ASTHMA_CLINIC</td>\n",
       "      <td>\\Hospital\\Clinic\\Pulmonary\\Asthma\\\\</td>\n",
       "      <td>0x5468697320697320612032332D796561722D6F6C6420...</td>\n",
       "      <td>This is a 23-year-old Black female who has bee...</td>\n",
       "    </tr>\n",
       "    <tr>\n",
       "      <th>4</th>\n",
       "      <td>481398</td>\n",
       "      <td>1000000001</td>\n",
       "      <td>08/11/2008</td>\n",
       "      <td>08/11/2008</td>\n",
       "      <td>O</td>\n",
       "      <td>ASTHMA_CLINIC</td>\n",
       "      <td>\\Hospital\\Clinic\\Pulmonary\\Asthma\\\\</td>\n",
       "      <td>0x566973697420496E666F726D6174696F6E3A20202020...</td>\n",
       "      <td>Visit Information:    \\n    - Patient ID: 1000...</td>\n",
       "    </tr>\n",
       "    <tr>\n",
       "      <th>5</th>\n",
       "      <td>482655</td>\n",
       "      <td>1000000001</td>\n",
       "      <td>05/18/2009</td>\n",
       "      <td>05/18/2009</td>\n",
       "      <td>O</td>\n",
       "      <td>ASTHMA_CLINIC</td>\n",
       "      <td>\\Hospital\\Clinic\\Pulmonary\\Asthma\\\\</td>\n",
       "      <td>0x566973697420496E666F726D6174696F6E3A0A202020...</td>\n",
       "      <td>Visit Information:\\n    - Patient ID: 10000000...</td>\n",
       "    </tr>\n",
       "    <tr>\n",
       "      <th>6</th>\n",
       "      <td>471658</td>\n",
       "      <td>1000000002</td>\n",
       "      <td>04/17/1998</td>\n",
       "      <td>04/17/1998</td>\n",
       "      <td>O</td>\n",
       "      <td>GEN_MED_OUTPATIENT</td>\n",
       "      <td>\\Hospital\\Outpatient\\GeneralMedicine\\\\</td>\n",
       "      <td>0x2A2A566973697420496E666F726D6174696F6E3A2A2A...</td>\n",
       "      <td>**Visit Information:**\\n- Patient ID: 10000000...</td>\n",
       "    </tr>\n",
       "    <tr>\n",
       "      <th>7</th>\n",
       "      <td>472076</td>\n",
       "      <td>1000000002</td>\n",
       "      <td>01/04/1999</td>\n",
       "      <td>01/04/1999</td>\n",
       "      <td>O</td>\n",
       "      <td>GEN_MED_OUTPATIENT</td>\n",
       "      <td>\\Hospital\\Outpatient\\GeneralMedicine\\\\</td>\n",
       "      <td>0x2A2A566973697420496E666F726D6174696F6E3A2A2A...</td>\n",
       "      <td>**Visit Information:**\\n- Patient ID: 10000000...</td>\n",
       "    </tr>\n",
       "    <tr>\n",
       "      <th>8</th>\n",
       "      <td>472473</td>\n",
       "      <td>1000000002</td>\n",
       "      <td>08/12/1999</td>\n",
       "      <td>08/12/1999</td>\n",
       "      <td>O</td>\n",
       "      <td>GEN_MED_OUTPATIENT</td>\n",
       "      <td>\\Hospital\\Outpatient\\GeneralMedicine\\\\</td>\n",
       "      <td>0x2A2A566973697420496E666F726D6174696F6E3A2A2A...</td>\n",
       "      <td>**Visit Information:**\\n- Patient ID: 10000000...</td>\n",
       "    </tr>\n",
       "    <tr>\n",
       "      <th>9</th>\n",
       "      <td>472692</td>\n",
       "      <td>1000000002</td>\n",
       "      <td>12/01/1999</td>\n",
       "      <td>12/01/1999</td>\n",
       "      <td>O</td>\n",
       "      <td>GEN_MED_OUTPATIENT</td>\n",
       "      <td>\\Hospital\\Outpatient\\GeneralMedicine\\\\</td>\n",
       "      <td>0x2A2A566973697420496E666F726D6174696F6E3A2A2A...</td>\n",
       "      <td>**Visit Information:**\\n- Patient ID: 10000000...</td>\n",
       "    </tr>\n",
       "  </tbody>\n",
       "</table>\n",
       "</div>"
      ]
     },
     "metadata": {},
     "output_type": "display_data"
    }
   ],
   "execution_count": 34
  },
  {
   "metadata": {},
   "cell_type": "markdown",
   "source": [
    "## 2. Decode, Embed, and Store Entire Clinical Notes in ChromaDB\n",
    "\n",
    "In this step, we process and store each clinical note as a **complete document** in a ChromaDB vector store. This approach preserves full patient context, making it ideal for semantic search and downstream clinical reasoning.\n",
    "\n",
    "### Step 2.1: Embed and Store Notes\n",
    "1. **Embed Full Notes**\n",
    "   Each note is converted into a semantic vector using a lightweight transformer model (`MiniLM`).\n",
    "\n",
    "2. **Store in ChromaDB**\n",
    "   The embedded vector and its associated metadata (e.g., patient ID, encounter number, visit date) are stored together in a persistent ChromaDB directory.\n",
    "\n",
    "### Why This Approach?\n",
    "\n",
    "Storing full notes is especially useful when:\n",
    "- You want to retrieve the complete narrative for clinical context\n",
    "- Your downstream task (e.g., summarization or decision support) depends on comprehensive input\n",
    "- Each note fits within the input limit of a single LLM call\n",
    "\n",
    "This setup supports more faithful summarization and reasoning than chunk-based approaches when notes are relatively short and self-contained.\n",
    "\n",
    "<img src=\"./images/rag_full.png\" alt=\"RAG Full\" width=\"900\">\n"
   ],
   "id": "437c683321f7757e"
  },
  {
   "metadata": {
    "ExecuteTime": {
     "end_time": "2025-05-16T21:34:05.724612Z",
     "start_time": "2025-05-16T21:34:02.843381Z"
    }
   },
   "cell_type": "code",
   "source": [
    "# -----------------------------------------------------------\n",
    "# 2.1. Embed Clinical Notes Using Local MiniLM Embeddings and Store in ChromaDB\n",
    "# -----------------------------------------------------------\n",
    "# This cell encodes each clinical note into a semantic vector using a local MiniLM model\n",
    "# and stores the results along with metadata in a ChromaDB vector store for retrieval.\n",
    "\n",
    "# Embedding Model: sentence-transformers/all-MiniLM-L6-v2\n",
    "# - Optimized for fast local execution\n",
    "# - Produces 384-dimensional vectors for semantic similarity\n",
    "\n",
    "# Required packages:\n",
    "#   pip install langchain langchain-huggingface chromadb\n",
    "\n",
    "from langchain_huggingface import HuggingFaceEmbeddings\n",
    "from langchain_chroma import Chroma\n",
    "\n",
    "# Initialize the embedding model\n",
    "embedding_model = HuggingFaceEmbeddings(\n",
    "    model_name=\"sentence-transformers/all-MiniLM-L6-v2\"\n",
    ")\n",
    "\n",
    "# Create or connect to the persistent ChromaDB directory\n",
    "vectorstore = Chroma(\n",
    "    persist_directory=\"./datafiles/chroma_db_notes\",\n",
    "    embedding_function=embedding_model\n",
    ")\n",
    "\n",
    "# Prepare documents and metadata\n",
    "documents = df[\"note_text\"].tolist()\n",
    "metadata = df[[\"patient_num\", \"encounter_num\", \"start_date\"]].to_dict(orient=\"records\")\n",
    "\n",
    "# Add text and metadata to the ChromaDB vector store\n",
    "vectorstore.add_texts(texts=documents, metadatas=metadata)\n",
    "\n",
    "print(f\"✅ Successfully embedded and stored {len(documents)} clinical notes using MiniLM and ChromaDB.\")\n"
   ],
   "id": "cb4d79a45a47b55e",
   "outputs": [
    {
     "name": "stdout",
     "output_type": "stream",
     "text": [
      "✅ Successfully embedded and stored 1128 clinical notes using MiniLM and ChromaDB.\n"
     ]
    }
   ],
   "execution_count": 36
  },
  {
   "metadata": {},
   "cell_type": "markdown",
   "source": [
    "## 3. Retrieving Clinical Notes with Similarity Score (RAG Retrieval with ChromaDB)\n",
    "\n",
    "In this section, we retrieve relevant clinical notes from a ChromaDB vector store using vector similarity techniques. We explore both standard and advanced retrieval strategies to improve the relevance and diversity of retrieved context for downstream LLM generation.\n",
    "\n",
    "### Key Retrieval Strategies\n",
    "\n",
    "1. **Define a Clinical Query**\n",
    "   - The user provides a natural language question (e.g., \"Who has asthma and is taking Fluticasone and Albuterol?\").\n",
    "\n",
    "2. **Similarity Search with Scores (Step 3.2)**\n",
    "   - Retrieves the top-k notes ranked by semantic similarity to the query.\n",
    "   - Returns cosine-based relevance scores for each match.\n",
    "\n",
    "3. **Score Threshold Filtering (Step 3.3)**\n",
    "   - Filters out low-confidence matches using a minimum similarity score.\n",
    "   - Retains only notes that meet a defined relevance threshold (e.g., ≥ 0.6).\n",
    "\n",
    "4. **Maximal Marginal Relevance (MMR) Search (Step 3.4)**\n",
    "   - Balances similarity and diversity.\n",
    "   - Reduces redundancy by selecting a diverse subset of highly relevant notes.\n",
    "\n",
    "### Why Use These Strategies?\n",
    "\n",
    "High-quality retrieval is critical to the success of RAG workflows. These techniques help:\n",
    "- Improve the contextual relevance of inputs to the LLM\n",
    "- Filter out irrelevant or low-confidence documents\n",
    "- Encourage diverse results to reduce bias and improve robustness\n",
    "\n",
    "<img src=\"./images/rag_retrieval.png\" alt=\"RAG Retrieval\" width=\"900\">\n"
   ],
   "id": "b43a3635d3cf133c"
  },
  {
   "metadata": {
    "ExecuteTime": {
     "end_time": "2025-05-16T21:39:14.110751Z",
     "start_time": "2025-05-16T21:39:14.108387Z"
    }
   },
   "cell_type": "code",
   "source": [
    "# -----------------------------------------------------------\n",
    "# 3.1. Define the Query for Clinical Note Retrieval\n",
    "# -----------------------------------------------------------\n",
    "# This cell defines a natural language query to search the embedded clinical notes\n",
    "# stored in ChromaDB using semantic similarity.\n",
    "\n",
    "# Concept:\n",
    "# The query will be embedded and compared against the stored note vectors\n",
    "# to find the most semantically relevant matches.\n",
    "\n",
    "# Example Clinical Query:\n",
    "query = \"Who has asthma and is taking Fluticasone and Albuterol?\"\n",
    "\n",
    "# Display the query for reference\n",
    "from IPython.display import Markdown, display\n",
    "display(Markdown(f\"### 🔍 Query: `{query}`\"))\n"
   ],
   "id": "387fe73e7a1ed4d5",
   "outputs": [
    {
     "data": {
      "text/plain": [
       "<IPython.core.display.Markdown object>"
      ],
      "text/markdown": "### 🔍 Query: `Who has asthma and is taking Fluticasone and Albuterol?`"
     },
     "metadata": {},
     "output_type": "display_data"
    }
   ],
   "execution_count": 37
  },
  {
   "metadata": {
    "ExecuteTime": {
     "end_time": "2025-05-16T21:40:22.150065Z",
     "start_time": "2025-05-16T21:40:22.109480Z"
    }
   },
   "cell_type": "code",
   "source": [
    "# -----------------------------------------------------------\n",
    "# 3.2. Perform Similarity Search with Relevance Scores\n",
    "# -----------------------------------------------------------\n",
    "# This cell retrieves clinical notes most semantically similar to the input query.\n",
    "# Each result includes a relevance score that indicates how well the note matches the query.\n",
    "\n",
    "# Function used:\n",
    "# - vectorstore.similarity_search_with_relevance_scores(query, k=10)\n",
    "#   Returns the top-k notes with similarity scores (cosine-based).\n",
    "\n",
    "# Relevance Score Interpretation:\n",
    "# - 0.90 – 1.00 → Highly relevant\n",
    "# - 0.70 – 0.90 → Strong relevance\n",
    "# - 0.50 – 0.70 → Moderate relevance\n",
    "# - 0.30 – 0.50 → Low relevance\n",
    "# - 0.00 – 0.30 → Minimal or no relevance\n",
    "\n",
    "from IPython.display import display, Markdown\n",
    "\n",
    "# Perform the similarity search\n",
    "results = vectorstore.similarity_search_with_relevance_scores(query, k=10)\n",
    "\n",
    "# Display the results\n",
    "display(Markdown(\"### 🔍 Retrieved Clinical Notes with Relevance Scores\"))\n",
    "\n",
    "for idx, (doc, score) in enumerate(results, 1):\n",
    "    patient = doc.metadata.get(\"patient_num\", \"N/A\")\n",
    "    encounter = doc.metadata.get(\"encounter_num\", \"N/A\")\n",
    "    date = doc.metadata.get(\"start_date\", \"N/A\")\n",
    "    doc_id = doc.id\n",
    "    excerpt = doc.page_content[:1000].replace(\"\\n\", \" \")\n",
    "\n",
    "    display(Markdown(\n",
    "        f\"---\\n**Result {idx}**  \\n\"\n",
    "        f\"- **Relevance Score:** `{score:.4f}`  \\n\"\n",
    "        f\"- **Patient Num:** `{patient}`  \\n\"\n",
    "        f\"- **Encounter Num:** `{encounter}`  \\n\"\n",
    "        f\"- **Start Date:** `{date}`  \\n\"\n",
    "        f\"- **Document ID:** `{doc_id}`  \\n\\n\"\n",
    "        f\"**Excerpt:**\\n```text\\n{excerpt}...\\n```\"\n",
    "    ))\n"
   ],
   "id": "722f9bd17a7fe54e",
   "outputs": [
    {
     "data": {
      "text/plain": [
       "<IPython.core.display.Markdown object>"
      ],
      "text/markdown": "### 🔍 Retrieved Clinical Notes with Relevance Scores"
     },
     "metadata": {},
     "output_type": "display_data"
    },
    {
     "data": {
      "text/plain": [
       "<IPython.core.display.Markdown object>"
      ],
      "text/markdown": "---\n**Result 1**  \n- **Relevance Score:** `0.6289`  \n- **Patient Num:** `1000000005`  \n- **Encounter Num:** `477663`  \n- **Start Date:** `06/21/2005`  \n- **Document ID:** `fd7856a3-a4dc-476e-85bd-daac63bcc2f7`  \n\n**Excerpt:**\n```text\n**Visit Information:** - Patient ID: 1000000005 - Encounter ID: 477663 - Visit Date: June 21, 2005  **Subjective:**  This is a 32-year-old Hispanic female who has been receiving care at our clinic for approximately 3 months. She speaks English and presents today for a follow-up visit scheduled as part of her ongoing asthma management. The patient reports continued asthma symptoms, including persistent shortness of breath, wheezing particularly at night, and a cough that disrupts her sleep. Over the past two weeks, these symptoms have intensified despite regular usage of her asthma medications: albuterol inhaler for rescue, daily fluticasone inhaler, and nightly montelukast. She states the albuterol provides only brief relief.  She has a medical history of unspecified asthma without mention of status asthmaticus, back sprain from unspecified causes, vaginitis, and a previous high-risk pregnancy requiring special investigations. Her social history includes living in an urban environment ...\n```"
     },
     "metadata": {},
     "output_type": "display_data"
    },
    {
     "data": {
      "text/plain": [
       "<IPython.core.display.Markdown object>"
      ],
      "text/markdown": "---\n**Result 2**  \n- **Relevance Score:** `0.6143`  \n- **Patient Num:** `1000000011`  \n- **Encounter Num:** `476139`  \n- **Start Date:** `11/20/2003`  \n- **Document ID:** `533d70d1-c60a-4d28-9501-633f4ad9aa81`  \n\n**Excerpt:**\n```text\n**Visit Information:** - Patient ID: 1000000011 - Encounter ID: 476139 - Visit Date: Nov 20, 2003  **Subjective:** This is a 54-year-old Caucasian female who speaks English and has been receiving care at our clinic. She presents today for a follow-up regarding her recurrent asthma and associated symptoms. The patient is experiencing persistent shortness of breath, wheezing, and a nocturnal cough that interrupts her sleep. These symptoms have been particularly troublesome over the last month despite adherence to her current medication regimen. She denies smoking and has reported no recent exposure to known allergens or new environmental triggers.  Her past medical history is significant for recurrent asthma, an acute myocardial infarction, hypertension, hypercholesterolemia, lumbar disc displacement leading to chronic lumbago, cervical dysplasia, and a panic disorder. Her medications include fluticasone and an albuterol inhaler for asthma, along with antihypertensive and lipid-lowering ...\n```"
     },
     "metadata": {},
     "output_type": "display_data"
    },
    {
     "data": {
      "text/plain": [
       "<IPython.core.display.Markdown object>"
      ],
      "text/markdown": "---\n**Result 3**  \n- **Relevance Score:** `0.6027`  \n- **Patient Num:** `1000000123`  \n- **Encounter Num:** `475208`  \n- **Start Date:** `11/27/2002`  \n- **Document ID:** `02c925e8-38cd-4aa2-8058-f3e13d49e2a2`  \n\n**Excerpt:**\n```text\n**Visit Information:** - Patient ID: 1000000123 - Encounter ID: 475208 - Visit Date: November 27, 2002  **Subjective:** This is a 19-year-old Indian male who has been under our care for asthma management. The patient speaks German and came to the clinic on November 27, 2002, for a follow-up visit. Since his last appointment in March 2001, he has experienced an uptick in both the frequency and severity of his asthma attacks. Recently, his nocturnal asthma episodes have become more disruptive, leading to sleep disturbances and affecting his daily function and academic performance. The patient reports consistent symptoms of wheezing, shortness of breath, and chest tightness that are exacerbated by physical activities and cold weather. He has been reliant on his rescue inhaler, using it three to four times a day with only partial relief.  His medical history includes chronic asthma, which has persisted since childhood. He is currently managed with a fluticasone/salmeterol inhaler taken twi...\n```"
     },
     "metadata": {},
     "output_type": "display_data"
    },
    {
     "data": {
      "text/plain": [
       "<IPython.core.display.Markdown object>"
      ],
      "text/markdown": "---\n**Result 4**  \n- **Relevance Score:** `0.6026`  \n- **Patient Num:** `1000000005`  \n- **Encounter Num:** `475726`  \n- **Start Date:** `07/02/2003`  \n- **Document ID:** `4448fa26-08b7-4494-9ddc-45472e13a690`  \n\n**Excerpt:**\n```text\n**Visit Information:** - Patient ID: 1000000005 - Encounter ID: 475726 - Visit Date: July 2, 2003  **Subjective:**  This is a 30-year-old Hispanic female who is an English speaker, followed at our clinic for asthma management. Today, she presents for a routine follow-up visit. The patient reports persistent symptoms of asthma, including increased shortness of breath, wheezing, and a nocturnal cough that disrupts her sleep. She mentions that these symptoms have worsened over the past two weeks despite regular use of her asthma medications. She is diligent with her albuterol inhaler (used as needed), fluticasone inhaler (daily), and montelukast (nightly), yet finds that the albuterol offers only temporary relief.  Her medical history includes asthma with multiple past exacerbations usually triggered by allergens or respiratory infections. There are no past surgeries of note. Socially, she resides in an urban environment with high allergen exposure and works as a primary school teacher. S...\n```"
     },
     "metadata": {},
     "output_type": "display_data"
    },
    {
     "data": {
      "text/plain": [
       "<IPython.core.display.Markdown object>"
      ],
      "text/markdown": "---\n**Result 5**  \n- **Relevance Score:** `0.5959`  \n- **Patient Num:** `1000000011`  \n- **Encounter Num:** `476451`  \n- **Start Date:** `03/16/2004`  \n- **Document ID:** `20715fd2-047a-4f91-91a3-b3943fddb2b9`  \n\n**Excerpt:**\n```text\n## SOAP Note  **Visit Information:** - Patient ID: 1000000011 - Encounter ID: 476451 - Visit Date: March 16, 2004  **Subjective:** This is a 55-year-old Caucasian female who speaks English and has been receiving care at our clinic for the past several months. She presents today for a follow-up visit primarily concerning her asthma, which has been problematic over the last month. The patient reports persistent shortness of breath, wheezing, and a nocturnal cough, hindering her sleep quality despite adherence to her prescribed medication regimen. She denies recent smoking, exposure to known allergens, or new environmental triggers.  Her past medical history includes recurrent asthma, a previous myocardial infarction, hypertension, hypercholesterolemia, lumbar disc displacement with chronic lumbago, cervical dysplasia, and a panic disorder. She is currently taking fluticasone and an albuterol inhaler for asthma management, along with antihypertensive and lipid-lowering medications. The pa...\n```"
     },
     "metadata": {},
     "output_type": "display_data"
    },
    {
     "data": {
      "text/plain": [
       "<IPython.core.display.Markdown object>"
      ],
      "text/markdown": "---\n**Result 6**  \n- **Relevance Score:** `0.5955`  \n- **Patient Num:** `1000000123`  \n- **Encounter Num:** `471535`  \n- **Start Date:** `01/05/1998`  \n- **Document ID:** `d5aea114-7143-4d95-b11e-bab963154fde`  \n\n**Excerpt:**\n```text\n**Visit Information:** - Patient ID: 1000000123 - Encounter ID: 471535 - Visit Date: January 5, 1998  **Subjective:** This is a 15-year-old Indian male who has been a patient at our clinic, presenting today for a follow-up visit. He speaks German and has a well-documented history of asthma. The patient reports experiencing increased frequency and severity of asthma attacks over the past month, particularly at night, resulting in disturbed sleep and difficulty concentrating at school. He describes his symptoms as wheezing, shortness of breath, and chest tightness, often triggered by exercise and cold air. He has been using his rescue inhaler more frequently, approximately three to four times daily, which provides temporary relief.   Past medical history is significant for persistent asthma since early childhood, managed with inhaled corticosteroids and a rescue inhaler. He has not undergone any surgeries. Currently, he is taking fluticasone/salmeterol inhaler twice daily and albuterol a...\n```"
     },
     "metadata": {},
     "output_type": "display_data"
    },
    {
     "data": {
      "text/plain": [
       "<IPython.core.display.Markdown object>"
      ],
      "text/markdown": "---\n**Result 7**  \n- **Relevance Score:** `0.5952`  \n- **Patient Num:** `1000000005`  \n- **Encounter Num:** `481497`  \n- **Start Date:** `09/02/2008`  \n- **Document ID:** `2936aabe-7401-4bc0-96e0-0af231f1ae54`  \n\n**Excerpt:**\n```text\nVisit Information:    - Patient ID: 1000000005    - Encounter ID: 481497    - Visit Date: 09/02/2008  This is a 35-year-old Hispanic female who has been a patient at our clinic for over a year, presenting today for follow-up on her chronic asthma and routine health examination. The patient speaks English well. She reports her asthma symptoms have worsened over the past two weeks, including increased shortness of breath, constant wheezing, and persistent cough. Despite regular use of an albuterol inhaler, daily fluticasone (an inhaled corticosteroid), and nightly montelukast, her symptom control remains poor with only short-term relief from albuterol.  She has a history of episodic asthma without status asthmaticus, sarcoidosis, pain in limbs, and disturbance of skin sensation. There is no history of smoking or alcohol use. She lives in an urban area with high allergen exposure and works as a primary school teacher, which might contribute to her symptoms.  During the physical examinatio...\n```"
     },
     "metadata": {},
     "output_type": "display_data"
    },
    {
     "data": {
      "text/plain": [
       "<IPython.core.display.Markdown object>"
      ],
      "text/markdown": "---\n**Result 8**  \n- **Relevance Score:** `0.5939`  \n- **Patient Num:** `1000000005`  \n- **Encounter Num:** `479401`  \n- **Start Date:** `12/29/2006`  \n- **Document ID:** `a6a25b6a-54c4-4bdf-a75d-45f6131983bc`  \n\n**Excerpt:**\n```text\n **Visit Information:** - Patient ID: 1000000005 - Encounter ID: 479401 - Visit Date: Dec 29, 2006  **Subjective:**  This is a 33-year-old Hispanic female who has been receiving care at our clinic over several visits. She speaks English and presented today for a follow-up visit to manage her asthma. She reports that her asthma symptoms, particularly shortness of breath, wheezing, and a persistent cough, have been worsening over the past two weeks despite adhering to her medication regimen which includes an albuterol inhaler as needed, a daily inhaled corticosteroid (fluticasone), and nightly montelukast. She notes that while the albuterol offers brief symptom relief, it has been insufficient to manage her exacerbations effectively.  Her medical history includes chronic asthma without status asthmaticus, non-specific epigastric and upper left quadrant abdominal pain, irritable bowel syndrome, painful respiration, and periodic vaginal infections. She is a non-smoker and non-drinker, livi...\n```"
     },
     "metadata": {},
     "output_type": "display_data"
    },
    {
     "data": {
      "text/plain": [
       "<IPython.core.display.Markdown object>"
      ],
      "text/markdown": "---\n**Result 9**  \n- **Relevance Score:** `0.5904`  \n- **Patient Num:** `1000000058`  \n- **Encounter Num:** `471856`  \n- **Start Date:** `09/08/1998`  \n- **Document ID:** `f82e2a89-52bf-4e2e-a031-a2df1a9abea6`  \n\n**Excerpt:**\n```text\n**Visit Information:** - Patient ID: 1000000058 - Encounter ID: 471856 - Visit Date: 09/08/1998  This is a 7-year-old Hispanic male who has been receiving care at our clinic for asthma and related conditions since the age of three. He returns today for a follow-up appointment accompanied by his mother, whose primary language is Spanish. They are here to discuss the management of his asthma and associated respiratory issues.  **Subjective:** The patient’s mother reports an increased frequency of coughing and wheezing over the past month, particularly disrupting sleep at night and occurring after physical activity. There have been no recent episodes of fever or respiratory infections. The patient has been using his albuterol inhaler approximately three times per week.  The patient’s past medical history is significant for asthma and seasonal allergies, with several years of documentation. His surgical history includes a unilateral repair of an indirect inguinal hernia and excision of a h...\n```"
     },
     "metadata": {},
     "output_type": "display_data"
    },
    {
     "data": {
      "text/plain": [
       "<IPython.core.display.Markdown object>"
      ],
      "text/markdown": "---\n**Result 10**  \n- **Relevance Score:** `0.5899`  \n- **Patient Num:** `1000000024`  \n- **Encounter Num:** `482121`  \n- **Start Date:** `01/02/2009`  \n- **Document ID:** `291bbef6-1564-4605-9e78-a0faddd92979`  \n\n**Excerpt:**\n```text\n**Visit Information:** - **Patient ID:** 1000000024 - **Encounter ID:** 482121 - **Visit Date:** January 2, 2009  **Subjective:** This is a 30-year-old Black male who has been receiving care at our clinic for approximately 3 months. He speaks English and presents today for a follow-up of his chronic asthma, which is the primary reason for his visit. He mentions intermittent symptoms of wheezing and shortness of breath, particularly at night and when engaging in physical activity. His asthma symptoms typically respond to his prescribed inhaled corticosteroid (fluticasone) and rescue inhaler (albuterol). However, he experiences symptomatic episodes roughly twice a week. The patient denies any recent respiratory infections or emergency department visits related to asthma exacerbation.   Additionally, he reports a persistent rash that first appeared two weeks ago. He does not attribute this to any known allergens or recent changes in his environment. He notes some mild itching but no signi...\n```"
     },
     "metadata": {},
     "output_type": "display_data"
    }
   ],
   "execution_count": 39
  },
  {
   "metadata": {
    "ExecuteTime": {
     "end_time": "2025-05-16T21:41:18.991801Z",
     "start_time": "2025-05-16T21:41:18.953733Z"
    }
   },
   "cell_type": "code",
   "source": [
    "# -----------------------------------------------------------\n",
    "# 3.3. Use a Retriever with a Similarity Score Threshold\n",
    "# -----------------------------------------------------------\n",
    "# This cell configures a retriever that only returns documents whose\n",
    "# similarity scores exceed a predefined threshold.\n",
    "\n",
    "# Parameters:\n",
    "# - search_type=\"similarity_score_threshold\": Enables threshold-based filtering.\n",
    "# - search_kwargs={\"k\": 10, \"score_threshold\": 0.6}\n",
    "#     - k: Max number of documents to evaluate\n",
    "#     - score_threshold: Minimum similarity score required for inclusion\n",
    "\n",
    "# Purpose:\n",
    "# This improves retrieval precision by excluding weak matches—essential\n",
    "# for clinical reasoning and safety-critical applications.\n",
    "\n",
    "from IPython.display import display, Markdown\n",
    "\n",
    "# Define threshold and top-k limit\n",
    "score_threshold = 0.6\n",
    "top_k = 10\n",
    "\n",
    "# Create the retriever with filtering\n",
    "retriever = vectorstore.as_retriever(\n",
    "    search_type=\"similarity_score_threshold\",\n",
    "    search_kwargs={\"k\": top_k, \"score_threshold\": score_threshold}\n",
    ")\n",
    "\n",
    "# Execute the retrieval\n",
    "results = retriever.invoke(query)\n",
    "\n",
    "# Display results\n",
    "display(Markdown(f\"### 🔎 Retrieved Clinical Notes (Score ≥ {score_threshold})\"))\n",
    "\n",
    "for idx, doc in enumerate(results, 1):\n",
    "    patient = doc.metadata.get(\"patient_num\", \"N/A\")\n",
    "    date = doc.metadata.get(\"start_date\", \"N/A\")\n",
    "    doc_id = doc.id\n",
    "    excerpt = doc.page_content[:1000].replace(\"\\n\", \" \")\n",
    "\n",
    "    display(Markdown(\n",
    "        f\"**Document {idx}**  \\n\"\n",
    "        f\"- **Patient Num:** `{patient}`  \\n\"\n",
    "        f\"- **Start Date:** `{date}`  \\n\"\n",
    "        f\"- **Document ID:** `{doc_id}`  \\n\\n\"\n",
    "        f\"**Excerpt:**\\n```text\\n{excerpt}...\\n```\"\n",
    "    ))\n",
    "\n",
    "display(Markdown(f\"**✅ Total relevant results:** `{len(results)}`\"))\n"
   ],
   "id": "f1aca9739171e3d",
   "outputs": [
    {
     "data": {
      "text/plain": [
       "<IPython.core.display.Markdown object>"
      ],
      "text/markdown": "### 🔎 Retrieved Clinical Notes (Score ≥ 0.6)"
     },
     "metadata": {},
     "output_type": "display_data"
    },
    {
     "data": {
      "text/plain": [
       "<IPython.core.display.Markdown object>"
      ],
      "text/markdown": "**Document 1**  \n- **Patient Num:** `1000000005`  \n- **Start Date:** `06/21/2005`  \n- **Document ID:** `fd7856a3-a4dc-476e-85bd-daac63bcc2f7`  \n\n**Excerpt:**\n```text\n**Visit Information:** - Patient ID: 1000000005 - Encounter ID: 477663 - Visit Date: June 21, 2005  **Subjective:**  This is a 32-year-old Hispanic female who has been receiving care at our clinic for approximately 3 months. She speaks English and presents today for a follow-up visit scheduled as part of her ongoing asthma management. The patient reports continued asthma symptoms, including persistent shortness of breath, wheezing particularly at night, and a cough that disrupts her sleep. Over the past two weeks, these symptoms have intensified despite regular usage of her asthma medications: albuterol inhaler for rescue, daily fluticasone inhaler, and nightly montelukast. She states the albuterol provides only brief relief.  She has a medical history of unspecified asthma without mention of status asthmaticus, back sprain from unspecified causes, vaginitis, and a previous high-risk pregnancy requiring special investigations. Her social history includes living in an urban environment ...\n```"
     },
     "metadata": {},
     "output_type": "display_data"
    },
    {
     "data": {
      "text/plain": [
       "<IPython.core.display.Markdown object>"
      ],
      "text/markdown": "**Document 2**  \n- **Patient Num:** `1000000011`  \n- **Start Date:** `11/20/2003`  \n- **Document ID:** `533d70d1-c60a-4d28-9501-633f4ad9aa81`  \n\n**Excerpt:**\n```text\n**Visit Information:** - Patient ID: 1000000011 - Encounter ID: 476139 - Visit Date: Nov 20, 2003  **Subjective:** This is a 54-year-old Caucasian female who speaks English and has been receiving care at our clinic. She presents today for a follow-up regarding her recurrent asthma and associated symptoms. The patient is experiencing persistent shortness of breath, wheezing, and a nocturnal cough that interrupts her sleep. These symptoms have been particularly troublesome over the last month despite adherence to her current medication regimen. She denies smoking and has reported no recent exposure to known allergens or new environmental triggers.  Her past medical history is significant for recurrent asthma, an acute myocardial infarction, hypertension, hypercholesterolemia, lumbar disc displacement leading to chronic lumbago, cervical dysplasia, and a panic disorder. Her medications include fluticasone and an albuterol inhaler for asthma, along with antihypertensive and lipid-lowering ...\n```"
     },
     "metadata": {},
     "output_type": "display_data"
    },
    {
     "data": {
      "text/plain": [
       "<IPython.core.display.Markdown object>"
      ],
      "text/markdown": "**Document 3**  \n- **Patient Num:** `1000000123`  \n- **Start Date:** `11/27/2002`  \n- **Document ID:** `02c925e8-38cd-4aa2-8058-f3e13d49e2a2`  \n\n**Excerpt:**\n```text\n**Visit Information:** - Patient ID: 1000000123 - Encounter ID: 475208 - Visit Date: November 27, 2002  **Subjective:** This is a 19-year-old Indian male who has been under our care for asthma management. The patient speaks German and came to the clinic on November 27, 2002, for a follow-up visit. Since his last appointment in March 2001, he has experienced an uptick in both the frequency and severity of his asthma attacks. Recently, his nocturnal asthma episodes have become more disruptive, leading to sleep disturbances and affecting his daily function and academic performance. The patient reports consistent symptoms of wheezing, shortness of breath, and chest tightness that are exacerbated by physical activities and cold weather. He has been reliant on his rescue inhaler, using it three to four times a day with only partial relief.  His medical history includes chronic asthma, which has persisted since childhood. He is currently managed with a fluticasone/salmeterol inhaler taken twi...\n```"
     },
     "metadata": {},
     "output_type": "display_data"
    },
    {
     "data": {
      "text/plain": [
       "<IPython.core.display.Markdown object>"
      ],
      "text/markdown": "**Document 4**  \n- **Patient Num:** `1000000005`  \n- **Start Date:** `07/02/2003`  \n- **Document ID:** `4448fa26-08b7-4494-9ddc-45472e13a690`  \n\n**Excerpt:**\n```text\n**Visit Information:** - Patient ID: 1000000005 - Encounter ID: 475726 - Visit Date: July 2, 2003  **Subjective:**  This is a 30-year-old Hispanic female who is an English speaker, followed at our clinic for asthma management. Today, she presents for a routine follow-up visit. The patient reports persistent symptoms of asthma, including increased shortness of breath, wheezing, and a nocturnal cough that disrupts her sleep. She mentions that these symptoms have worsened over the past two weeks despite regular use of her asthma medications. She is diligent with her albuterol inhaler (used as needed), fluticasone inhaler (daily), and montelukast (nightly), yet finds that the albuterol offers only temporary relief.  Her medical history includes asthma with multiple past exacerbations usually triggered by allergens or respiratory infections. There are no past surgeries of note. Socially, she resides in an urban environment with high allergen exposure and works as a primary school teacher. S...\n```"
     },
     "metadata": {},
     "output_type": "display_data"
    },
    {
     "data": {
      "text/plain": [
       "<IPython.core.display.Markdown object>"
      ],
      "text/markdown": "**✅ Total relevant results:** `4`"
     },
     "metadata": {},
     "output_type": "display_data"
    }
   ],
   "execution_count": 40
  },
  {
   "metadata": {
    "ExecuteTime": {
     "end_time": "2025-05-16T21:43:46.563659Z",
     "start_time": "2025-05-16T21:43:46.507374Z"
    }
   },
   "cell_type": "code",
   "source": [
    "# -----------------------------------------------------------\n",
    "# 3.4. Perform Maximal Marginal Relevance (MMR) Search\n",
    "# -----------------------------------------------------------\n",
    "# This cell retrieves clinical notes using Maximal Marginal Relevance (MMR),\n",
    "# which balances relevance to the query with diversity across the results.\n",
    "\n",
    "# Parameters:\n",
    "# - fetch_k = 500: Number of top-ranked candidates to evaluate\n",
    "# - k = 5: Final number of diverse, relevant documents to return\n",
    "# - lambda_mult:\n",
    "#     - 0.0 → maximize diversity\n",
    "#     - 1.0 → maximize relevance\n",
    "#     - 0.5 → balance between both\n",
    "\n",
    "# Purpose:\n",
    "# MMR reduces redundancy by penalizing near-duplicates while still prioritizing\n",
    "# clinical notes that are relevant to the query. This is helpful when multiple\n",
    "# perspectives or variations are valuable (e.g., different asthma treatment plans).\n",
    "\n",
    "from IPython.display import display, Markdown\n",
    "\n",
    "# Perform MMR search\n",
    "results = vectorstore.max_marginal_relevance_search(\n",
    "    query=query,\n",
    "    k=5,\n",
    "    fetch_k=500,\n",
    "    lambda_mult=0.5\n",
    ")\n",
    "\n",
    "# Display results\n",
    "display(Markdown(\"### 📘 Retrieved Clinical Notes Using Maximal Marginal Relevance (MMR)\"))\n",
    "\n",
    "for idx, doc in enumerate(results, 1):\n",
    "    patient = doc.metadata.get(\"patient_num\", \"N/A\")\n",
    "    date = doc.metadata.get(\"start_date\", \"N/A\")\n",
    "    doc_id = getattr(doc, \"id\", \"N/A\")\n",
    "    excerpt = doc.page_content[:1000].replace(\"\\n\", \" \")\n",
    "\n",
    "    display(Markdown(\n",
    "        f\"**Document {idx}**  \\n\"\n",
    "        f\"- **Patient Num:** `{patient}`  \\n\"\n",
    "        f\"- **Start Date:** `{date}`  \\n\"\n",
    "        f\"- **Document ID:** `{doc_id}`  \\n\\n\"\n",
    "        f\"**Excerpt:**\\n```text\\n{excerpt}...\\n```\"\n",
    "    ))\n",
    "\n",
    "display(Markdown(f\"**✅ Total MMR Results Returned:** `{len(results)}`\"))\n"
   ],
   "id": "828479f4c3baa9bd",
   "outputs": [
    {
     "data": {
      "text/plain": [
       "<IPython.core.display.Markdown object>"
      ],
      "text/markdown": "### 📘 Retrieved Clinical Notes Using Maximal Marginal Relevance (MMR)"
     },
     "metadata": {},
     "output_type": "display_data"
    },
    {
     "data": {
      "text/plain": [
       "<IPython.core.display.Markdown object>"
      ],
      "text/markdown": "**Document 1**  \n- **Patient Num:** `1000000005`  \n- **Start Date:** `06/21/2005`  \n- **Document ID:** `fd7856a3-a4dc-476e-85bd-daac63bcc2f7`  \n\n**Excerpt:**\n```text\n**Visit Information:** - Patient ID: 1000000005 - Encounter ID: 477663 - Visit Date: June 21, 2005  **Subjective:**  This is a 32-year-old Hispanic female who has been receiving care at our clinic for approximately 3 months. She speaks English and presents today for a follow-up visit scheduled as part of her ongoing asthma management. The patient reports continued asthma symptoms, including persistent shortness of breath, wheezing particularly at night, and a cough that disrupts her sleep. Over the past two weeks, these symptoms have intensified despite regular usage of her asthma medications: albuterol inhaler for rescue, daily fluticasone inhaler, and nightly montelukast. She states the albuterol provides only brief relief.  She has a medical history of unspecified asthma without mention of status asthmaticus, back sprain from unspecified causes, vaginitis, and a previous high-risk pregnancy requiring special investigations. Her social history includes living in an urban environment ...\n```"
     },
     "metadata": {},
     "output_type": "display_data"
    },
    {
     "data": {
      "text/plain": [
       "<IPython.core.display.Markdown object>"
      ],
      "text/markdown": "**Document 2**  \n- **Patient Num:** `1000000088`  \n- **Start Date:** `10/28/2004`  \n- **Document ID:** `42f7694c-98b4-46f8-9acc-7b9523213d0e`  \n\n**Excerpt:**\n```text\nVisit Information: - Patient ID: 1000000088 - Encounter ID: 477031 - Visit Date: Oct 28 2004  This is a 9-year-old Asian male, a German speaker, who has been receiving care at our clinic for the past two years. He presents today for a follow-up visit primarily to address complications associated with his asthma.  Subjective: The young patient and his mother report episodes of increased wheezing and shortness of breath occurring predominantly at night. The mother notes that the use of the albuterol inhaler has significantly increased, and he experiences more frequent coughing and chest tightness, particularly with physical activity or exposure to allergens like pollen and dust. He has an established history of asthma and allergic rhinitis. Moreover, his medical history is significant for cystic fibrosis, postinflammatory pulmonary fibrosis, and concerns regarding his growth and nutritional status. Current medications include a daily inhaled corticosteroid for asthma, albuterol for acute...\n```"
     },
     "metadata": {},
     "output_type": "display_data"
    },
    {
     "data": {
      "text/plain": [
       "<IPython.core.display.Markdown object>"
      ],
      "text/markdown": "**Document 3**  \n- **Patient Num:** `1000000105`  \n- **Start Date:** `02/04/2009`  \n- **Document ID:** `539ebc57-152c-4a84-baa3-3d7b9c6e4e63`  \n\n**Excerpt:**\n```text\nThis is a 65-year-old Hispanic male who has been receiving care at our clinic for the past few months. He speaks German and presented today, February 4, 2009, for a follow-up concerning his asthma and overall health management. The patient has a primary diagnosis of unspecified asthma, experiencing increased asthma attacks over the past two weeks, particularly in the early mornings and late evenings. These episodes are characterized by significant shortness of breath and wheezing. The patient has been using his rescue inhaler, Albuterol, 5-6 times per day but denies any nocturnal symptoms affecting his sleep.  The patient has a comprehensive medical history, which includes a chronic obstructive form of asthma, a history of malignant neoplasm of the prostate, previously treated with radical prostatectomy, and hypertension. Other notable conditions include a history of tobacco use disorder and prior preoperative cardiovascular examinations. He also underwent a simple excision of a lympha...\n```"
     },
     "metadata": {},
     "output_type": "display_data"
    },
    {
     "data": {
      "text/plain": [
       "<IPython.core.display.Markdown object>"
      ],
      "text/markdown": "**Document 4**  \n- **Patient Num:** `1000000112`  \n- **Start Date:** `06/10/2005`  \n- **Document ID:** `334ce254-4040-4ca6-8d59-9e7793d50d73`  \n\n**Excerpt:**\n```text\nVisit Information: - Patient ID: 1000000112 - Encounter ID: 477645 - Visit Date: 06/10/2005  This is a 12-year-old Black male who has been receiving care at our clinic for approximately three years. He is Spanish-speaking and presented today, June 10, 2005, for a follow-up visit concerning his asthma management.  Subjective: The primary concerns today remain focused on the patient’s chronic asthma. Over the past week, he has been experiencing increased symptoms, including wheezing, dyspnea, particularly during physical activity, and nocturnal cough, which have necessitated an increased use of his Atrovent inhaler. The patient denies any associated fever or chest pain. Despite adherence to his current medication regimen, these symptoms have persisted, indicating suboptimal asthma control.  The patient’s medical history is significant for multiple diagnoses of asthma, with subtypes including acute exacerbations and status asthmaticus, as well as past pneumonia and pulmonary collapse. The...\n```"
     },
     "metadata": {},
     "output_type": "display_data"
    },
    {
     "data": {
      "text/plain": [
       "<IPython.core.display.Markdown object>"
      ],
      "text/markdown": "**Document 5**  \n- **Patient Num:** `1000000110`  \n- **Start Date:** `11/13/2008`  \n- **Document ID:** `f8e48e4f-53fd-4cf7-8a56-e2c6f0b0de7b`  \n\n**Excerpt:**\n```text\nVisit Information: - Patient ID: 1000000110 - Encounter ID: 481878 - Visit Date: 11/13/2008  Subjective: This is a 36-year-old Hispanic male, fluent in German, who is presenting for a follow-up visit. He has been previously diagnosed with multiple chronic conditions, primarily asthma, which he manages with inhaled corticosteroids. He reports that his asthma symptoms, including intermittent wheezing and shortness of breath, are predominantly triggered by exposure to pollen and dust. There have been no recent severe exacerbations requiring hospitalization.   In addition to asthma, the patient is monitoring several coexisting conditions. He has a history of both rheumatoid arthritis and polymyositis, which contribute to generalized fatigue and periodic limb pain, respectively. These symptoms have been relatively stable with his current medication regimen including Prednisone. He also reports occasional tingling in his extremities secondary to mononeuritis, but no recent exacerbations.  Fo...\n```"
     },
     "metadata": {},
     "output_type": "display_data"
    },
    {
     "data": {
      "text/plain": [
       "<IPython.core.display.Markdown object>"
      ],
      "text/markdown": "**✅ Total MMR Results Returned:** `5`"
     },
     "metadata": {},
     "output_type": "display_data"
    }
   ],
   "execution_count": 42
  },
  {
   "metadata": {},
   "cell_type": "markdown",
   "source": [
    "## 4. Generating Structured Responses with an LLM (RAG Retrieval)\n",
    "\n",
    "In this final step, we use a Large Language Model (LLM) to analyze the clinical notes retrieved in the previous section. By injecting these relevant notes into a structured prompt, we enable the LLM to generate clinically useful, structured responses.\n",
    "\n",
    "This completes the Retrieval-Augmented Generation (RAG) pipeline, connecting search results to intelligent language generation.\n",
    "\n",
    "### Key Steps\n",
    "\n",
    "1. **Create a Prompt Template (Step 4.1)**\n",
    "   - Defines a reusable prompt structure that includes placeholders for both the query and the retrieved clinical context.\n",
    "   - Specifies a structured output format, including metadata fields such as patient ID, encounter date, and a clinical summary.\n",
    "\n",
    "2. **Invoke the LLM with Retrieved Context (Step 4.2)**\n",
    "   - Fills the prompt with retrieved notes and the clinical query.\n",
    "   - Sends the prompt to a local LLM (e.g., Qwen2 or LLaMA 3 via Ollama).\n",
    "   - Returns a structured, context-aware response to the clinical question.\n",
    "\n",
    "### Why It Matters\n",
    "\n",
    "This generation step demonstrates the power of combining semantic search with generative AI:\n",
    "- Produces context-rich answers grounded in patient data\n",
    "- Supports clinical summarization and decision support\n",
    "- Enables zero-shot reasoning over real-world clinical notes\n",
    "\n",
    "<img src=\"./images/rag_generation.png\" alt=\"RAG Generation\" width=\"1250\">\n"
   ],
   "id": "60a469cbbda2e7de"
  },
  {
   "metadata": {
    "ExecuteTime": {
     "end_time": "2025-05-16T21:49:13.732845Z",
     "start_time": "2025-05-16T21:49:13.730320Z"
    }
   },
   "cell_type": "code",
   "source": [
    "# -----------------------------------------------------------\n",
    "# 4.1. Create a Prompt Template for LLM Querying\n",
    "# -----------------------------------------------------------\n",
    "# This prompt template guides the LLM to generate structured summaries\n",
    "# from clinical notes retrieved via similarity search.\n",
    "\n",
    "# It includes placeholders for:\n",
    "# - {retrieved_docs}: Injects the top-matching clinical notes\n",
    "# - {query}: A user-defined clinical question\n",
    "\n",
    "# Output Expectations:\n",
    "# - One structured response per patient\n",
    "# - Includes metadata for traceability\n",
    "# - Summarizes and answers the query based on each patient's most recent note\n",
    "\n",
    "from langchain.prompts import PromptTemplate\n",
    "\n",
    "prompt_template = PromptTemplate.from_template(\n",
    "    \"You are a medical assistant analyzing clinical notes. Based on the following records:\\n\\n\"\n",
    "    \"{retrieved_docs}\\n\\n\"\n",
    "    \"Answer the question: {query} using the following structure:\\n\"\n",
    "    \"   - Patient Num: <value>, Gender: <value>, Age: <value>, Race: <value>\\n\"\n",
    "    \"   - Visit Date: <value>\\n\"\n",
    "    \"   - Summary: One paragraph summarizing the patient note and answering the question.\\n\\n\"\n",
    "    \"   - Has Asthma: <Yes/No>\"\n",
    "    \"Instructions:\\n\"\n",
    "    \"- Show all patients that are relevant to the query.\\n\"\n",
    "    \"- Only consider the most recent note for each patient (identified by patient_num).\"\n",
    ")\n",
    "\n",
    "display(prompt_template)\n"
   ],
   "id": "ebb9aec086115c34",
   "outputs": [
    {
     "data": {
      "text/plain": [
       "PromptTemplate(input_variables=['query', 'retrieved_docs'], input_types={}, partial_variables={}, template='You are a medical assistant analyzing clinical notes. Based on the following records:\\n\\n{retrieved_docs}\\n\\nAnswer the question: {query} using the following structure:\\n   - Patient Num: <value>, Gender: <value>, Age: <value>, Race: <value>\\n   - Visit Date: <value>\\n   - Summary: One paragraph summarizing the patient note and answering the question.\\n\\n   - Has Asthma: <Yes/No>Instructions:\\n- Show all patients that are relevant to the query.\\n- Only consider the most recent note for each patient (identified by patient_num).')"
      ]
     },
     "metadata": {},
     "output_type": "display_data"
    }
   ],
   "execution_count": 45
  },
  {
   "metadata": {
    "ExecuteTime": {
     "end_time": "2025-05-16T21:51:50.395404Z",
     "start_time": "2025-05-16T21:49:43.368688Z"
    }
   },
   "cell_type": "code",
   "source": [
    "# -----------------------------------------------------------\n",
    "# 4.2. Use Retrieved Context to Invoke LLM and Generate Response\n",
    "# -----------------------------------------------------------\n",
    "# This step completes the RAG workflow by injecting the retrieved clinical notes\n",
    "# into a structured prompt and using an LLM (via Ollama) to generate a response.\n",
    "\n",
    "from langchain_ollama import ChatOllama\n",
    "from IPython.display import display, Markdown\n",
    "\n",
    "# Initialize the local Ollama model (e.g., Qwen 2, LLaMA 3, etc.)\n",
    "model = ChatOllama(model=\"llama3:70b\")\n",
    "\n",
    "# Prepare the context text (combine page_content from results list)\n",
    "retrieved_context = \"\\n\\n---\\n\\n\".join([doc.page_content for doc in results])\n",
    "\n",
    "# Fill the prompt template with retrieved notes and the user's query\n",
    "final_prompt = prompt_template.format(\n",
    "    retrieved_docs=retrieved_context,\n",
    "    query=query\n",
    ")\n",
    "\n",
    "# Generate a structured response using the LLM\n",
    "response = model.invoke(final_prompt)\n",
    "\n",
    "# Display the LLM-generated output\n",
    "display(Markdown(\"### LLM-Generated Response\"))\n",
    "display(Markdown(response.content))\n"
   ],
   "id": "44506dfe18ccb7c6",
   "outputs": [
    {
     "data": {
      "text/plain": [
       "<IPython.core.display.Markdown object>"
      ],
      "text/markdown": "### LLM-Generated Response"
     },
     "metadata": {},
     "output_type": "display_data"
    },
    {
     "data": {
      "text/plain": [
       "<IPython.core.display.Markdown object>"
      ],
      "text/markdown": "Here are the results:\n\n**Patient 1**\n- Patient Num: 1000000005, Gender: Female, Age: 32, Race: Hispanic\n- Visit Date: June 21, 2005\n- Summary: The patient presents with continued asthma symptoms, including shortness of breath, wheezing, and cough. She is taking albuterol inhaler for rescue and daily fluticasone inhaler.\n- Has Asthma: Yes\n\n**Patient 2**\n- Patient Num: 1000000088, Gender: Male, Age: 9, Race: Asian\n- Visit Date: Oct 28, 2004\n- Summary: The patient has a history of asthma and allergic rhinitis. He is taking daily inhaled corticosteroids for asthma and albuterol for acute symptoms.\n- Has Asthma: Yes\n\n**Patient 3**\n- Patient Num: 1000000112, Gender: Male, Age: 12, Race: Black\n- Visit Date: June 10, 2005\n- Summary: The patient has chronic asthma with subtypes including acute exacerbations and status asthmaticus. He is taking Atrovent (ipratropium bromide) and Flovent (fluticasone).\n- Has Asthma: Yes\n\n**Patient 4**\n- Patient Num: 1000000110, Gender: Male, Age: 36, Race: Hispanic\n- Visit Date: November 13, 2008\n- Summary: The patient has asthma managed with inhaled corticosteroids. He is taking no specific medication for asthma.\n- Has Asthma: Yes"
     },
     "metadata": {},
     "output_type": "display_data"
    }
   ],
   "execution_count": 46
  }
 ],
 "metadata": {
  "kernelspec": {
   "display_name": "Python 3",
   "language": "python",
   "name": "python3"
  },
  "language_info": {
   "codemirror_mode": {
    "name": "ipython",
    "version": 2
   },
   "file_extension": ".py",
   "mimetype": "text/x-python",
   "name": "python",
   "nbconvert_exporter": "python",
   "pygments_lexer": "ipython2",
   "version": "2.7.6"
  }
 },
 "nbformat": 4,
 "nbformat_minor": 5
}
