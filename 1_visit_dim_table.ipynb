{
 "cells": [
  {
   "cell_type": "code",
   "id": "initial_id",
   "metadata": {
    "collapsed": true,
    "ExecuteTime": {
     "end_time": "2025-05-01T16:13:51.930169Z",
     "start_time": "2025-05-01T16:13:51.812386Z"
    }
   },
   "source": [
    "# -----------------------------------------------------------\n",
    "# 1. Load Visit Data from i2b2-Mimicking CSV\n",
    "# -----------------------------------------------------------\n",
    "# This cell loads the consolidated CSV file which mimics the i2b2 visit_dimension table.\n",
    "# Each row contains patient ID, visit date, asthma flag, and a BinHex-encoded clinical note.\n",
    "\n",
    "import pandas as pd\n",
    "import binascii\n",
    "\n",
    "csv_path = \"datafiles/i2b2_visit_dimension.csv\"\n",
    "df = pd.read_csv(csv_path)\n",
    "df[\"has_asthma\"] = df[\"location_cd\"] == \"ASTHMA_CLINIC\"\n",
    "\n",
    "# Show sample records\n",
    "df.head()"
   ],
   "outputs": [
    {
     "data": {
      "text/plain": [
       "   encounter_num  patient_num  start_date    end_date inout_cd    location_cd  \\\n",
       "0         475303   1000000001  01/16/2003  01/16/2003        O  ASTHMA_CLINIC   \n",
       "1         479681   1000000001  03/29/2007  03/29/2007        O  ASTHMA_CLINIC   \n",
       "2         480315   1000000001  09/20/2007  09/20/2007        O  ASTHMA_CLINIC   \n",
       "3         480903   1000000001  03/04/2008  03/04/2008        O  ASTHMA_CLINIC   \n",
       "4         481398   1000000001  08/11/2008  08/11/2008        O  ASTHMA_CLINIC   \n",
       "\n",
       "                         location_path  \\\n",
       "0  \\Hospital\\Clinic\\Pulmonary\\Asthma\\\\   \n",
       "1  \\Hospital\\Clinic\\Pulmonary\\Asthma\\\\   \n",
       "2  \\Hospital\\Clinic\\Pulmonary\\Asthma\\\\   \n",
       "3  \\Hospital\\Clinic\\Pulmonary\\Asthma\\\\   \n",
       "4  \\Hospital\\Clinic\\Pulmonary\\Asthma\\\\   \n",
       "\n",
       "                                          visit_blob  \\\n",
       "0  0x2A2A566973697420496E666F726D6174696F6E3A2A2A...   \n",
       "1  0x4F6E204D617263682032392C20323030372C20612032...   \n",
       "2  0x2A2A566973697420496E666F726D6174696F6E3A2A2A...   \n",
       "3  0x2A2A566973697420496E666F726D6174696F6E3A2A2A...   \n",
       "4  0x2A2A566973697420496E666F726D6174696F6E3A2A2A...   \n",
       "\n",
       "                                           file_name  has_asthma  \n",
       "0  PID:1000000001-EID:475303-CCD:PNote-SDT:200301...        True  \n",
       "1  PID:1000000001-EID:479681-CCD:PNote-SDT:200703...        True  \n",
       "2  PID:1000000001-EID:480315-CCD:PNote-SDT:200709...        True  \n",
       "3  PID:1000000001-EID:480903-CCD:PNote-SDT:200803...        True  \n",
       "4  PID:1000000001-EID:481398-CCD:PNote-SDT:200808...        True  "
      ],
      "text/html": [
       "<div>\n",
       "<style scoped>\n",
       "    .dataframe tbody tr th:only-of-type {\n",
       "        vertical-align: middle;\n",
       "    }\n",
       "\n",
       "    .dataframe tbody tr th {\n",
       "        vertical-align: top;\n",
       "    }\n",
       "\n",
       "    .dataframe thead th {\n",
       "        text-align: right;\n",
       "    }\n",
       "</style>\n",
       "<table border=\"1\" class=\"dataframe\">\n",
       "  <thead>\n",
       "    <tr style=\"text-align: right;\">\n",
       "      <th></th>\n",
       "      <th>encounter_num</th>\n",
       "      <th>patient_num</th>\n",
       "      <th>start_date</th>\n",
       "      <th>end_date</th>\n",
       "      <th>inout_cd</th>\n",
       "      <th>location_cd</th>\n",
       "      <th>location_path</th>\n",
       "      <th>visit_blob</th>\n",
       "      <th>file_name</th>\n",
       "      <th>has_asthma</th>\n",
       "    </tr>\n",
       "  </thead>\n",
       "  <tbody>\n",
       "    <tr>\n",
       "      <th>0</th>\n",
       "      <td>475303</td>\n",
       "      <td>1000000001</td>\n",
       "      <td>01/16/2003</td>\n",
       "      <td>01/16/2003</td>\n",
       "      <td>O</td>\n",
       "      <td>ASTHMA_CLINIC</td>\n",
       "      <td>\\Hospital\\Clinic\\Pulmonary\\Asthma\\\\</td>\n",
       "      <td>0x2A2A566973697420496E666F726D6174696F6E3A2A2A...</td>\n",
       "      <td>PID:1000000001-EID:475303-CCD:PNote-SDT:200301...</td>\n",
       "      <td>True</td>\n",
       "    </tr>\n",
       "    <tr>\n",
       "      <th>1</th>\n",
       "      <td>479681</td>\n",
       "      <td>1000000001</td>\n",
       "      <td>03/29/2007</td>\n",
       "      <td>03/29/2007</td>\n",
       "      <td>O</td>\n",
       "      <td>ASTHMA_CLINIC</td>\n",
       "      <td>\\Hospital\\Clinic\\Pulmonary\\Asthma\\\\</td>\n",
       "      <td>0x4F6E204D617263682032392C20323030372C20612032...</td>\n",
       "      <td>PID:1000000001-EID:479681-CCD:PNote-SDT:200703...</td>\n",
       "      <td>True</td>\n",
       "    </tr>\n",
       "    <tr>\n",
       "      <th>2</th>\n",
       "      <td>480315</td>\n",
       "      <td>1000000001</td>\n",
       "      <td>09/20/2007</td>\n",
       "      <td>09/20/2007</td>\n",
       "      <td>O</td>\n",
       "      <td>ASTHMA_CLINIC</td>\n",
       "      <td>\\Hospital\\Clinic\\Pulmonary\\Asthma\\\\</td>\n",
       "      <td>0x2A2A566973697420496E666F726D6174696F6E3A2A2A...</td>\n",
       "      <td>PID:1000000001-EID:480315-CCD:PNote-SDT:200709...</td>\n",
       "      <td>True</td>\n",
       "    </tr>\n",
       "    <tr>\n",
       "      <th>3</th>\n",
       "      <td>480903</td>\n",
       "      <td>1000000001</td>\n",
       "      <td>03/04/2008</td>\n",
       "      <td>03/04/2008</td>\n",
       "      <td>O</td>\n",
       "      <td>ASTHMA_CLINIC</td>\n",
       "      <td>\\Hospital\\Clinic\\Pulmonary\\Asthma\\\\</td>\n",
       "      <td>0x2A2A566973697420496E666F726D6174696F6E3A2A2A...</td>\n",
       "      <td>PID:1000000001-EID:480903-CCD:PNote-SDT:200803...</td>\n",
       "      <td>True</td>\n",
       "    </tr>\n",
       "    <tr>\n",
       "      <th>4</th>\n",
       "      <td>481398</td>\n",
       "      <td>1000000001</td>\n",
       "      <td>08/11/2008</td>\n",
       "      <td>08/11/2008</td>\n",
       "      <td>O</td>\n",
       "      <td>ASTHMA_CLINIC</td>\n",
       "      <td>\\Hospital\\Clinic\\Pulmonary\\Asthma\\\\</td>\n",
       "      <td>0x2A2A566973697420496E666F726D6174696F6E3A2A2A...</td>\n",
       "      <td>PID:1000000001-EID:481398-CCD:PNote-SDT:200808...</td>\n",
       "      <td>True</td>\n",
       "    </tr>\n",
       "  </tbody>\n",
       "</table>\n",
       "</div>"
      ]
     },
     "execution_count": 3,
     "metadata": {},
     "output_type": "execute_result"
    }
   ],
   "execution_count": 3
  },
  {
   "metadata": {
    "ExecuteTime": {
     "end_time": "2025-05-01T16:18:07.805921Z",
     "start_time": "2025-05-01T16:18:07.784912Z"
    }
   },
   "cell_type": "code",
   "source": [
    "# -----------------------------------------------------------\n",
    "# 2. Interactive Patient Note Preview\n",
    "# -----------------------------------------------------------\n",
    "# Dropdown updates the preview of the first 15 lines of the decoded patient note.\n",
    "\n",
    "from IPython.display import display, Markdown\n",
    "import ipywidgets as widgets\n",
    "import binascii\n",
    "\n",
    "def show_patient_note(patient_id):\n",
    "    row = df[df[\"patient_num\"] == patient_id].iloc[0]\n",
    "    \n",
    "    hex_data = row[\"visit_blob\"].replace(\"0x\", \"\")\n",
    "    bin_data = binascii.unhexlify(hex_data)\n",
    "    note_text = bin_data.decode(\"utf-8\", errors=\"ignore\")\n",
    "    preview = \"\\n\".join(note_text.splitlines()[:15])\n",
    "    \n",
    "    display(Markdown(f\"### Patient {row['patient_num']} ({'Has Asthma' if row['has_asthma'] else 'No Asthma'}) - {row['start_date']}\"))\n",
    "    display(widgets.Textarea(value=preview, layout=widgets.Layout(width=\"100%\", height=\"300px\")))\n",
    "\n",
    "# Dropdown with interactive behavior\n",
    "widgets.interact(show_patient_note, patient_id=widgets.Dropdown(options=sorted(df[\"patient_num\"].unique()), description=\"Patient #:\"))\n"
   ],
   "id": "88a823fc2c7c4b28",
   "outputs": [
    {
     "data": {
      "text/plain": [
       "interactive(children=(Dropdown(description='Patient #:', options=(np.int64(1000000001), np.int64(1000000002), …"
      ],
      "application/vnd.jupyter.widget-view+json": {
       "version_major": 2,
       "version_minor": 0,
       "model_id": "f3338f8ee7b94ffdb9b7158710e59146"
      }
     },
     "metadata": {},
     "output_type": "display_data"
    },
    {
     "data": {
      "text/plain": [
       "<function __main__.show_patient_note(patient_id)>"
      ]
     },
     "execution_count": 5,
     "metadata": {},
     "output_type": "execute_result"
    }
   ],
   "execution_count": 5
  },
  {
   "metadata": {
    "ExecuteTime": {
     "end_time": "2025-05-01T16:21:18.905421Z",
     "start_time": "2025-05-01T16:21:18.357472Z"
    }
   },
   "cell_type": "code",
   "source": [
    "# -----------------------------------------------------------\n",
    "# 3. Define Prompt for Clinical Note Analysis\n",
    "# -----------------------------------------------------------\n",
    "# This cell creates a structured prompt using ChatPromptTemplate to instruct the model\n",
    "# to extract useful clinical information from the patient note.\n",
    "\n",
    "from langchain_core.prompts import ChatPromptTemplate\n",
    "\n",
    "messages_notes = [\n",
    "    (\"system\", \n",
    "     \"You are an advanced medical documentation assistant with expertise in clinical text analysis. Your task is to review a given clinical note and extract relevant medical details accurately.\"),\n",
    "    (\"human\", \n",
    "     \"Please analyze the following clinical note: {patient_note}.\\n\\n\"\n",
    "     \"Extract and list the following information:\\n\"\n",
    "     \"1. Patient demographics\\n\"\n",
    "     \"2. Chief Complaints\\n\"\n",
    "     \"3. Current Medications\\n\"\n",
    "     \"4. Determine whether the patient has asthma (Yes/No), based on explicit mentions or related diagnoses.\\n\\n\"\n",
    "     \"Provide the output in a structured format.\")\n",
    "]\n",
    "\n",
    "prompt_template_notes = ChatPromptTemplate.from_messages(messages_notes)"
   ],
   "id": "82e6a97150f1d06f",
   "outputs": [],
   "execution_count": 6
  }
 ],
 "metadata": {
  "kernelspec": {
   "display_name": "Python 3",
   "language": "python",
   "name": "python3"
  },
  "language_info": {
   "codemirror_mode": {
    "name": "ipython",
    "version": 2
   },
   "file_extension": ".py",
   "mimetype": "text/x-python",
   "name": "python",
   "nbconvert_exporter": "python",
   "pygments_lexer": "ipython2",
   "version": "2.7.6"
  }
 },
 "nbformat": 4,
 "nbformat_minor": 5
}
