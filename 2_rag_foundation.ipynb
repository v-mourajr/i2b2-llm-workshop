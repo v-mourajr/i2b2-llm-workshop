{
 "cells": [
  {
   "metadata": {},
   "cell_type": "markdown",
   "source": [
    "![i2b2 Logo](images/transmart-logo.png)\n",
    "\n",
    "# Using LLM + Embeddings to Search Patient Notes (RAG - Basics)\n",
    "\n",
    "This notebook demonstrates how to use **local embeddings** and **retrieval-augmented generation (RAG)** to search and analyze clinical notes stored in an i2b2-like format. It shows how to decode notes, embed them using MiniLM, retrieve similar cases using FAISS, and use a local LLM (e.g., LLaMA 3 via Ollama) to generate structured, clinical responses.\n",
    "\n",
    "### 🧠 Key Concepts Covered:\n",
    "\n",
    "## ✅ REVIEW the  !!!\n",
    "- Decoding binhex-encoded clinical notes\n",
    "- Creating semantic vector embeddings with `MiniLM`\n",
    "- Building a local FAISS vector store\n",
    "- Performing similarity search and understanding cosine scores\n",
    "- Filtering to only include the **most recent encounter per patient**\n",
    "- Injecting retrieved context into a structured prompt\n",
    "- Using a local LLM (Ollama) to generate medical insights\n",
    "\n",
    "Each cell builds upon the previous one to simulate a full RAG workflow adapted for **clinical informatics** scenarios using i2b2-like data.\n",
    "\n",
    "> This notebook is part of the workshop: _Using LLMs to Search Patient Notes_.\n"
   ],
   "id": "e6022b84adefe37b"
  },
  {
   "metadata": {
    "ExecuteTime": {
     "end_time": "2025-05-13T16:15:16.400719Z",
     "start_time": "2025-05-13T16:15:16.355257Z"
    }
   },
   "cell_type": "code",
   "source": [
    "# -----------------------------------------------------------\n",
    "# 1. Load and Explore Visit Data from i2b2-Mimicking CSV\n",
    "# -----------------------------------------------------------\n",
    "# This cell demonstrates how to load and inspect clinical notes\n",
    "# stored in BinHex format from a CSV that mimics the i2b2 `visit_dimension` table.\n",
    "# Each record contains:\n",
    "#   - encounter_num: Unique encounter ID\n",
    "#   - patient_num: Patient identifier\n",
    "#   - start_date, end_date: Visit timestamps\n",
    "#   - location_cd, location_path: Clinic/service details\n",
    "#   - visit_blob: BinHex-encoded clinical note text\n",
    "\n",
    "# Import required library\n",
    "import pandas as pd\n",
    "\n",
    "# Define path to the input data file\n",
    "csv_path = \"datafiles/i2b2_encounter_table.csv\"\n",
    "\n",
    "# Load the CSV into a pandas DataFrame\n",
    "df = pd.read_csv(csv_path)\n",
    "\n",
    "# Preview the first 10 rows to understand structure\n",
    "df.head(10)\n"
   ],
   "id": "initial_id",
   "outputs": [
    {
     "data": {
      "text/plain": [
       "   encounter_num  patient_num  start_date    end_date inout_cd  \\\n",
       "0         475303   1000000001  01/16/2003  01/16/2003        O   \n",
       "1         479681   1000000001  03/29/2007  03/29/2007        O   \n",
       "2         480315   1000000001  09/20/2007  09/20/2007        O   \n",
       "3         480903   1000000001  03/04/2008  03/04/2008        O   \n",
       "4         481398   1000000001  08/11/2008  08/11/2008        O   \n",
       "5         482655   1000000001  05/18/2009  05/18/2009        O   \n",
       "6         471658   1000000002  04/17/1998  04/17/1998        O   \n",
       "7         472076   1000000002  01/04/1999  01/04/1999        O   \n",
       "8         472473   1000000002  08/12/1999  08/12/1999        O   \n",
       "9         472692   1000000002  12/01/1999  12/01/1999        O   \n",
       "\n",
       "          location_cd                           location_path  \\\n",
       "0       ASTHMA_CLINIC     \\Hospital\\Clinic\\Pulmonary\\Asthma\\\\   \n",
       "1       ASTHMA_CLINIC     \\Hospital\\Clinic\\Pulmonary\\Asthma\\\\   \n",
       "2       ASTHMA_CLINIC     \\Hospital\\Clinic\\Pulmonary\\Asthma\\\\   \n",
       "3       ASTHMA_CLINIC     \\Hospital\\Clinic\\Pulmonary\\Asthma\\\\   \n",
       "4       ASTHMA_CLINIC     \\Hospital\\Clinic\\Pulmonary\\Asthma\\\\   \n",
       "5       ASTHMA_CLINIC     \\Hospital\\Clinic\\Pulmonary\\Asthma\\\\   \n",
       "6  GEN_MED_OUTPATIENT  \\Hospital\\Outpatient\\GeneralMedicine\\\\   \n",
       "7  GEN_MED_OUTPATIENT  \\Hospital\\Outpatient\\GeneralMedicine\\\\   \n",
       "8  GEN_MED_OUTPATIENT  \\Hospital\\Outpatient\\GeneralMedicine\\\\   \n",
       "9  GEN_MED_OUTPATIENT  \\Hospital\\Outpatient\\GeneralMedicine\\\\   \n",
       "\n",
       "                                          visit_blob  \n",
       "0  0x2A2A566973697420496E666F726D6174696F6E3A2A2A...  \n",
       "1  0x2A2A566973697420496E666F726D6174696F6E3A2A2A...  \n",
       "2  0x2A2A566973697420496E666F726D6174696F6E3A2A2A...  \n",
       "3  0x5468697320697320612032332D796561722D6F6C6420...  \n",
       "4  0x566973697420496E666F726D6174696F6E3A20202020...  \n",
       "5  0x566973697420496E666F726D6174696F6E3A0A202020...  \n",
       "6  0x2A2A566973697420496E666F726D6174696F6E3A2A2A...  \n",
       "7  0x2A2A566973697420496E666F726D6174696F6E3A2A2A...  \n",
       "8  0x2A2A566973697420496E666F726D6174696F6E3A2A2A...  \n",
       "9  0x2A2A566973697420496E666F726D6174696F6E3A2A2A...  "
      ],
      "text/html": [
       "<div>\n",
       "<style scoped>\n",
       "    .dataframe tbody tr th:only-of-type {\n",
       "        vertical-align: middle;\n",
       "    }\n",
       "\n",
       "    .dataframe tbody tr th {\n",
       "        vertical-align: top;\n",
       "    }\n",
       "\n",
       "    .dataframe thead th {\n",
       "        text-align: right;\n",
       "    }\n",
       "</style>\n",
       "<table border=\"1\" class=\"dataframe\">\n",
       "  <thead>\n",
       "    <tr style=\"text-align: right;\">\n",
       "      <th></th>\n",
       "      <th>encounter_num</th>\n",
       "      <th>patient_num</th>\n",
       "      <th>start_date</th>\n",
       "      <th>end_date</th>\n",
       "      <th>inout_cd</th>\n",
       "      <th>location_cd</th>\n",
       "      <th>location_path</th>\n",
       "      <th>visit_blob</th>\n",
       "    </tr>\n",
       "  </thead>\n",
       "  <tbody>\n",
       "    <tr>\n",
       "      <th>0</th>\n",
       "      <td>475303</td>\n",
       "      <td>1000000001</td>\n",
       "      <td>01/16/2003</td>\n",
       "      <td>01/16/2003</td>\n",
       "      <td>O</td>\n",
       "      <td>ASTHMA_CLINIC</td>\n",
       "      <td>\\Hospital\\Clinic\\Pulmonary\\Asthma\\\\</td>\n",
       "      <td>0x2A2A566973697420496E666F726D6174696F6E3A2A2A...</td>\n",
       "    </tr>\n",
       "    <tr>\n",
       "      <th>1</th>\n",
       "      <td>479681</td>\n",
       "      <td>1000000001</td>\n",
       "      <td>03/29/2007</td>\n",
       "      <td>03/29/2007</td>\n",
       "      <td>O</td>\n",
       "      <td>ASTHMA_CLINIC</td>\n",
       "      <td>\\Hospital\\Clinic\\Pulmonary\\Asthma\\\\</td>\n",
       "      <td>0x2A2A566973697420496E666F726D6174696F6E3A2A2A...</td>\n",
       "    </tr>\n",
       "    <tr>\n",
       "      <th>2</th>\n",
       "      <td>480315</td>\n",
       "      <td>1000000001</td>\n",
       "      <td>09/20/2007</td>\n",
       "      <td>09/20/2007</td>\n",
       "      <td>O</td>\n",
       "      <td>ASTHMA_CLINIC</td>\n",
       "      <td>\\Hospital\\Clinic\\Pulmonary\\Asthma\\\\</td>\n",
       "      <td>0x2A2A566973697420496E666F726D6174696F6E3A2A2A...</td>\n",
       "    </tr>\n",
       "    <tr>\n",
       "      <th>3</th>\n",
       "      <td>480903</td>\n",
       "      <td>1000000001</td>\n",
       "      <td>03/04/2008</td>\n",
       "      <td>03/04/2008</td>\n",
       "      <td>O</td>\n",
       "      <td>ASTHMA_CLINIC</td>\n",
       "      <td>\\Hospital\\Clinic\\Pulmonary\\Asthma\\\\</td>\n",
       "      <td>0x5468697320697320612032332D796561722D6F6C6420...</td>\n",
       "    </tr>\n",
       "    <tr>\n",
       "      <th>4</th>\n",
       "      <td>481398</td>\n",
       "      <td>1000000001</td>\n",
       "      <td>08/11/2008</td>\n",
       "      <td>08/11/2008</td>\n",
       "      <td>O</td>\n",
       "      <td>ASTHMA_CLINIC</td>\n",
       "      <td>\\Hospital\\Clinic\\Pulmonary\\Asthma\\\\</td>\n",
       "      <td>0x566973697420496E666F726D6174696F6E3A20202020...</td>\n",
       "    </tr>\n",
       "    <tr>\n",
       "      <th>5</th>\n",
       "      <td>482655</td>\n",
       "      <td>1000000001</td>\n",
       "      <td>05/18/2009</td>\n",
       "      <td>05/18/2009</td>\n",
       "      <td>O</td>\n",
       "      <td>ASTHMA_CLINIC</td>\n",
       "      <td>\\Hospital\\Clinic\\Pulmonary\\Asthma\\\\</td>\n",
       "      <td>0x566973697420496E666F726D6174696F6E3A0A202020...</td>\n",
       "    </tr>\n",
       "    <tr>\n",
       "      <th>6</th>\n",
       "      <td>471658</td>\n",
       "      <td>1000000002</td>\n",
       "      <td>04/17/1998</td>\n",
       "      <td>04/17/1998</td>\n",
       "      <td>O</td>\n",
       "      <td>GEN_MED_OUTPATIENT</td>\n",
       "      <td>\\Hospital\\Outpatient\\GeneralMedicine\\\\</td>\n",
       "      <td>0x2A2A566973697420496E666F726D6174696F6E3A2A2A...</td>\n",
       "    </tr>\n",
       "    <tr>\n",
       "      <th>7</th>\n",
       "      <td>472076</td>\n",
       "      <td>1000000002</td>\n",
       "      <td>01/04/1999</td>\n",
       "      <td>01/04/1999</td>\n",
       "      <td>O</td>\n",
       "      <td>GEN_MED_OUTPATIENT</td>\n",
       "      <td>\\Hospital\\Outpatient\\GeneralMedicine\\\\</td>\n",
       "      <td>0x2A2A566973697420496E666F726D6174696F6E3A2A2A...</td>\n",
       "    </tr>\n",
       "    <tr>\n",
       "      <th>8</th>\n",
       "      <td>472473</td>\n",
       "      <td>1000000002</td>\n",
       "      <td>08/12/1999</td>\n",
       "      <td>08/12/1999</td>\n",
       "      <td>O</td>\n",
       "      <td>GEN_MED_OUTPATIENT</td>\n",
       "      <td>\\Hospital\\Outpatient\\GeneralMedicine\\\\</td>\n",
       "      <td>0x2A2A566973697420496E666F726D6174696F6E3A2A2A...</td>\n",
       "    </tr>\n",
       "    <tr>\n",
       "      <th>9</th>\n",
       "      <td>472692</td>\n",
       "      <td>1000000002</td>\n",
       "      <td>12/01/1999</td>\n",
       "      <td>12/01/1999</td>\n",
       "      <td>O</td>\n",
       "      <td>GEN_MED_OUTPATIENT</td>\n",
       "      <td>\\Hospital\\Outpatient\\GeneralMedicine\\\\</td>\n",
       "      <td>0x2A2A566973697420496E666F726D6174696F6E3A2A2A...</td>\n",
       "    </tr>\n",
       "  </tbody>\n",
       "</table>\n",
       "</div>"
      ]
     },
     "execution_count": 2,
     "metadata": {},
     "output_type": "execute_result"
    }
   ],
   "execution_count": 2
  },
  {
   "metadata": {
    "ExecuteTime": {
     "end_time": "2025-05-13T16:17:49.717148Z",
     "start_time": "2025-05-13T16:17:49.699344Z"
    }
   },
   "cell_type": "code",
   "source": [
    "# -----------------------------------------------------------\n",
    "# 2. Decode BinHex Clinical Notes and Prepare Text Corpus\n",
    "# -----------------------------------------------------------\n",
    "# This cell decodes the clinical notes stored in BinHex format\n",
    "# and creates a clean `note_text` column for downstream processing.\n",
    "\n",
    "import binascii\n",
    "from IPython.display import display, Markdown\n",
    "\n",
    "def decode_note(hex_blob):\n",
    "    \"\"\"Decode a single BinHex-encoded note string.\"\"\"\n",
    "    hex_str = hex_blob.replace(\"0x\", \"\")\n",
    "    return binascii.unhexlify(hex_str).decode(\"utf-8\", errors=\"ignore\")\n",
    "\n",
    "# Apply decoding to the entire DataFrame\n",
    "df[\"note_text\"] = df[\"visit_blob\"].apply(decode_note)\n",
    "\n",
    "# Preview the first 10 decoded notes\n",
    "display(df.head(10))\n",
    "\n",
    "# Show one example decoded note (adjust index as needed)\n",
    "example_index = 5  # Ensure this index exists in your DataFrame\n",
    "display(Markdown(f\"### Decoded Note Example (Row {example_index}):\\n\\n```\\n{df['note_text'][example_index]}\\n```\"))\n"
   ],
   "id": "ab9f90d9cadb0592",
   "outputs": [
    {
     "data": {
      "text/plain": [
       "   encounter_num  patient_num  start_date    end_date inout_cd  \\\n",
       "0         475303   1000000001  01/16/2003  01/16/2003        O   \n",
       "1         479681   1000000001  03/29/2007  03/29/2007        O   \n",
       "2         480315   1000000001  09/20/2007  09/20/2007        O   \n",
       "3         480903   1000000001  03/04/2008  03/04/2008        O   \n",
       "4         481398   1000000001  08/11/2008  08/11/2008        O   \n",
       "5         482655   1000000001  05/18/2009  05/18/2009        O   \n",
       "6         471658   1000000002  04/17/1998  04/17/1998        O   \n",
       "7         472076   1000000002  01/04/1999  01/04/1999        O   \n",
       "8         472473   1000000002  08/12/1999  08/12/1999        O   \n",
       "9         472692   1000000002  12/01/1999  12/01/1999        O   \n",
       "\n",
       "          location_cd                           location_path  \\\n",
       "0       ASTHMA_CLINIC     \\Hospital\\Clinic\\Pulmonary\\Asthma\\\\   \n",
       "1       ASTHMA_CLINIC     \\Hospital\\Clinic\\Pulmonary\\Asthma\\\\   \n",
       "2       ASTHMA_CLINIC     \\Hospital\\Clinic\\Pulmonary\\Asthma\\\\   \n",
       "3       ASTHMA_CLINIC     \\Hospital\\Clinic\\Pulmonary\\Asthma\\\\   \n",
       "4       ASTHMA_CLINIC     \\Hospital\\Clinic\\Pulmonary\\Asthma\\\\   \n",
       "5       ASTHMA_CLINIC     \\Hospital\\Clinic\\Pulmonary\\Asthma\\\\   \n",
       "6  GEN_MED_OUTPATIENT  \\Hospital\\Outpatient\\GeneralMedicine\\\\   \n",
       "7  GEN_MED_OUTPATIENT  \\Hospital\\Outpatient\\GeneralMedicine\\\\   \n",
       "8  GEN_MED_OUTPATIENT  \\Hospital\\Outpatient\\GeneralMedicine\\\\   \n",
       "9  GEN_MED_OUTPATIENT  \\Hospital\\Outpatient\\GeneralMedicine\\\\   \n",
       "\n",
       "                                          visit_blob  \\\n",
       "0  0x2A2A566973697420496E666F726D6174696F6E3A2A2A...   \n",
       "1  0x2A2A566973697420496E666F726D6174696F6E3A2A2A...   \n",
       "2  0x2A2A566973697420496E666F726D6174696F6E3A2A2A...   \n",
       "3  0x5468697320697320612032332D796561722D6F6C6420...   \n",
       "4  0x566973697420496E666F726D6174696F6E3A20202020...   \n",
       "5  0x566973697420496E666F726D6174696F6E3A0A202020...   \n",
       "6  0x2A2A566973697420496E666F726D6174696F6E3A2A2A...   \n",
       "7  0x2A2A566973697420496E666F726D6174696F6E3A2A2A...   \n",
       "8  0x2A2A566973697420496E666F726D6174696F6E3A2A2A...   \n",
       "9  0x2A2A566973697420496E666F726D6174696F6E3A2A2A...   \n",
       "\n",
       "                                           note_text  \n",
       "0  **Visit Information:**\\n   - Patient ID: 10000...  \n",
       "1  **Visit Information:**\\n- Patient ID: 10000000...  \n",
       "2  **Visit Information:**\\n\\n    - Patient ID: 10...  \n",
       "3  This is a 23-year-old Black female who has bee...  \n",
       "4  Visit Information:    \\n    - Patient ID: 1000...  \n",
       "5  Visit Information:\\n    - Patient ID: 10000000...  \n",
       "6  **Visit Information:**\\n- Patient ID: 10000000...  \n",
       "7  **Visit Information:**\\n- Patient ID: 10000000...  \n",
       "8  **Visit Information:**\\n- Patient ID: 10000000...  \n",
       "9  **Visit Information:**\\n- Patient ID: 10000000...  "
      ],
      "text/html": [
       "<div>\n",
       "<style scoped>\n",
       "    .dataframe tbody tr th:only-of-type {\n",
       "        vertical-align: middle;\n",
       "    }\n",
       "\n",
       "    .dataframe tbody tr th {\n",
       "        vertical-align: top;\n",
       "    }\n",
       "\n",
       "    .dataframe thead th {\n",
       "        text-align: right;\n",
       "    }\n",
       "</style>\n",
       "<table border=\"1\" class=\"dataframe\">\n",
       "  <thead>\n",
       "    <tr style=\"text-align: right;\">\n",
       "      <th></th>\n",
       "      <th>encounter_num</th>\n",
       "      <th>patient_num</th>\n",
       "      <th>start_date</th>\n",
       "      <th>end_date</th>\n",
       "      <th>inout_cd</th>\n",
       "      <th>location_cd</th>\n",
       "      <th>location_path</th>\n",
       "      <th>visit_blob</th>\n",
       "      <th>note_text</th>\n",
       "    </tr>\n",
       "  </thead>\n",
       "  <tbody>\n",
       "    <tr>\n",
       "      <th>0</th>\n",
       "      <td>475303</td>\n",
       "      <td>1000000001</td>\n",
       "      <td>01/16/2003</td>\n",
       "      <td>01/16/2003</td>\n",
       "      <td>O</td>\n",
       "      <td>ASTHMA_CLINIC</td>\n",
       "      <td>\\Hospital\\Clinic\\Pulmonary\\Asthma\\\\</td>\n",
       "      <td>0x2A2A566973697420496E666F726D6174696F6E3A2A2A...</td>\n",
       "      <td>**Visit Information:**\\n   - Patient ID: 10000...</td>\n",
       "    </tr>\n",
       "    <tr>\n",
       "      <th>1</th>\n",
       "      <td>479681</td>\n",
       "      <td>1000000001</td>\n",
       "      <td>03/29/2007</td>\n",
       "      <td>03/29/2007</td>\n",
       "      <td>O</td>\n",
       "      <td>ASTHMA_CLINIC</td>\n",
       "      <td>\\Hospital\\Clinic\\Pulmonary\\Asthma\\\\</td>\n",
       "      <td>0x2A2A566973697420496E666F726D6174696F6E3A2A2A...</td>\n",
       "      <td>**Visit Information:**\\n- Patient ID: 10000000...</td>\n",
       "    </tr>\n",
       "    <tr>\n",
       "      <th>2</th>\n",
       "      <td>480315</td>\n",
       "      <td>1000000001</td>\n",
       "      <td>09/20/2007</td>\n",
       "      <td>09/20/2007</td>\n",
       "      <td>O</td>\n",
       "      <td>ASTHMA_CLINIC</td>\n",
       "      <td>\\Hospital\\Clinic\\Pulmonary\\Asthma\\\\</td>\n",
       "      <td>0x2A2A566973697420496E666F726D6174696F6E3A2A2A...</td>\n",
       "      <td>**Visit Information:**\\n\\n    - Patient ID: 10...</td>\n",
       "    </tr>\n",
       "    <tr>\n",
       "      <th>3</th>\n",
       "      <td>480903</td>\n",
       "      <td>1000000001</td>\n",
       "      <td>03/04/2008</td>\n",
       "      <td>03/04/2008</td>\n",
       "      <td>O</td>\n",
       "      <td>ASTHMA_CLINIC</td>\n",
       "      <td>\\Hospital\\Clinic\\Pulmonary\\Asthma\\\\</td>\n",
       "      <td>0x5468697320697320612032332D796561722D6F6C6420...</td>\n",
       "      <td>This is a 23-year-old Black female who has bee...</td>\n",
       "    </tr>\n",
       "    <tr>\n",
       "      <th>4</th>\n",
       "      <td>481398</td>\n",
       "      <td>1000000001</td>\n",
       "      <td>08/11/2008</td>\n",
       "      <td>08/11/2008</td>\n",
       "      <td>O</td>\n",
       "      <td>ASTHMA_CLINIC</td>\n",
       "      <td>\\Hospital\\Clinic\\Pulmonary\\Asthma\\\\</td>\n",
       "      <td>0x566973697420496E666F726D6174696F6E3A20202020...</td>\n",
       "      <td>Visit Information:    \\n    - Patient ID: 1000...</td>\n",
       "    </tr>\n",
       "    <tr>\n",
       "      <th>5</th>\n",
       "      <td>482655</td>\n",
       "      <td>1000000001</td>\n",
       "      <td>05/18/2009</td>\n",
       "      <td>05/18/2009</td>\n",
       "      <td>O</td>\n",
       "      <td>ASTHMA_CLINIC</td>\n",
       "      <td>\\Hospital\\Clinic\\Pulmonary\\Asthma\\\\</td>\n",
       "      <td>0x566973697420496E666F726D6174696F6E3A0A202020...</td>\n",
       "      <td>Visit Information:\\n    - Patient ID: 10000000...</td>\n",
       "    </tr>\n",
       "    <tr>\n",
       "      <th>6</th>\n",
       "      <td>471658</td>\n",
       "      <td>1000000002</td>\n",
       "      <td>04/17/1998</td>\n",
       "      <td>04/17/1998</td>\n",
       "      <td>O</td>\n",
       "      <td>GEN_MED_OUTPATIENT</td>\n",
       "      <td>\\Hospital\\Outpatient\\GeneralMedicine\\\\</td>\n",
       "      <td>0x2A2A566973697420496E666F726D6174696F6E3A2A2A...</td>\n",
       "      <td>**Visit Information:**\\n- Patient ID: 10000000...</td>\n",
       "    </tr>\n",
       "    <tr>\n",
       "      <th>7</th>\n",
       "      <td>472076</td>\n",
       "      <td>1000000002</td>\n",
       "      <td>01/04/1999</td>\n",
       "      <td>01/04/1999</td>\n",
       "      <td>O</td>\n",
       "      <td>GEN_MED_OUTPATIENT</td>\n",
       "      <td>\\Hospital\\Outpatient\\GeneralMedicine\\\\</td>\n",
       "      <td>0x2A2A566973697420496E666F726D6174696F6E3A2A2A...</td>\n",
       "      <td>**Visit Information:**\\n- Patient ID: 10000000...</td>\n",
       "    </tr>\n",
       "    <tr>\n",
       "      <th>8</th>\n",
       "      <td>472473</td>\n",
       "      <td>1000000002</td>\n",
       "      <td>08/12/1999</td>\n",
       "      <td>08/12/1999</td>\n",
       "      <td>O</td>\n",
       "      <td>GEN_MED_OUTPATIENT</td>\n",
       "      <td>\\Hospital\\Outpatient\\GeneralMedicine\\\\</td>\n",
       "      <td>0x2A2A566973697420496E666F726D6174696F6E3A2A2A...</td>\n",
       "      <td>**Visit Information:**\\n- Patient ID: 10000000...</td>\n",
       "    </tr>\n",
       "    <tr>\n",
       "      <th>9</th>\n",
       "      <td>472692</td>\n",
       "      <td>1000000002</td>\n",
       "      <td>12/01/1999</td>\n",
       "      <td>12/01/1999</td>\n",
       "      <td>O</td>\n",
       "      <td>GEN_MED_OUTPATIENT</td>\n",
       "      <td>\\Hospital\\Outpatient\\GeneralMedicine\\\\</td>\n",
       "      <td>0x2A2A566973697420496E666F726D6174696F6E3A2A2A...</td>\n",
       "      <td>**Visit Information:**\\n- Patient ID: 10000000...</td>\n",
       "    </tr>\n",
       "  </tbody>\n",
       "</table>\n",
       "</div>"
      ]
     },
     "metadata": {},
     "output_type": "display_data"
    },
    {
     "data": {
      "text/plain": [
       "<IPython.core.display.Markdown object>"
      ],
      "text/markdown": "### Decoded Note Example (Row 5):\n\n```\nVisit Information:\n    - Patient ID: 1000000001\n    - Encounter ID: 482655\n    - Visit Date: 05/18/2009\n\nA 24-year-old Black female, who has been receiving care at our clinic for the past several months, presented on 05/18/2009 for a follow-up regarding her asthma management. She reports experiencing increased shortness of breath, persistent coughing, and wheezing, which have become particularly troublesome at night and during physical exertion. These symptoms align with her diagnosed cough variant asthma. Additionally, she mentions experiencing dizziness and occasional irregular menstrual cycles. There are no reports of chest pain or hemoptysis.\n\nHer past medical history is significant for asthma, cardiac dysrhythmia, gastroesophageal reflux disease (GERD), and unspecified vaginitis. She completed a course of Penicillin for a previously diagnosed urinary tract infection but continues to experience urinary frequency. She has no history of smoking or alcohol consumption. Currently, she is on Albuterol Sulfate tablets, Maxair Autohaler, and Prilosec capsules for asthma and GERD, as well as Apri for contraception, Acyclovir for viral management, and Tetracycline for an unspecified reason. She resides with her sister and works part-time in retail, dealing with considerable stress related to her job and studies.\n\nOn physical examination, she appeared alert and oriented, with vital signs recorded as follows: blood pressure 110/72 mmHg, heart rate 78 beats per minute, respiratory rate 18 breaths per minute, and temperature 99.0°F. The respiratory exam uncovered bilateral expiratory wheezes with an extended expiratory phase, though there were no signs of accessory muscle use or cyanosis. Cardiovascular exam was unremarkable, demonstrating a regular heart rate and rhythm without murmurs. Abdominal examination showed no tenderness or masses. The musculoskeletal exam noted mild lower back tenderness without significant deformity or neurological deficits. Her skin remained clear of any new lesions, indicating controlled dermatitis. Recent laboratory tests, including complete blood count and urinalysis, returned within standard ranges.\n\nThe patient presents with an exacerbation of asthma that is not sufficiently managed by her current treatment regimen. The recurrent urinary symptoms suggest a possible relapse of her urinary tract infection. Mild musculoskeletal back pain was also noted, likely strain-related given her occupation and stress levels.\n\nTo improve asthma management, an escalation in the Flovent dosage is recommended alongside the addition of a leukotriene receptor antagonist. Emphasis on inhaler techniques and rigorous adherence to her medication regimen is highlighted. A repeat urinalysis is ordered to investigate the persistent urinary symptoms, and pending results, a culture and sensitivity test may be necessary. For her back pain, a referral to physical therapy for targeted strengthening and stretching exercises is suggested, supplemented with NSAIDs for pain control.\n\nThe patient is advised to contact the clinic urgently if her breathing difficulties intensify or do not improve within a week, or if her urinary symptoms worsen. Educational resources on medication usage, stress management strategies, and emergency asthma protocols were provided. A follow-up appointment is set for one month to reassess her asthma control and monitor any new developments in her condition. Immediate medical attention is recommended should she experience severe respiratory distress or notable aggravation of urinary symptoms.\n```"
     },
     "metadata": {},
     "output_type": "display_data"
    }
   ],
   "execution_count": 3
  },
  {
   "metadata": {
    "ExecuteTime": {
     "end_time": "2025-05-13T16:23:24.613025Z",
     "start_time": "2025-05-13T16:23:22.351668Z"
    }
   },
   "cell_type": "code",
   "source": [
    "# -----------------------------------------------------------\n",
    "# 3. Embed Clinical Notes Using Local MiniLM Embeddings\n",
    "# -----------------------------------------------------------\n",
    "# This cell embeds each clinical note into a numerical vector using a\n",
    "# transformer-based model from Hugging Face. These embeddings are stored\n",
    "# in a FAISS index for efficient similarity search.\n",
    "\n",
    "# The model used here is `sentence-transformers/all-MiniLM-L6-v2`:\n",
    "# - Lightweight and fast (can run locally)\n",
    "# - Trained for semantic similarity tasks (e.g., text matching)\n",
    "# - Produces 384-dimensional vectors\n",
    "\n",
    "# HuggingFaceEmbeddings loads this model via the `sentence-transformers` library.\n",
    "# If not already installed, run:\n",
    "#   pip install sentence-transformers\n",
    "\n",
    "from langchain_huggingface import HuggingFaceEmbeddings\n",
    "from langchain.vectorstores import FAISS\n",
    "\n",
    "# Initialize the local embedding model\n",
    "embedding_model = HuggingFaceEmbeddings(\n",
    "    model_name=\"sentence-transformers/all-MiniLM-L6-v2\"\n",
    ")\n",
    "\n",
    "# Extract plain text notes and relevant metadata\n",
    "documents = df[\"note_text\"].tolist()\n",
    "metadata = df[[\"patient_num\", \"encounter_num\", \"start_date\"]].to_dict(orient=\"records\")\n",
    "\n",
    "# Create a FAISS index from the documents\n",
    "vectorstore = FAISS.from_texts(documents, embedding_model, metadatas=metadata)\n",
    "\n",
    "print(f\"Successfully embedded {len(documents)} clinical notes using MiniLM.\")\n"
   ],
   "id": "cb4d79a45a47b55e",
   "outputs": [
    {
     "name": "stdout",
     "output_type": "stream",
     "text": [
      "Successfully embedded 1128 clinical notes using MiniLM.\n"
     ]
    }
   ],
   "execution_count": 7
  },
  {
   "metadata": {
    "ExecuteTime": {
     "end_time": "2025-05-13T16:24:29.218779Z",
     "start_time": "2025-05-13T16:24:29.214882Z"
    }
   },
   "cell_type": "code",
   "source": [
    "# -----------------------------------------------------------\n",
    "# 3a. View a Specific Embedded Document, Metadata, and Vector\n",
    "# -----------------------------------------------------------\n",
    "# Select an index (e.g., id = 5) to inspect the stored document.\n",
    "# This cell shows the document text, associated metadata, and\n",
    "# the corresponding FAISS embedding vector.\n",
    "\n",
    "id = 1  # You can change this index to view a different record\n",
    "\n",
    "# Get (doc_id, Document) tuple from LangChain's docstore\n",
    "doc_id, doc_example = list(vectorstore.docstore._dict.items())[id]\n",
    "\n",
    "# Get corresponding vector from FAISS\n",
    "vector_example = vectorstore.index.reconstruct(id)\n",
    "\n",
    "# Display the results\n",
    "print(f\"\\n-----| Document ID: {doc_id} |-----\")\n",
    "print(\"---> Metadata:\", doc_example.metadata)\n",
    "print(\"---> Document Text (First 300 chars):\\n\\n\", doc_example.page_content[:300], \"... \\n\\n\" + \"-\" * 100)\n",
    "print(\"\\n---> Embedded Vector (Full Length):\\n\\n\", vector_example, \"\\n\" + \"-\" * 100)\n"
   ],
   "id": "2e8bf3477478862b",
   "outputs": [
    {
     "name": "stdout",
     "output_type": "stream",
     "text": [
      "\n",
      "-----| Document ID: d216d080-bb0a-4b4b-91d3-002f0ecb09f2 |-----\n",
      "---> Metadata: {'patient_num': 1000000001, 'encounter_num': 479681, 'start_date': '03/29/2007'}\n",
      "---> Document Text (First 300 chars):\n",
      "\n",
      " **Visit Information:**\n",
      "- Patient ID: 1000000001\n",
      "- Encounter ID: 479681\n",
      "- Visit Date: 03/29/2007\n",
      "\n",
      "**Subjective:**\n",
      "This is a 22-year-old Black female who presents for a follow-up visit regarding her asthma management and other health concerns. She has a history of asthma, which has recently been exace ... \n",
      "\n",
      "----------------------------------------------------------------------------------------------------\n",
      "\n",
      "---> Embedded Vector (Full Length):\n",
      "\n",
      " [-1.71678141e-02  2.57554296e-02 -3.02366652e-02  5.90960197e-02\n",
      " -5.69125786e-02 -4.99190413e-04  8.61884840e-03  8.68016854e-02\n",
      " -6.81851804e-02 -6.68402463e-02  3.30676250e-02 -3.55875865e-02\n",
      " -1.23848217e-02  7.65940845e-02 -3.75763103e-02  9.54439640e-02\n",
      "  6.90067634e-02 -2.38603388e-05 -3.86461765e-02  4.25991453e-02\n",
      " -1.85658671e-02  5.61406054e-02  1.93215813e-02  2.50939541e-02\n",
      " -2.55058929e-02  2.48132050e-02  1.13040283e-02 -7.05091357e-02\n",
      " -4.29927222e-02  6.21788716e-03  3.62610035e-02  7.08533376e-02\n",
      " -2.21760888e-02  2.64465176e-02  7.54039586e-02  4.01692055e-02\n",
      " -6.26062378e-02  1.32325098e-01 -5.72330616e-02 -1.53708109e-03\n",
      " -4.10942920e-02 -4.31008749e-02 -7.04137757e-02 -1.14883482e-02\n",
      " -1.23254970e-01 -5.21464646e-02  9.94869322e-03  5.51104359e-02\n",
      "  3.66243050e-02 -4.14495505e-02 -8.01567286e-02 -2.10100575e-03\n",
      " -3.75144444e-02  3.52221541e-02 -2.79712770e-02 -3.74436043e-02\n",
      " -2.92122159e-02 -2.80889533e-02 -1.86977591e-02 -5.62554412e-02\n",
      " -8.22607130e-02 -4.13189344e-02 -3.52802058e-03 -3.82440048e-03\n",
      " -3.04170419e-02  3.33530866e-02  7.54628479e-02 -6.59794062e-02\n",
      "  7.56931379e-02  8.29117745e-02  1.21518439e-02  3.85913393e-03\n",
      " -3.69290859e-02  3.58938538e-02  8.32919627e-02  5.12350611e-02\n",
      "  8.61314014e-02 -8.09207782e-02  8.05566385e-02 -7.17616081e-02\n",
      "  4.12650108e-02  3.24600525e-02 -4.26827552e-04  6.82886988e-02\n",
      "  3.33798267e-02  1.21426703e-02 -1.62483845e-02 -1.23265274e-02\n",
      " -7.30338134e-03 -1.13389842e-01  4.83014695e-02  5.49841635e-02\n",
      " -1.20847290e-02 -4.13356461e-02  1.21255375e-01  1.19486563e-02\n",
      " -5.47067188e-02  6.44720122e-02 -8.70435610e-02  2.73401849e-02\n",
      " -4.11930606e-02 -2.83996090e-02  3.27710831e-03 -1.39049459e-02\n",
      " -1.31918509e-02 -3.38376351e-02  8.18710178e-02 -9.75475460e-02\n",
      " -3.74057963e-02  2.52582207e-02  1.41365873e-02 -1.54706398e-02\n",
      " -1.97293311e-02 -2.86531802e-02  1.33264828e-02  7.55081996e-02\n",
      "  5.97287752e-02 -2.46755835e-02 -4.71614003e-02 -4.05913293e-02\n",
      " -1.53437043e-02 -1.15043923e-01  1.68796014e-02 -4.97337282e-02\n",
      "  2.65194550e-02  2.11466048e-02 -7.05580562e-02  5.62083526e-33\n",
      "  4.05690484e-02  7.97500536e-02  1.86252892e-02  3.60511593e-03\n",
      "  3.82359065e-02  1.28318280e-01  4.56410125e-02  7.34844897e-03\n",
      "  1.53233362e-02  1.00206658e-02 -3.14858854e-02  5.34010259e-03\n",
      "  3.69180106e-02 -5.33857681e-02 -2.74202377e-02  2.74857953e-02\n",
      " -1.02644619e-02  5.03817052e-02 -4.69459780e-02  6.43054396e-02\n",
      "  4.02280279e-02  5.38571961e-02 -7.75124133e-02 -7.54676759e-03\n",
      " -1.51210576e-01 -6.07237481e-02  5.96475303e-02  6.78014606e-02\n",
      " -1.80852581e-02 -2.97204480e-02 -2.60987356e-02  1.08553367e-02\n",
      " -1.28245661e-02 -3.81037295e-02  1.97803811e-03  4.15886007e-02\n",
      " -1.24264676e-02  4.87147532e-02 -2.94228569e-02 -5.80644049e-02\n",
      " -1.11271784e-01  3.07886694e-02  2.68314593e-02  2.94480547e-02\n",
      " -3.21773812e-02 -7.04692602e-02 -5.83455786e-02 -5.33024520e-02\n",
      " -3.22406441e-02  5.96336573e-02  4.12983149e-02 -2.41642930e-02\n",
      "  3.24064977e-02 -4.14910689e-02 -6.41248450e-02  2.84214830e-03\n",
      "  4.72761970e-03 -5.86605705e-02  1.06412239e-01  5.42433150e-02\n",
      "  3.35959345e-02 -3.58454622e-02 -6.52649179e-02  8.53996724e-03\n",
      " -9.81285051e-03 -4.73867692e-02  6.21160725e-03 -7.43521452e-02\n",
      " -4.57609817e-02 -2.85973810e-02  9.64318309e-03  5.47692813e-02\n",
      "  6.08807020e-02  5.32400273e-02 -1.54315410e-02 -2.87914630e-02\n",
      "  3.19670103e-02  4.59085181e-02  2.00168733e-02 -4.51292805e-02\n",
      "  4.17153025e-03 -1.29281171e-02  4.96477121e-03  5.57895154e-02\n",
      " -8.85998234e-02 -4.15054858e-02 -1.06379643e-01  4.25149612e-02\n",
      " -1.26730606e-01  1.45306643e-02  5.67067191e-02  1.08625265e-02\n",
      " -7.22932667e-02  2.69260164e-02  2.41870079e-02 -7.81575321e-33\n",
      "  3.85308489e-02 -3.01677976e-02  1.34618971e-02 -6.39327690e-02\n",
      "  5.61639853e-02  6.68042079e-02  8.19717161e-03  1.06655262e-01\n",
      "  5.76404966e-02 -9.74339321e-02  9.50137749e-02 -9.37570166e-03\n",
      "  3.25594284e-02  8.81753769e-03 -2.43137181e-02  9.60889831e-02\n",
      "  7.29415705e-03 -4.70475703e-02 -4.21719700e-02  5.51923085e-03\n",
      " -5.06661944e-02  6.45741820e-02 -5.95045388e-02  6.87466338e-02\n",
      "  1.36377607e-02  5.88547401e-02  5.70394956e-02 -3.31589952e-03\n",
      " -6.91869669e-03 -1.29510807e-02 -2.93409489e-02  1.22487489e-02\n",
      " -1.18231475e-02 -2.40801815e-02 -1.00797759e-02 -4.99490350e-02\n",
      " -3.17100994e-02 -7.40040690e-02 -9.98355523e-02 -6.81256354e-02\n",
      "  2.22298875e-02 -1.17923375e-02  5.34540042e-02  8.80717486e-02\n",
      "  1.00202411e-01  7.25113824e-02  1.16952034e-02 -6.12076484e-02\n",
      "  1.75669473e-02  1.07341940e-02  4.31469865e-02 -1.17113255e-02\n",
      "  4.91568781e-02  1.36362940e-01  5.45762181e-02 -1.74890868e-02\n",
      " -2.61907605e-03 -8.18421394e-02 -2.31937766e-02  4.71150689e-02\n",
      "  3.00103854e-02 -2.12925160e-03 -7.46629238e-02 -4.83526774e-02\n",
      " -1.70439889e-03  4.79904413e-02 -1.54247964e-02 -1.06708936e-01\n",
      "  8.77960846e-02 -2.07334477e-02 -6.32525831e-02 -2.83238739e-02\n",
      " -7.71100149e-02 -7.78135434e-02  2.35196203e-02 -7.40105519e-03\n",
      " -2.27828277e-03 -8.76056403e-03 -1.01164384e-02  3.23601328e-02\n",
      " -4.11012508e-02 -2.56953388e-02  8.37500840e-02 -3.22262608e-02\n",
      " -2.15481911e-02 -7.98366070e-02 -1.59268416e-02  1.00043397e-02\n",
      "  3.74253048e-03  2.71462128e-02 -6.67541102e-03  6.71310499e-02\n",
      " -2.13246308e-02  2.24173255e-02 -4.35429588e-02 -5.74276733e-08\n",
      " -2.15710197e-02 -4.15590182e-02  3.36868614e-02 -4.41997387e-02\n",
      " -7.50044957e-02  4.58990503e-03 -5.55958785e-03 -2.43070722e-02\n",
      " -4.47561359e-03  8.11014548e-02 -1.89675931e-02  7.07064494e-02\n",
      "  5.37039991e-03  6.74746325e-03 -4.19433182e-03 -6.70336038e-02\n",
      " -2.86721135e-03  7.79435858e-02 -1.76173896e-02 -1.64718963e-02\n",
      " -4.22721580e-02 -3.73025052e-02  1.54218320e-02 -1.96499955e-02\n",
      " -1.78358685e-02 -4.48069833e-02  1.10287247e-02  4.52237241e-02\n",
      "  1.48462635e-02 -9.76083893e-03 -5.15441746e-02  3.64258848e-02\n",
      "  1.68932956e-02 -7.87124690e-03 -1.39906064e-01 -1.20009847e-01\n",
      "  9.04722437e-02  3.46813747e-03 -2.28348151e-02  4.68945131e-02\n",
      "  2.56508123e-03  4.89364006e-02 -6.03590012e-02  2.32891552e-03\n",
      "  3.34645845e-02 -1.09404124e-01  3.00968587e-02 -9.54854041e-02\n",
      "  2.63270847e-02  1.11561576e-02  3.99406552e-02  4.14388673e-03\n",
      "  6.16563819e-02 -3.89234722e-02 -6.42874986e-02  5.31551130e-02\n",
      " -1.80539042e-02 -1.44117717e-02  3.42673855e-03  3.75440605e-02\n",
      "  4.57138801e-03 -8.14533383e-02 -1.82119627e-02  1.05934538e-01] \n",
      "----------------------------------------------------------------------------------------------------\n"
     ]
    }
   ],
   "execution_count": 8
  },
  {
   "metadata": {
    "ExecuteTime": {
     "end_time": "2025-05-13T16:27:29.436176Z",
     "start_time": "2025-05-13T16:27:29.284160Z"
    }
   },
   "cell_type": "code",
   "source": [
    "# -----------------------------------------------------------\n",
    "# 4. Embed a Query and Inspect Its Vector Representation\n",
    "# -----------------------------------------------------------\n",
    "# This step uses the same local MiniLM embedding model to convert a\n",
    "# natural language query into a numerical vector. The vector can be\n",
    "# used for similarity search within the FAISS vector store.\n",
    "# We'll also inspect the structure of the resulting embedding.\n",
    "\n",
    "query = \"Who has asthma and is taking Fluticasone and Albuterol?\"\n",
    "\n",
    "# Generate the embedding for the query\n",
    "query_vector = embedding_model.embed_query(query)\n",
    "\n",
    "# Display the vector and its shape\n",
    "print(\"--->Vectorized Query:\\n\\n\", query_vector)\n"
   ],
   "id": "b452485e8b120fb6",
   "outputs": [
    {
     "name": "stdout",
     "output_type": "stream",
     "text": [
      "--->Vectorized Query:\n",
      "\n",
      " [0.03887706995010376, -0.042409393936395645, -0.05146171152591705, 0.04121880233287811, -0.025769369676709175, -0.04591357707977295, -0.0103689543902874, 0.08145193755626678, -0.057403627783060074, -0.024037929251790047, -0.03372789919376373, -0.017538271844387054, 0.011136984452605247, 0.026207493618130684, 0.05617568641901016, 0.10241179913282394, -0.010751360096037388, -0.080230213701725, -0.035150207579135895, 0.03298896923661232, -0.054257433861494064, 0.03680410236120224, -0.020248012617230415, -0.014638238586485386, -0.02407461777329445, 0.003959783352911472, -0.06827481091022491, -0.06968778371810913, -0.012535175308585167, -0.02130780555307865, 0.04345591366291046, 0.012301910668611526, 0.034768421202898026, 0.016457173973321915, -0.048210542649030685, -0.06472979485988617, -0.03769080340862274, 0.041117001324892044, -0.019274244084954262, 0.0037662305403500795, -0.021108878776431084, 0.04656617343425751, -0.008450526744127274, -0.049669861793518066, -0.04242834821343422, -0.06320502609014511, -0.01955222897231579, 0.054210860282182693, 0.1411016583442688, 0.1343386173248291, -0.020330237224698067, -0.10597763955593109, -0.017557138577103615, 0.025490937754511833, 0.01601383090019226, 0.013045622035861015, -0.060303207486867905, -0.03783290088176727, 0.00859709084033966, 0.039191484451293945, -0.08744332939386368, -0.05355598032474518, -0.05158739909529686, 0.0387701652944088, -0.016768554225564003, 0.08894018083810806, -0.04220253601670265, -0.010439642705023289, 0.04337993264198303, 0.024880973622202873, -0.04691239446401596, -0.09643535315990448, 0.001312048640102148, 0.05043662711977959, 0.06332380324602127, 0.06346283853054047, 0.00016291363863274455, -0.06721339374780655, -0.023447025567293167, -0.03179381415247917, 0.029838524758815765, 0.039168938994407654, 0.016349392011761665, 0.08783099800348282, 0.1331924945116043, -0.008966437540948391, 0.004134346731007099, 0.0647963434457779, -0.04450833424925804, -0.03666992485523224, 0.1214400976896286, -0.02252311259508133, -0.03951089456677437, 0.030040215700864792, 0.0030885825399309397, -0.04257494956254959, 0.0373033732175827, -0.009867946617305279, -0.13521036505699158, 0.04623591527342796, -0.027126621454954147, -0.09543954581022263, 0.06627596169710159, -0.02071218192577362, -0.055851176381111145, 0.013377438299357891, 0.026430195197463036, -0.12149851769208908, -0.07096290588378906, -0.002787999575957656, 0.017004569992423058, 0.02016466297209263, -0.0051361192017793655, -0.022632287815213203, -0.012584135867655277, 0.03627344220876694, 0.045572441071271896, -0.0816633552312851, -0.07716566324234009, 0.006048800889402628, 0.011448122560977936, -0.08483277261257172, 0.040342412889003754, -0.048212189227342606, 0.017764979973435402, -0.0028742493595927954, -0.003870891872793436, -1.6620762783497574e-33, -0.06273327022790909, 0.008111555129289627, 0.005226838402450085, 0.09179233759641647, -0.026852574199438095, 0.03122739866375923, 0.02898823842406273, 0.007252040319144726, 0.07726223021745682, -0.046248484402894974, 0.004340623505413532, -0.024848315864801407, 0.028436072170734406, 0.009571058675646782, -0.04984026402235031, -0.01078982837498188, -0.037879738956689835, 0.010431858710944653, -0.020494086667895317, 0.029649602249264717, 0.009822252206504345, 0.02958834543824196, -0.07177698612213135, 0.02639058418571949, -0.1081603467464447, 0.04068686068058014, 0.01783529855310917, 0.03184354305267334, -0.03252442181110382, -0.006918712984770536, 0.03670668601989746, -0.014736787416040897, -0.10228197276592255, -0.00596325658261776, 0.013544277288019657, 0.05884373560547829, -0.013527369126677513, -0.016084911301732063, -0.0743112564086914, 0.0011632124660536647, -0.022978486493229866, 0.04920249059796333, -0.057793643325567245, 0.04588823765516281, 0.07932650297880173, -0.0164774302393198, -0.0608026497066021, -0.0174370426684618, 0.009447387419641018, -0.032969873398542404, 0.01682267151772976, -0.01198046188801527, -0.0029177754186093807, 0.008721791207790375, 0.020880408585071564, 0.02198665775358677, 0.020755821838974953, -0.12270002067089081, 0.035627204924821854, 0.06073654815554619, 0.023211680352687836, 0.042360734194517136, -0.022337686270475388, -0.03085721842944622, -0.1301494985818863, 0.06563909351825714, -0.05114055797457695, -0.02543850988149643, -0.0338410846889019, 0.08251959085464478, 0.08047787845134735, -0.03759178891777992, 0.032094042748212814, 0.06306012719869614, 0.04599512368440628, 0.02034984529018402, 0.03370039537549019, 0.053164150565862656, -0.033244527876377106, 0.023537099361419678, 0.05369221791625023, -0.03741490840911865, 0.0559280589222908, 0.09046459943056107, -0.09555237740278244, -0.05319918319582939, -0.11749855428934097, 0.0068767620250582695, -0.01286072377115488, -0.020302610471844673, 0.0005082405987195671, 0.007820464670658112, -0.04325918108224869, 0.049412500113248825, -0.0210361760109663, -3.956775973827726e-34, -0.052064742892980576, 0.011221042834222317, 0.0473879873752594, -0.0514042004942894, -0.0017720838077366352, 0.09413697570562363, 0.07256411015987396, 0.09375996887683868, 0.09547973424196243, 0.021529821678996086, 0.024472719058394432, 0.006575950421392918, 0.06317833811044693, -0.06242685765028, 0.033698469400405884, 0.0774935781955719, -0.02601037546992302, -0.026467228308320045, -0.026690054684877396, -0.01275191456079483, -0.08778192102909088, 0.03901674225926399, 0.05786988139152527, 0.0765652284026146, 0.012872204184532166, 0.03505031764507294, 0.017903853207826614, -0.028825314715504646, 0.055658772587776184, -0.006422878708690405, 0.0037210884038358927, 0.03538801521062851, -0.02562972903251648, -0.026615580543875694, -0.0426286980509758, 0.013769746758043766, -0.026213686913251877, 0.029843255877494812, -0.10555129498243332, -0.04695986211299896, -0.041460610926151276, -0.016096988692879677, 0.05771521106362343, 0.07435502856969833, 0.046716757118701935, 0.06463965028524399, -0.013206027448177338, -0.05201782286167145, -0.05630527064204216, -0.015285479836165905, 0.018272798508405685, 0.06327395886182785, 0.030413497239351273, 0.04581289738416672, 0.06312620639801025, 0.005552735645323992, 0.04269127920269966, -0.11441204696893692, -0.0012141600018367171, -0.006603716406971216, -0.019132906571030617, -0.02843964286148548, -0.04574600234627724, -0.05079054832458496, 0.040485553443431854, -0.013952253386378288, -0.0034360133577138186, -0.03823437541723251, -0.009697699919342995, 0.03679195046424866, -0.010116854682564735, -0.09535413235425949, -0.057118888944387436, 0.00537120783701539, 0.0034569839481264353, -0.0016098852502182126, 0.05373763293027878, -0.03484185412526131, -0.01751583255827427, -0.02832583151757717, -0.10188566148281097, 0.012269475497305393, 0.04316394031047821, -0.05030861124396324, -0.07435192912817001, -0.06468723714351654, -0.009030976332724094, -0.019087253138422966, 0.04423198848962784, 0.09199584275484085, -0.023278776556253433, 0.04261503741145134, -0.07331988215446472, -0.014957237988710403, 0.06631768494844437, -1.8059280293414304e-08, 0.03656059131026268, 0.011981003917753696, 0.11013853549957275, 0.06470947712659836, -0.0663028210401535, -0.02679671160876751, 0.014168968424201012, 0.0842227041721344, -0.06401237100362778, 0.055685222148895264, 0.058308955281972885, 0.14796920120716095, -0.06462188810110092, -0.027138346806168556, 0.019912239164114, 2.479805698385462e-05, 0.008529085665941238, 0.05782685428857803, -0.028084460645914078, 0.0013043222716078162, -0.010705054737627506, 0.048274412751197815, 0.05693650245666504, -0.05047544464468956, -0.02154354378581047, -0.01758800446987152, 0.02211732603609562, 0.06200995296239853, 0.04497585818171501, -0.03216863051056862, -0.059684790670871735, 0.0053101954981684685, -0.0441361628472805, -0.03306649625301361, -0.1527339220046997, -0.044486403465270996, 0.09911791980266571, -0.01576375961303711, -0.024160979315638542, 0.011619419790804386, -0.046302516013383865, 0.0489455945789814, 0.019402459263801575, 0.036429546773433685, 0.02313138172030449, -0.04830635339021683, 0.024735862389206886, -0.009841399267315865, 0.08060978353023529, -0.010882397182285786, -0.005376789253205061, -0.01946450211107731, 0.09139246493577957, -0.013161618262529373, -0.10923859477043152, -0.006009379867464304, -0.09961511939764023, -0.05415632575750351, 0.0396522581577301, -0.046244602650403976, 0.014917390421032906, -0.083858922123909, 0.0627356693148613, 0.09000478684902191]\n"
     ]
    }
   ],
   "execution_count": 9
  },
  {
   "metadata": {
    "ExecuteTime": {
     "end_time": "2025-05-13T16:27:41.396873Z",
     "start_time": "2025-05-13T16:27:41.360118Z"
    }
   },
   "cell_type": "code",
   "source": [
    "# -----------------------------------------------------------\n",
    "# 5a. Similarity Search (Top K Results - No Filtering)\n",
    "# -----------------------------------------------------------\n",
    "# Demonstrates how to retrieve clinical notes along with their similarity scores,\n",
    "# allowing for more precise filtering and ranking of results.\n",
    "\n",
    "# Key Components:\n",
    "#   - similarity_search_with_score(query, k=10):\n",
    "#     Retrieves the top k (10 in this case) most similar documents along with their similarity scores.\n",
    "#   - vectorstore.similarity_search_with_score():\n",
    "#     Searches across all embedded documents and returns full-note matches.\n",
    "#   - print(results): Displays each matched document along with its similarity score.\n",
    "\n",
    "# Score Interpretation:\n",
    "#   - 0.9 – 1.0: Highly relevant match\n",
    "#   - 0.7 – 0.9: Strong relevance\n",
    "#   - 0.5 – 0.7: Moderate relevance\n",
    "#   - 0.3 – 0.5: Low relevance\n",
    "#   - 0.0 – 0.3: Minimal or no relevance\n",
    "\n",
    "# Purpose:\n",
    "# This method provides greater transparency in retrieval by returning similarity scores,\n",
    "# enabling fine-tuned filtering to ensure only highly relevant clinical notes are used for AI analysis.\n",
    "\n",
    "# -----------------------------------------------------------\n",
    "\n",
    "# Number of top results to retrieve\n",
    "top_k = 5\n",
    "\n",
    "# Perform similarity search using embedded query\n",
    "results = vectorstore.similarity_search_with_score(query, k=top_k)\n",
    "\n",
    "print(f\"Top {top_k} most similar clinical notes to the query:\\n\")\n",
    "\n",
    "# Display the retrieved documents and similarity scores\n",
    "for i, (doc, score) in enumerate(results):\n",
    "    print(f\"------------ Result {i+1} ------------\")\n",
    "    print(f\"|--> Similarity Score: {score:.4f} <--|\")\n",
    "\n",
    "    # Show a preview of the matched note\n",
    "    from IPython.display import Markdown, display\n",
    "    display(Markdown(f\"Note Preview:\\n\\n{doc.page_content[:1200]}\"))\n"
   ],
   "id": "10ff12b605678727",
   "outputs": [
    {
     "name": "stdout",
     "output_type": "stream",
     "text": [
      "Top 5 most similar clinical notes to the query:\n",
      "\n",
      "------------ Result 1 ------------\n",
      "|--> Similarity Score: 0.5248 <--|\n"
     ]
    },
    {
     "data": {
      "text/plain": [
       "<IPython.core.display.Markdown object>"
      ],
      "text/markdown": "Note Preview:\n\n**Visit Information:**\n- Patient ID: 1000000005\n- Encounter ID: 477663\n- Visit Date: June 21, 2005\n\n**Subjective:**\n\nThis is a 32-year-old Hispanic female who has been receiving care at our clinic for approximately 3 months. She speaks English and presents today for a follow-up visit scheduled as part of her ongoing asthma management. The patient reports continued asthma symptoms, including persistent shortness of breath, wheezing particularly at night, and a cough that disrupts her sleep. Over the past two weeks, these symptoms have intensified despite regular usage of her asthma medications: albuterol inhaler for rescue, daily fluticasone inhaler, and nightly montelukast. She states the albuterol provides only brief relief.\n\nShe has a medical history of unspecified asthma without mention of status asthmaticus, back sprain from unspecified causes, vaginitis, and a previous high-risk pregnancy requiring special investigations. Her social history includes living in an urban environment known for high allergen exposure, working as a primary school teacher, and maintaining a non-smoking and non-drinking lifestyle. She has no known allergies.\n\n**Objective:**\n\nOn examination, the patien"
     },
     "metadata": {},
     "output_type": "display_data"
    },
    {
     "name": "stdout",
     "output_type": "stream",
     "text": [
      "------------ Result 2 ------------\n",
      "|--> Similarity Score: 0.5455 <--|\n"
     ]
    },
    {
     "data": {
      "text/plain": [
       "<IPython.core.display.Markdown object>"
      ],
      "text/markdown": "Note Preview:\n\n**Visit Information:**\n- Patient ID: 1000000011\n- Encounter ID: 476139\n- Visit Date: Nov 20, 2003\n\n**Subjective:**\nThis is a 54-year-old Caucasian female who speaks English and has been receiving care at our clinic. She presents today for a follow-up regarding her recurrent asthma and associated symptoms. The patient is experiencing persistent shortness of breath, wheezing, and a nocturnal cough that interrupts her sleep. These symptoms have been particularly troublesome over the last month despite adherence to her current medication regimen. She denies smoking and has reported no recent exposure to known allergens or new environmental triggers.\n\nHer past medical history is significant for recurrent asthma, an acute myocardial infarction, hypertension, hypercholesterolemia, lumbar disc displacement leading to chronic lumbago, cervical dysplasia, and a panic disorder. Her medications include fluticasone and an albuterol inhaler for asthma, along with antihypertensive and lipid-lowering agents. She resides independently and leads an active lifestyle with a balanced diet and routine physical activity, adjusted as needed for her medical conditions.\n\n**Objective:**\nOn examination, the p"
     },
     "metadata": {},
     "output_type": "display_data"
    },
    {
     "name": "stdout",
     "output_type": "stream",
     "text": [
      "------------ Result 3 ------------\n",
      "|--> Similarity Score: 0.5618 <--|\n"
     ]
    },
    {
     "data": {
      "text/plain": [
       "<IPython.core.display.Markdown object>"
      ],
      "text/markdown": "Note Preview:\n\n**Visit Information:**\n- Patient ID: 1000000123\n- Encounter ID: 475208\n- Visit Date: November 27, 2002\n\n**Subjective:**\nThis is a 19-year-old Indian male who has been under our care for asthma management. The patient speaks German and came to the clinic on November 27, 2002, for a follow-up visit. Since his last appointment in March 2001, he has experienced an uptick in both the frequency and severity of his asthma attacks. Recently, his nocturnal asthma episodes have become more disruptive, leading to sleep disturbances and affecting his daily function and academic performance. The patient reports consistent symptoms of wheezing, shortness of breath, and chest tightness that are exacerbated by physical activities and cold weather. He has been reliant on his rescue inhaler, using it three to four times a day with only partial relief.\n\nHis medical history includes chronic asthma, which has persisted since childhood. He is currently managed with a fluticasone/salmeterol inhaler taken twice daily and albuterol on an as-needed basis. He does not use any herbal supplements. As a high school student, he lives with his parents and younger siblings. He maintains an active lifestyle but has"
     },
     "metadata": {},
     "output_type": "display_data"
    },
    {
     "name": "stdout",
     "output_type": "stream",
     "text": [
      "------------ Result 4 ------------\n",
      "|--> Similarity Score: 0.5620 <--|\n"
     ]
    },
    {
     "data": {
      "text/plain": [
       "<IPython.core.display.Markdown object>"
      ],
      "text/markdown": "Note Preview:\n\n**Visit Information:**\n- Patient ID: 1000000005\n- Encounter ID: 475726\n- Visit Date: July 2, 2003\n\n**Subjective:**\n\nThis is a 30-year-old Hispanic female who is an English speaker, followed at our clinic for asthma management. Today, she presents for a routine follow-up visit. The patient reports persistent symptoms of asthma, including increased shortness of breath, wheezing, and a nocturnal cough that disrupts her sleep. She mentions that these symptoms have worsened over the past two weeks despite regular use of her asthma medications. She is diligent with her albuterol inhaler (used as needed), fluticasone inhaler (daily), and montelukast (nightly), yet finds that the albuterol offers only temporary relief.\n\nHer medical history includes asthma with multiple past exacerbations usually triggered by allergens or respiratory infections. There are no past surgeries of note. Socially, she resides in an urban environment with high allergen exposure and works as a primary school teacher. She asserts a non-smoking and non-drinking lifestyle. No known allergies have been reported.\n\n**Objective:**\n\nUpon examination, the patient is in mild respiratory distress. Vital signs include a blood "
     },
     "metadata": {},
     "output_type": "display_data"
    },
    {
     "name": "stdout",
     "output_type": "stream",
     "text": [
      "------------ Result 5 ------------\n",
      "|--> Similarity Score: 0.5715 <--|\n"
     ]
    },
    {
     "data": {
      "text/plain": [
       "<IPython.core.display.Markdown object>"
      ],
      "text/markdown": "Note Preview:\n\n## SOAP Note\n\n**Visit Information:**\n- Patient ID: 1000000011\n- Encounter ID: 476451\n- Visit Date: March 16, 2004\n\n**Subjective:**\nThis is a 55-year-old Caucasian female who speaks English and has been receiving care at our clinic for the past several months. She presents today for a follow-up visit primarily concerning her asthma, which has been problematic over the last month. The patient reports persistent shortness of breath, wheezing, and a nocturnal cough, hindering her sleep quality despite adherence to her prescribed medication regimen. She denies recent smoking, exposure to known allergens, or new environmental triggers.\n\nHer past medical history includes recurrent asthma, a previous myocardial infarction, hypertension, hypercholesterolemia, lumbar disc displacement with chronic lumbago, cervical dysplasia, and a panic disorder. She is currently taking fluticasone and an albuterol inhaler for asthma management, along with antihypertensive and lipid-lowering medications. The patient lives independently and maintains an active lifestyle, adjusting her routine as necessary due to her health conditions. She follows a balanced diet and engages in regular physical activity. She "
     },
     "metadata": {},
     "output_type": "display_data"
    }
   ],
   "execution_count": 11
  },
  {
   "metadata": {
    "ExecuteTime": {
     "end_time": "2025-05-13T16:28:47.619257Z",
     "start_time": "2025-05-13T16:28:47.615142Z"
    }
   },
   "cell_type": "code",
   "source": [
    "# -----------------------------------------------------------\n",
    "# 5b. Filter Search Results by Similarity Score Threshold\n",
    "# -----------------------------------------------------------\n",
    "# Filters the top-K search results to retain only the most relevant clinical notes,\n",
    "# based on a minimum cosine similarity score.\n",
    "\n",
    "# Score Threshold Logic:\n",
    "#   - We retain only documents where the similarity score is above the threshold.\n",
    "#   - Higher scores indicate greater similarity.\n",
    "\n",
    "# -----------------------------------------------------------\n",
    "\n",
    "threshold = 0.55  # Only include matches with score ≥ 0.7 (strong similarity)\n",
    "\n",
    "# Filter results\n",
    "filtered_results = [(doc, score) for doc, score in results if score >= threshold]\n",
    "\n",
    "print(f\"{len(filtered_results)} out of {top_k} notes passed the similarity threshold (≥ {threshold}):\\n\")\n",
    "\n",
    "# Display filtered matches\n",
    "for i, (doc, score) in enumerate(filtered_results):\n",
    "    print(f\"-------- Filtered Match {i+1} --------\")\n",
    "    print(f\"|--> Similarity Score: {score:.4f} <--|\\n\")\n",
    "\n",
    "    from IPython.display import Markdown, display\n",
    "    display(Markdown(f\"Note Preview:\\n\\n{doc.page_content[:1200]}\"))\n"
   ],
   "id": "e759fdce7afea1b1",
   "outputs": [
    {
     "name": "stdout",
     "output_type": "stream",
     "text": [
      "3 out of 5 notes passed the similarity threshold (≥ 0.55):\n",
      "\n",
      "-------- Filtered Match 1 --------\n",
      "|--> Similarity Score: 0.5618 <--|\n",
      "\n"
     ]
    },
    {
     "data": {
      "text/plain": [
       "<IPython.core.display.Markdown object>"
      ],
      "text/markdown": "Note Preview:\n\n**Visit Information:**\n- Patient ID: 1000000123\n- Encounter ID: 475208\n- Visit Date: November 27, 2002\n\n**Subjective:**\nThis is a 19-year-old Indian male who has been under our care for asthma management. The patient speaks German and came to the clinic on November 27, 2002, for a follow-up visit. Since his last appointment in March 2001, he has experienced an uptick in both the frequency and severity of his asthma attacks. Recently, his nocturnal asthma episodes have become more disruptive, leading to sleep disturbances and affecting his daily function and academic performance. The patient reports consistent symptoms of wheezing, shortness of breath, and chest tightness that are exacerbated by physical activities and cold weather. He has been reliant on his rescue inhaler, using it three to four times a day with only partial relief.\n\nHis medical history includes chronic asthma, which has persisted since childhood. He is currently managed with a fluticasone/salmeterol inhaler taken twice daily and albuterol on an as-needed basis. He does not use any herbal supplements. As a high school student, he lives with his parents and younger siblings. He maintains an active lifestyle but has"
     },
     "metadata": {},
     "output_type": "display_data"
    },
    {
     "name": "stdout",
     "output_type": "stream",
     "text": [
      "-------- Filtered Match 2 --------\n",
      "|--> Similarity Score: 0.5620 <--|\n",
      "\n"
     ]
    },
    {
     "data": {
      "text/plain": [
       "<IPython.core.display.Markdown object>"
      ],
      "text/markdown": "Note Preview:\n\n**Visit Information:**\n- Patient ID: 1000000005\n- Encounter ID: 475726\n- Visit Date: July 2, 2003\n\n**Subjective:**\n\nThis is a 30-year-old Hispanic female who is an English speaker, followed at our clinic for asthma management. Today, she presents for a routine follow-up visit. The patient reports persistent symptoms of asthma, including increased shortness of breath, wheezing, and a nocturnal cough that disrupts her sleep. She mentions that these symptoms have worsened over the past two weeks despite regular use of her asthma medications. She is diligent with her albuterol inhaler (used as needed), fluticasone inhaler (daily), and montelukast (nightly), yet finds that the albuterol offers only temporary relief.\n\nHer medical history includes asthma with multiple past exacerbations usually triggered by allergens or respiratory infections. There are no past surgeries of note. Socially, she resides in an urban environment with high allergen exposure and works as a primary school teacher. She asserts a non-smoking and non-drinking lifestyle. No known allergies have been reported.\n\n**Objective:**\n\nUpon examination, the patient is in mild respiratory distress. Vital signs include a blood "
     },
     "metadata": {},
     "output_type": "display_data"
    },
    {
     "name": "stdout",
     "output_type": "stream",
     "text": [
      "-------- Filtered Match 3 --------\n",
      "|--> Similarity Score: 0.5715 <--|\n",
      "\n"
     ]
    },
    {
     "data": {
      "text/plain": [
       "<IPython.core.display.Markdown object>"
      ],
      "text/markdown": "Note Preview:\n\n## SOAP Note\n\n**Visit Information:**\n- Patient ID: 1000000011\n- Encounter ID: 476451\n- Visit Date: March 16, 2004\n\n**Subjective:**\nThis is a 55-year-old Caucasian female who speaks English and has been receiving care at our clinic for the past several months. She presents today for a follow-up visit primarily concerning her asthma, which has been problematic over the last month. The patient reports persistent shortness of breath, wheezing, and a nocturnal cough, hindering her sleep quality despite adherence to her prescribed medication regimen. She denies recent smoking, exposure to known allergens, or new environmental triggers.\n\nHer past medical history includes recurrent asthma, a previous myocardial infarction, hypertension, hypercholesterolemia, lumbar disc displacement with chronic lumbago, cervical dysplasia, and a panic disorder. She is currently taking fluticasone and an albuterol inhaler for asthma management, along with antihypertensive and lipid-lowering medications. The patient lives independently and maintains an active lifestyle, adjusting her routine as necessary due to her health conditions. She follows a balanced diet and engages in regular physical activity. She "
     },
     "metadata": {},
     "output_type": "display_data"
    }
   ],
   "execution_count": 12
  },
  {
   "metadata": {
    "ExecuteTime": {
     "end_time": "2025-05-13T16:29:12.878253Z",
     "start_time": "2025-05-13T16:29:12.856199Z"
    }
   },
   "cell_type": "code",
   "source": [
    "# -----------------------------------------------------------\n",
    "# 6. Create a Prompt Template for LLM Querying\n",
    "# -----------------------------------------------------------\n",
    "# This prompt is used to generate structured, patient-specific summaries\n",
    "# from the most relevant clinical notes retrieved via similarity search.\n",
    "\n",
    "# Metadata Integration:\n",
    "# Each note includes metadata fields: patient_num, encounter_num, and visit_date.\n",
    "# These fields will help the LLM provide traceable, organized, and clinically meaningful responses.\n",
    "\n",
    "# Key Components:\n",
    "#   - PromptTemplate.from_template(): Creates a reusable prompt with placeholders.\n",
    "#   - {retrieved_docs}: Will be populated with the top-matching clinical notes.\n",
    "#   - {query}: The user’s clinical question.\n",
    "#   - Expected Output Structure:\n",
    "#       - Patient Num, Gender, Age, Race\n",
    "#       - Visit Date\n",
    "#       - Summary (contextual answer to the query)\n",
    "\n",
    "# Instructions to the model ensure:\n",
    "#   - Only one note per patient is considered (preferably the most recent)\n",
    "#   - The response includes structured identifiers to support traceability\n",
    "#   - The summary addresses the query clearly and concisely\n",
    "\n",
    "from langchain.prompts import PromptTemplate\n",
    "\n",
    "prompt_template = PromptTemplate.from_template(\n",
    "    \"You are a medical assistant analyzing clinical notes. Based on the following records:\\n\\n\"\n",
    "    \"{retrieved_docs}\\n\\n\"\n",
    "    \"Answer the question: {query} using the following structure:\\n\"\n",
    "    \"   - Patient Num: <value>, Gender: <value>, Age: <value>, Race: <value>\\n\"\n",
    "    \"   - Visit Date: <value>\\n\"\n",
    "    \"   - Summary: One paragraph summarizing the patient note and answering the question.\\n\\n\"\n",
    "    \"Instructions:\\n\"\n",
    "    \"- Show all patients that are relevant to the query.\\n\"\n",
    "    \"- Only consider the most recent note for each patient (identified by patient_num).\"\n",
    ")\n"
   ],
   "id": "ebb9aec086115c34",
   "outputs": [],
   "execution_count": 13
  },
  {
   "metadata": {
    "ExecuteTime": {
     "end_time": "2025-05-13T16:29:55.585375Z",
     "start_time": "2025-05-13T16:29:48.173936Z"
    }
   },
   "cell_type": "code",
   "source": [
    "# -----------------------------------------------------------\n",
    "# 7. Use Retrieved Context to Invoke LLM and Generate Response\n",
    "# -----------------------------------------------------------\n",
    "# This completes the RAG workflow by passing the retrieved clinical notes\n",
    "# into the prompt template and invoking a local LLM to answer the user query.\n",
    "\n",
    "# Key Components:\n",
    "#   - prompt_template.format(...): Populates the prompt with notes and query.\n",
    "#   - model.invoke(final_prompt): Sends the query to the LLM.\n",
    "#   - print(response.content): Displays the result.\n",
    "\n",
    "from langchain_ollama import ChatOllama\n",
    "\n",
    "# Define the model name (assumed to be already pulled)\n",
    "\n",
    "model = ChatOllama(model=\"qwen2\")\n",
    "\n",
    "# Select top N retrieved documents (e.g., 2)\n",
    "retrieved_context = \"\\n\\n---\\n\\n\".join([doc.page_content for doc, _ in filtered_results])\n",
    "\n",
    "# Format the final prompt using the template\n",
    "final_prompt = prompt_template.format(retrieved_docs=retrieved_context, query=query)\n",
    "\n",
    "# Invoke the model (ChatOllama, AzureChatOpenAI, etc.)\n",
    "response = model.invoke(final_prompt)\n",
    "\n",
    "# Display the structured, AI-generated response\n",
    "print(\"📋 LLM-Generated Response:\\n\")\n",
    "display(Markdown(response.content))\n"
   ],
   "id": "44506dfe18ccb7c6",
   "outputs": [
    {
     "name": "stdout",
     "output_type": "stream",
     "text": [
      "📋 LLM-Generated Response:\n",
      "\n"
     ]
    },
    {
     "data": {
      "text/plain": [
       "<IPython.core.display.Markdown object>"
      ],
      "text/markdown": "Based on the provided clinical notes, there are three patients with asthma taking Fluticasone and Albuterol:\n\n1. Patient Num: 1000000123, Gender: Male, Age: 19 years, Race: Indian  \n   Visit Date: November 27, 2002\n   Summary: This patient is a 19-year-old Indian male with asthma that has been under their care for management. He experienced an increase in asthma attacks since his last visit three months prior, leading to sleep disturbances and academic difficulties. His symptoms include wheezing, shortness of breath, and chest tightness exacerbated by physical activities and cold weather. He uses a rescue inhaler three to four times daily due to inadequate control with current medications including fluticasone/salmeterol and albuterol.\n\n2. Patient Num: 1000000005, Gender: Female, Age: 30 years, Race: Hispanic  \n   Visit Date: July 2, 2003\n   Summary: This patient is a 30-year-old Hispanic female with persistent symptoms of asthma that have worsened over the past two weeks despite regular use of her medications. She reports increased shortness of breath and nocturnal coughing which disrupts her sleep. Her condition seems to be exacerbated by allergen exposure, requiring temporary increases in her medication dosage including fluticasone inhaler (daily) and albuterol as needed.\n\n3. Patient Num: 1000000011, Gender: Female, Age: 55 years, Race: Caucasian  \n   Visit Date: March 16, 2004\n   Summary: This patient is a 55-year-old Caucasian female with persistent shortness of breath and nocturnal cough that hinders her sleep. Despite adhering to her prescribed medication regimen which includes fluticasone inhaler twice daily and albuterol as needed for asthma management, she experiences difficulty in controlling her symptoms. She also has additional health concerns like hypertension, hypercholesterolemia, and cervical dysplasia."
     },
     "metadata": {},
     "output_type": "display_data"
    }
   ],
   "execution_count": 15
  },
  {
   "metadata": {},
   "cell_type": "code",
   "source": "",
   "id": "874344cb336b599a",
   "outputs": [],
   "execution_count": null
  }
 ],
 "metadata": {
  "kernelspec": {
   "display_name": "Python 3",
   "language": "python",
   "name": "python3"
  },
  "language_info": {
   "codemirror_mode": {
    "name": "ipython",
    "version": 2
   },
   "file_extension": ".py",
   "mimetype": "text/x-python",
   "name": "python",
   "nbconvert_exporter": "python",
   "pygments_lexer": "ipython2",
   "version": "2.7.6"
  }
 },
 "nbformat": 4,
 "nbformat_minor": 5
}
