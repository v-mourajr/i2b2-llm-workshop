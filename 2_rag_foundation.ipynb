{
 "cells": [
  {
   "metadata": {},
   "cell_type": "markdown",
   "source": [
    "![i2b2 Logo](images/transmart-logo.png)\n",
    "\n",
    "# Using LLM + Embeddings to Search Patient Notes (RAG - Basics)\n",
    "\n",
    "This notebook demonstrates how to use **local embeddings** and a **Retrieval-Augmented Generation (RAG)** approach to search and analyze clinical notes stored in an i2b2-like format. You'll learn how to decode raw notes, embed them using the MiniLM model, perform semantic search with FAISS, and generate structured clinical responses using a local LLM (e.g., Qwen or LLaMA 3 via Ollama).\n",
    "\n",
    "### 🔍 Key Concepts Covered\n",
    "\n",
    "- Decoding BinHex-encoded clinical notes\n",
    "- Creating semantic vector embeddings with `MiniLM`\n",
    "- Storing embeddings in a FAISS vector store (in memory)\n",
    "- Performing similarity search and interpreting cosine similarity scores\n",
    "- Filtering to include only the **most relevant and recent** patient notes\n",
    "- Injecting retrieved context into a structured prompt template\n",
    "- Using a local LLM (Ollama) to generate clinically relevant summaries\n",
    "\n",
    "Each cell builds on the previous one to demonstrate a complete, hands-on RAG pipeline adapted for **clinical informatics** use cases using familiar i2b2-style data.\n"
   ],
   "id": "e6022b84adefe37b"
  },
  {
   "metadata": {},
   "cell_type": "markdown",
   "source": [
    "## 1. Prepare Data for Embedding\n",
    "\n",
    "Before we can search and analyze clinical notes using vector similarity, we need to prepare the data:\n",
    "\n",
    "- **1.1**: Load the i2b2-mimicking dataset containing BinHex-encoded clinical notes.\n",
    "- **1.2**: Decode the notes and add a new column (`note_text`) with plain-text content.\n",
    "\n",
    "This prepares the dataset for the next step, where we will embed the notes into a vector space using a local MiniLM model.\n"
   ],
   "id": "b61f5e06bc86b7ee"
  },
  {
   "metadata": {
    "ExecuteTime": {
     "end_time": "2025-05-16T21:23:44.563998Z",
     "start_time": "2025-05-16T21:23:44.505808Z"
    }
   },
   "cell_type": "code",
   "source": [
    "# -----------------------------------------------------------\n",
    "# 1.1. Load and Explore Visit Data from i2b2-Mimicking CSV\n",
    "# -----------------------------------------------------------\n",
    "# This cell loads clinical visit data from a CSV that simulates the i2b2\n",
    "# `visit_dimension` table. Each row contains metadata and a clinical note\n",
    "# encoded in BinHex format.\n",
    "\n",
    "# Fields included:\n",
    "# - encounter_num: Unique visit ID\n",
    "# - patient_num: Patient identifier\n",
    "# - start_date, end_date: Visit dates\n",
    "# - location_cd, location_path: Care location details\n",
    "# - visit_blob: BinHex-encoded clinical note text\n",
    "\n",
    "import pandas as pd\n",
    "from mistune import markdown\n",
    "\n",
    "# Define the path to the simulated i2b2 CSV file\n",
    "csv_path = \"datafiles/i2b2_encounter_table.csv\"\n",
    "\n",
    "# Load the data into a pandas DataFrame\n",
    "df = pd.read_csv(csv_path)\n",
    "\n",
    "# Display the first 10 rows to inspect the structure\n",
    "df.head(10)\n"
   ],
   "id": "initial_id",
   "outputs": [
    {
     "data": {
      "text/plain": [
       "   encounter_num  patient_num  start_date    end_date inout_cd  \\\n",
       "0         475303   1000000001  01/16/2003  01/16/2003        O   \n",
       "1         479681   1000000001  03/29/2007  03/29/2007        O   \n",
       "2         480315   1000000001  09/20/2007  09/20/2007        O   \n",
       "3         480903   1000000001  03/04/2008  03/04/2008        O   \n",
       "4         481398   1000000001  08/11/2008  08/11/2008        O   \n",
       "5         482655   1000000001  05/18/2009  05/18/2009        O   \n",
       "6         471658   1000000002  04/17/1998  04/17/1998        O   \n",
       "7         472076   1000000002  01/04/1999  01/04/1999        O   \n",
       "8         472473   1000000002  08/12/1999  08/12/1999        O   \n",
       "9         472692   1000000002  12/01/1999  12/01/1999        O   \n",
       "\n",
       "          location_cd                           location_path  \\\n",
       "0       ASTHMA_CLINIC     \\Hospital\\Clinic\\Pulmonary\\Asthma\\\\   \n",
       "1       ASTHMA_CLINIC     \\Hospital\\Clinic\\Pulmonary\\Asthma\\\\   \n",
       "2       ASTHMA_CLINIC     \\Hospital\\Clinic\\Pulmonary\\Asthma\\\\   \n",
       "3       ASTHMA_CLINIC     \\Hospital\\Clinic\\Pulmonary\\Asthma\\\\   \n",
       "4       ASTHMA_CLINIC     \\Hospital\\Clinic\\Pulmonary\\Asthma\\\\   \n",
       "5       ASTHMA_CLINIC     \\Hospital\\Clinic\\Pulmonary\\Asthma\\\\   \n",
       "6  GEN_MED_OUTPATIENT  \\Hospital\\Outpatient\\GeneralMedicine\\\\   \n",
       "7  GEN_MED_OUTPATIENT  \\Hospital\\Outpatient\\GeneralMedicine\\\\   \n",
       "8  GEN_MED_OUTPATIENT  \\Hospital\\Outpatient\\GeneralMedicine\\\\   \n",
       "9  GEN_MED_OUTPATIENT  \\Hospital\\Outpatient\\GeneralMedicine\\\\   \n",
       "\n",
       "                                          visit_blob  \n",
       "0  0x2A2A566973697420496E666F726D6174696F6E3A2A2A...  \n",
       "1  0x2A2A566973697420496E666F726D6174696F6E3A2A2A...  \n",
       "2  0x2A2A566973697420496E666F726D6174696F6E3A2A2A...  \n",
       "3  0x5468697320697320612032332D796561722D6F6C6420...  \n",
       "4  0x566973697420496E666F726D6174696F6E3A20202020...  \n",
       "5  0x566973697420496E666F726D6174696F6E3A0A202020...  \n",
       "6  0x2A2A566973697420496E666F726D6174696F6E3A2A2A...  \n",
       "7  0x2A2A566973697420496E666F726D6174696F6E3A2A2A...  \n",
       "8  0x2A2A566973697420496E666F726D6174696F6E3A2A2A...  \n",
       "9  0x2A2A566973697420496E666F726D6174696F6E3A2A2A...  "
      ],
      "text/html": [
       "<div>\n",
       "<style scoped>\n",
       "    .dataframe tbody tr th:only-of-type {\n",
       "        vertical-align: middle;\n",
       "    }\n",
       "\n",
       "    .dataframe tbody tr th {\n",
       "        vertical-align: top;\n",
       "    }\n",
       "\n",
       "    .dataframe thead th {\n",
       "        text-align: right;\n",
       "    }\n",
       "</style>\n",
       "<table border=\"1\" class=\"dataframe\">\n",
       "  <thead>\n",
       "    <tr style=\"text-align: right;\">\n",
       "      <th></th>\n",
       "      <th>encounter_num</th>\n",
       "      <th>patient_num</th>\n",
       "      <th>start_date</th>\n",
       "      <th>end_date</th>\n",
       "      <th>inout_cd</th>\n",
       "      <th>location_cd</th>\n",
       "      <th>location_path</th>\n",
       "      <th>visit_blob</th>\n",
       "    </tr>\n",
       "  </thead>\n",
       "  <tbody>\n",
       "    <tr>\n",
       "      <th>0</th>\n",
       "      <td>475303</td>\n",
       "      <td>1000000001</td>\n",
       "      <td>01/16/2003</td>\n",
       "      <td>01/16/2003</td>\n",
       "      <td>O</td>\n",
       "      <td>ASTHMA_CLINIC</td>\n",
       "      <td>\\Hospital\\Clinic\\Pulmonary\\Asthma\\\\</td>\n",
       "      <td>0x2A2A566973697420496E666F726D6174696F6E3A2A2A...</td>\n",
       "    </tr>\n",
       "    <tr>\n",
       "      <th>1</th>\n",
       "      <td>479681</td>\n",
       "      <td>1000000001</td>\n",
       "      <td>03/29/2007</td>\n",
       "      <td>03/29/2007</td>\n",
       "      <td>O</td>\n",
       "      <td>ASTHMA_CLINIC</td>\n",
       "      <td>\\Hospital\\Clinic\\Pulmonary\\Asthma\\\\</td>\n",
       "      <td>0x2A2A566973697420496E666F726D6174696F6E3A2A2A...</td>\n",
       "    </tr>\n",
       "    <tr>\n",
       "      <th>2</th>\n",
       "      <td>480315</td>\n",
       "      <td>1000000001</td>\n",
       "      <td>09/20/2007</td>\n",
       "      <td>09/20/2007</td>\n",
       "      <td>O</td>\n",
       "      <td>ASTHMA_CLINIC</td>\n",
       "      <td>\\Hospital\\Clinic\\Pulmonary\\Asthma\\\\</td>\n",
       "      <td>0x2A2A566973697420496E666F726D6174696F6E3A2A2A...</td>\n",
       "    </tr>\n",
       "    <tr>\n",
       "      <th>3</th>\n",
       "      <td>480903</td>\n",
       "      <td>1000000001</td>\n",
       "      <td>03/04/2008</td>\n",
       "      <td>03/04/2008</td>\n",
       "      <td>O</td>\n",
       "      <td>ASTHMA_CLINIC</td>\n",
       "      <td>\\Hospital\\Clinic\\Pulmonary\\Asthma\\\\</td>\n",
       "      <td>0x5468697320697320612032332D796561722D6F6C6420...</td>\n",
       "    </tr>\n",
       "    <tr>\n",
       "      <th>4</th>\n",
       "      <td>481398</td>\n",
       "      <td>1000000001</td>\n",
       "      <td>08/11/2008</td>\n",
       "      <td>08/11/2008</td>\n",
       "      <td>O</td>\n",
       "      <td>ASTHMA_CLINIC</td>\n",
       "      <td>\\Hospital\\Clinic\\Pulmonary\\Asthma\\\\</td>\n",
       "      <td>0x566973697420496E666F726D6174696F6E3A20202020...</td>\n",
       "    </tr>\n",
       "    <tr>\n",
       "      <th>5</th>\n",
       "      <td>482655</td>\n",
       "      <td>1000000001</td>\n",
       "      <td>05/18/2009</td>\n",
       "      <td>05/18/2009</td>\n",
       "      <td>O</td>\n",
       "      <td>ASTHMA_CLINIC</td>\n",
       "      <td>\\Hospital\\Clinic\\Pulmonary\\Asthma\\\\</td>\n",
       "      <td>0x566973697420496E666F726D6174696F6E3A0A202020...</td>\n",
       "    </tr>\n",
       "    <tr>\n",
       "      <th>6</th>\n",
       "      <td>471658</td>\n",
       "      <td>1000000002</td>\n",
       "      <td>04/17/1998</td>\n",
       "      <td>04/17/1998</td>\n",
       "      <td>O</td>\n",
       "      <td>GEN_MED_OUTPATIENT</td>\n",
       "      <td>\\Hospital\\Outpatient\\GeneralMedicine\\\\</td>\n",
       "      <td>0x2A2A566973697420496E666F726D6174696F6E3A2A2A...</td>\n",
       "    </tr>\n",
       "    <tr>\n",
       "      <th>7</th>\n",
       "      <td>472076</td>\n",
       "      <td>1000000002</td>\n",
       "      <td>01/04/1999</td>\n",
       "      <td>01/04/1999</td>\n",
       "      <td>O</td>\n",
       "      <td>GEN_MED_OUTPATIENT</td>\n",
       "      <td>\\Hospital\\Outpatient\\GeneralMedicine\\\\</td>\n",
       "      <td>0x2A2A566973697420496E666F726D6174696F6E3A2A2A...</td>\n",
       "    </tr>\n",
       "    <tr>\n",
       "      <th>8</th>\n",
       "      <td>472473</td>\n",
       "      <td>1000000002</td>\n",
       "      <td>08/12/1999</td>\n",
       "      <td>08/12/1999</td>\n",
       "      <td>O</td>\n",
       "      <td>GEN_MED_OUTPATIENT</td>\n",
       "      <td>\\Hospital\\Outpatient\\GeneralMedicine\\\\</td>\n",
       "      <td>0x2A2A566973697420496E666F726D6174696F6E3A2A2A...</td>\n",
       "    </tr>\n",
       "    <tr>\n",
       "      <th>9</th>\n",
       "      <td>472692</td>\n",
       "      <td>1000000002</td>\n",
       "      <td>12/01/1999</td>\n",
       "      <td>12/01/1999</td>\n",
       "      <td>O</td>\n",
       "      <td>GEN_MED_OUTPATIENT</td>\n",
       "      <td>\\Hospital\\Outpatient\\GeneralMedicine\\\\</td>\n",
       "      <td>0x2A2A566973697420496E666F726D6174696F6E3A2A2A...</td>\n",
       "    </tr>\n",
       "  </tbody>\n",
       "</table>\n",
       "</div>"
      ]
     },
     "execution_count": 59,
     "metadata": {},
     "output_type": "execute_result"
    }
   ],
   "execution_count": 59
  },
  {
   "metadata": {
    "ExecuteTime": {
     "end_time": "2025-05-16T21:23:48.950301Z",
     "start_time": "2025-05-16T21:23:48.931173Z"
    }
   },
   "cell_type": "code",
   "source": [
    "# -----------------------------------------------------------\n",
    "# 1.2. Decode BinHex Clinical Notes and Prepare Text Corpus\n",
    "# -----------------------------------------------------------\n",
    "# This cell decodes the clinical notes stored in BinHex format and\n",
    "# adds a new `note_text` column containing plain-text notes.\n",
    "# These will be used for embedding in the next step.\n",
    "\n",
    "import binascii\n",
    "from IPython.display import display, Markdown\n",
    "\n",
    "# Function to decode a single BinHex string\n",
    "def decode_note(hex_blob):\n",
    "    hex_str = hex_blob.replace(\"0x\", \"\")\n",
    "    return binascii.unhexlify(hex_str).decode(\"utf-8\", errors=\"ignore\")\n",
    "\n",
    "# Apply decoding to all rows\n",
    "df[\"note_text\"] = df[\"visit_blob\"].apply(decode_note)\n",
    "\n",
    "# Display the first 10 decoded records\n",
    "display(df.head(10))\n",
    "\n",
    "# Display an example decoded note\n",
    "example_index = 10\n",
    "display(Markdown(f\"### Decoded Note Example (Row {example_index} of {len(df)}):\\n\\n```text\\n{df['note_text'][example_index]}\\n```\"))\n"
   ],
   "id": "ab9f90d9cadb0592",
   "outputs": [
    {
     "data": {
      "text/plain": [
       "   encounter_num  patient_num  start_date    end_date inout_cd  \\\n",
       "0         475303   1000000001  01/16/2003  01/16/2003        O   \n",
       "1         479681   1000000001  03/29/2007  03/29/2007        O   \n",
       "2         480315   1000000001  09/20/2007  09/20/2007        O   \n",
       "3         480903   1000000001  03/04/2008  03/04/2008        O   \n",
       "4         481398   1000000001  08/11/2008  08/11/2008        O   \n",
       "5         482655   1000000001  05/18/2009  05/18/2009        O   \n",
       "6         471658   1000000002  04/17/1998  04/17/1998        O   \n",
       "7         472076   1000000002  01/04/1999  01/04/1999        O   \n",
       "8         472473   1000000002  08/12/1999  08/12/1999        O   \n",
       "9         472692   1000000002  12/01/1999  12/01/1999        O   \n",
       "\n",
       "          location_cd                           location_path  \\\n",
       "0       ASTHMA_CLINIC     \\Hospital\\Clinic\\Pulmonary\\Asthma\\\\   \n",
       "1       ASTHMA_CLINIC     \\Hospital\\Clinic\\Pulmonary\\Asthma\\\\   \n",
       "2       ASTHMA_CLINIC     \\Hospital\\Clinic\\Pulmonary\\Asthma\\\\   \n",
       "3       ASTHMA_CLINIC     \\Hospital\\Clinic\\Pulmonary\\Asthma\\\\   \n",
       "4       ASTHMA_CLINIC     \\Hospital\\Clinic\\Pulmonary\\Asthma\\\\   \n",
       "5       ASTHMA_CLINIC     \\Hospital\\Clinic\\Pulmonary\\Asthma\\\\   \n",
       "6  GEN_MED_OUTPATIENT  \\Hospital\\Outpatient\\GeneralMedicine\\\\   \n",
       "7  GEN_MED_OUTPATIENT  \\Hospital\\Outpatient\\GeneralMedicine\\\\   \n",
       "8  GEN_MED_OUTPATIENT  \\Hospital\\Outpatient\\GeneralMedicine\\\\   \n",
       "9  GEN_MED_OUTPATIENT  \\Hospital\\Outpatient\\GeneralMedicine\\\\   \n",
       "\n",
       "                                          visit_blob  \\\n",
       "0  0x2A2A566973697420496E666F726D6174696F6E3A2A2A...   \n",
       "1  0x2A2A566973697420496E666F726D6174696F6E3A2A2A...   \n",
       "2  0x2A2A566973697420496E666F726D6174696F6E3A2A2A...   \n",
       "3  0x5468697320697320612032332D796561722D6F6C6420...   \n",
       "4  0x566973697420496E666F726D6174696F6E3A20202020...   \n",
       "5  0x566973697420496E666F726D6174696F6E3A0A202020...   \n",
       "6  0x2A2A566973697420496E666F726D6174696F6E3A2A2A...   \n",
       "7  0x2A2A566973697420496E666F726D6174696F6E3A2A2A...   \n",
       "8  0x2A2A566973697420496E666F726D6174696F6E3A2A2A...   \n",
       "9  0x2A2A566973697420496E666F726D6174696F6E3A2A2A...   \n",
       "\n",
       "                                           note_text  \n",
       "0  **Visit Information:**\\n   - Patient ID: 10000...  \n",
       "1  **Visit Information:**\\n- Patient ID: 10000000...  \n",
       "2  **Visit Information:**\\n\\n    - Patient ID: 10...  \n",
       "3  This is a 23-year-old Black female who has bee...  \n",
       "4  Visit Information:    \\n    - Patient ID: 1000...  \n",
       "5  Visit Information:\\n    - Patient ID: 10000000...  \n",
       "6  **Visit Information:**\\n- Patient ID: 10000000...  \n",
       "7  **Visit Information:**\\n- Patient ID: 10000000...  \n",
       "8  **Visit Information:**\\n- Patient ID: 10000000...  \n",
       "9  **Visit Information:**\\n- Patient ID: 10000000...  "
      ],
      "text/html": [
       "<div>\n",
       "<style scoped>\n",
       "    .dataframe tbody tr th:only-of-type {\n",
       "        vertical-align: middle;\n",
       "    }\n",
       "\n",
       "    .dataframe tbody tr th {\n",
       "        vertical-align: top;\n",
       "    }\n",
       "\n",
       "    .dataframe thead th {\n",
       "        text-align: right;\n",
       "    }\n",
       "</style>\n",
       "<table border=\"1\" class=\"dataframe\">\n",
       "  <thead>\n",
       "    <tr style=\"text-align: right;\">\n",
       "      <th></th>\n",
       "      <th>encounter_num</th>\n",
       "      <th>patient_num</th>\n",
       "      <th>start_date</th>\n",
       "      <th>end_date</th>\n",
       "      <th>inout_cd</th>\n",
       "      <th>location_cd</th>\n",
       "      <th>location_path</th>\n",
       "      <th>visit_blob</th>\n",
       "      <th>note_text</th>\n",
       "    </tr>\n",
       "  </thead>\n",
       "  <tbody>\n",
       "    <tr>\n",
       "      <th>0</th>\n",
       "      <td>475303</td>\n",
       "      <td>1000000001</td>\n",
       "      <td>01/16/2003</td>\n",
       "      <td>01/16/2003</td>\n",
       "      <td>O</td>\n",
       "      <td>ASTHMA_CLINIC</td>\n",
       "      <td>\\Hospital\\Clinic\\Pulmonary\\Asthma\\\\</td>\n",
       "      <td>0x2A2A566973697420496E666F726D6174696F6E3A2A2A...</td>\n",
       "      <td>**Visit Information:**\\n   - Patient ID: 10000...</td>\n",
       "    </tr>\n",
       "    <tr>\n",
       "      <th>1</th>\n",
       "      <td>479681</td>\n",
       "      <td>1000000001</td>\n",
       "      <td>03/29/2007</td>\n",
       "      <td>03/29/2007</td>\n",
       "      <td>O</td>\n",
       "      <td>ASTHMA_CLINIC</td>\n",
       "      <td>\\Hospital\\Clinic\\Pulmonary\\Asthma\\\\</td>\n",
       "      <td>0x2A2A566973697420496E666F726D6174696F6E3A2A2A...</td>\n",
       "      <td>**Visit Information:**\\n- Patient ID: 10000000...</td>\n",
       "    </tr>\n",
       "    <tr>\n",
       "      <th>2</th>\n",
       "      <td>480315</td>\n",
       "      <td>1000000001</td>\n",
       "      <td>09/20/2007</td>\n",
       "      <td>09/20/2007</td>\n",
       "      <td>O</td>\n",
       "      <td>ASTHMA_CLINIC</td>\n",
       "      <td>\\Hospital\\Clinic\\Pulmonary\\Asthma\\\\</td>\n",
       "      <td>0x2A2A566973697420496E666F726D6174696F6E3A2A2A...</td>\n",
       "      <td>**Visit Information:**\\n\\n    - Patient ID: 10...</td>\n",
       "    </tr>\n",
       "    <tr>\n",
       "      <th>3</th>\n",
       "      <td>480903</td>\n",
       "      <td>1000000001</td>\n",
       "      <td>03/04/2008</td>\n",
       "      <td>03/04/2008</td>\n",
       "      <td>O</td>\n",
       "      <td>ASTHMA_CLINIC</td>\n",
       "      <td>\\Hospital\\Clinic\\Pulmonary\\Asthma\\\\</td>\n",
       "      <td>0x5468697320697320612032332D796561722D6F6C6420...</td>\n",
       "      <td>This is a 23-year-old Black female who has bee...</td>\n",
       "    </tr>\n",
       "    <tr>\n",
       "      <th>4</th>\n",
       "      <td>481398</td>\n",
       "      <td>1000000001</td>\n",
       "      <td>08/11/2008</td>\n",
       "      <td>08/11/2008</td>\n",
       "      <td>O</td>\n",
       "      <td>ASTHMA_CLINIC</td>\n",
       "      <td>\\Hospital\\Clinic\\Pulmonary\\Asthma\\\\</td>\n",
       "      <td>0x566973697420496E666F726D6174696F6E3A20202020...</td>\n",
       "      <td>Visit Information:    \\n    - Patient ID: 1000...</td>\n",
       "    </tr>\n",
       "    <tr>\n",
       "      <th>5</th>\n",
       "      <td>482655</td>\n",
       "      <td>1000000001</td>\n",
       "      <td>05/18/2009</td>\n",
       "      <td>05/18/2009</td>\n",
       "      <td>O</td>\n",
       "      <td>ASTHMA_CLINIC</td>\n",
       "      <td>\\Hospital\\Clinic\\Pulmonary\\Asthma\\\\</td>\n",
       "      <td>0x566973697420496E666F726D6174696F6E3A0A202020...</td>\n",
       "      <td>Visit Information:\\n    - Patient ID: 10000000...</td>\n",
       "    </tr>\n",
       "    <tr>\n",
       "      <th>6</th>\n",
       "      <td>471658</td>\n",
       "      <td>1000000002</td>\n",
       "      <td>04/17/1998</td>\n",
       "      <td>04/17/1998</td>\n",
       "      <td>O</td>\n",
       "      <td>GEN_MED_OUTPATIENT</td>\n",
       "      <td>\\Hospital\\Outpatient\\GeneralMedicine\\\\</td>\n",
       "      <td>0x2A2A566973697420496E666F726D6174696F6E3A2A2A...</td>\n",
       "      <td>**Visit Information:**\\n- Patient ID: 10000000...</td>\n",
       "    </tr>\n",
       "    <tr>\n",
       "      <th>7</th>\n",
       "      <td>472076</td>\n",
       "      <td>1000000002</td>\n",
       "      <td>01/04/1999</td>\n",
       "      <td>01/04/1999</td>\n",
       "      <td>O</td>\n",
       "      <td>GEN_MED_OUTPATIENT</td>\n",
       "      <td>\\Hospital\\Outpatient\\GeneralMedicine\\\\</td>\n",
       "      <td>0x2A2A566973697420496E666F726D6174696F6E3A2A2A...</td>\n",
       "      <td>**Visit Information:**\\n- Patient ID: 10000000...</td>\n",
       "    </tr>\n",
       "    <tr>\n",
       "      <th>8</th>\n",
       "      <td>472473</td>\n",
       "      <td>1000000002</td>\n",
       "      <td>08/12/1999</td>\n",
       "      <td>08/12/1999</td>\n",
       "      <td>O</td>\n",
       "      <td>GEN_MED_OUTPATIENT</td>\n",
       "      <td>\\Hospital\\Outpatient\\GeneralMedicine\\\\</td>\n",
       "      <td>0x2A2A566973697420496E666F726D6174696F6E3A2A2A...</td>\n",
       "      <td>**Visit Information:**\\n- Patient ID: 10000000...</td>\n",
       "    </tr>\n",
       "    <tr>\n",
       "      <th>9</th>\n",
       "      <td>472692</td>\n",
       "      <td>1000000002</td>\n",
       "      <td>12/01/1999</td>\n",
       "      <td>12/01/1999</td>\n",
       "      <td>O</td>\n",
       "      <td>GEN_MED_OUTPATIENT</td>\n",
       "      <td>\\Hospital\\Outpatient\\GeneralMedicine\\\\</td>\n",
       "      <td>0x2A2A566973697420496E666F726D6174696F6E3A2A2A...</td>\n",
       "      <td>**Visit Information:**\\n- Patient ID: 10000000...</td>\n",
       "    </tr>\n",
       "  </tbody>\n",
       "</table>\n",
       "</div>"
      ]
     },
     "metadata": {},
     "output_type": "display_data"
    },
    {
     "data": {
      "text/plain": [
       "<IPython.core.display.Markdown object>"
      ],
      "text/markdown": "### Decoded Note Example (Row 10 of 1128):\n\n```text\n**Visit Information:**\n- Patient ID: 1000000002\n- Encounter ID: 473302\n- Visit Date: August 25, 2000\n\n**Subjective:**\n\nThis is a 34-year-old White female who has been receiving care at our clinic for approximately nine months. She communicates primarily in Spanish and presents today for a follow-up visit regarding persistent anxiety and depressive symptoms, as well as management of chronic cough and recurrent gastrointestinal discomfort. Additionally, she is seeking advice on long-term contraceptive options following dissatisfaction with her current method.\n\nThe patient reports a persistent cough that has been ongoing for the past two weeks, producing green sputum and accompanied by intermittent fever, chills, and general fatigue. She also describes ongoing gastrointestinal discomfort characterized by epigastric pain, bloating, and nausea, particularly after meals. There have been no recent dietary changes. \n\nThe patient is currently taking Benzonatate for cough management and Prednisone; however, these medications have not completely alleviated her symptoms. She also takes Apri for contraception and Nortriptyline Hydrochloride for neuropathic pain and mood management. She reports improvement in mood and pain control but continues to experience gastrointestinal symptoms, including nausea associated with her contraceptive pill. The patient has no known drug allergies.\n\nHer past medical history includes chronic cervicitis and endocervicitis with recurrent abnormal Pap smears, generalized anxiety disorder, major depressive disorder, and bipolar disorder. She has not undergone any major surgeries.\n\nThe patient lives with her family and works as a homemaker. She leads a healthy lifestyle, does not smoke, drinks alcohol occasionally, and does not use recreational drugs. \n\n**Objective:**\n\nThe patient appears moderately ill but is not in acute distress. Vital signs include a temperature of 99.6°F, heart rate of 82 bpm, blood pressure of 118/76 mmHg, and respiratory rate of 18 breaths per minute. The respiratory examination reveals decreased breath sounds and crackles at the base of the left lung, suggesting an ongoing respiratory infection. The abdominal examination shows mild epigastric tenderness without rebound tenderness or guarding; bowel sounds are present and normal. There is no hepatosplenomegaly. The gynecological examination was not performed during this visit. The neck examination reveals no visible deformities. Cardiovascular examination indicates a regular heart rate and rhythm with no abnormal sounds. Recent lab tests show an elevated white blood cell count, indicating infection, while liver function tests are within normal limits.\n\n**Assessment:**\n\n1. Acute bronchitis with a likely secondary bacterial infection, as evidenced by persistent cough, sputum production, and fever.\n2. Chronic cervicitis and endocervicitis, necessitating further evaluation due to recurrent symptoms and abnormal Pap smear results.\n3. Gastritis, likely exacerbated by oral contraceptive use and possibly dietary factors, presenting with epigastric pain, nausea, and bloating.\n\n**Plan:**\n\n1. The patient will continue with the current antibiotic regimen to address the acute bronchitis and will be monitored for signs of improvement or worsening infection.\n2. Recommend dietary modifications and prescribe a proton pump inhibitor to manage gastritis symptoms.\n3. Schedule a gynecological consultation to further evaluate abnormal Pap smear results and ongoing issues with chronic cervicitis.\n4. Discuss various long-term contraceptive options, considering the side effects experienced with the current oral contraceptive, and make necessary adjustments.\n5. Reinforce the importance of adhering to prescribed medications, maintaining adequate hydration, and ensuring rest. Educate the patient about recognizing signs of worsening infection and instruct to seek immediate medical attention if symptoms escalate.\n\n**Follow-Up:**\n\nInstruct the patient to contact the clinic if symptoms worsen or do not improve within a week, or if test results indicate further evaluation is needed. Educate the patient on the importance of adhering to the treatment plan and attending follow-up appointments to monitor progress and reassess treatment efficacy.\n```"
     },
     "metadata": {},
     "output_type": "display_data"
    }
   ],
   "execution_count": 60
  },
  {
   "metadata": {},
   "cell_type": "markdown",
   "source": [
    "## 2. Decode, Embed and Store Clinical Notes in a FAISS Vector Store (In-Memory)\n",
    "\n",
    "In this step, we embed full clinical notes and store them in a **FAISS** vector store, which enables efficient similarity search. We use a lightweight transformer model (`MiniLM`) to convert each note into a semantic vector.\n",
    "\n",
    "### Steps:\n",
    "- **2.1**: Embed clinical notes using the `all-MiniLM-L6-v2` model from Hugging Face.\n",
    "- **2.2**: View an embedded document along with its metadata and vector representation.\n",
    "\n",
    "### Why Use This Approach?\n",
    "\n",
    "Storing entire notes is useful when:\n",
    "- You want to preserve the full clinical context for each patient.\n",
    "- Your downstream use case (e.g., summarization or structured extraction) requires complete narrative input.\n",
    "- The notes are concise enough to fit within the input limits of an LLM.\n",
    "\n",
    "This method simplifies retrieval workflows by allowing you to work with whole documents rather than fragmented chunks.\n",
    "\n",
    "<img src=\"./images/rag_full.png\" alt=\"RAG Full\" width=\"900\">\n",
    "\n",
    "\n"
   ],
   "id": "52ad390e417fe45d"
  },
  {
   "metadata": {
    "ExecuteTime": {
     "end_time": "2025-05-16T20:29:20.974091Z",
     "start_time": "2025-05-16T20:29:18.921132Z"
    }
   },
   "cell_type": "code",
   "source": [
    "# -----------------------------------------------------------\n",
    "# 2.1. Embed Clinical Notes Using Local MiniLM Embeddings\n",
    "# -----------------------------------------------------------\n",
    "# This cell encodes each clinical note into a vector using a local\n",
    "# transformer model and stores those embeddings in a FAISS index for\n",
    "# fast similarity search.\n",
    "\n",
    "# Model: `sentence-transformers/all-MiniLM-L6-v2`\n",
    "# - Optimized for semantic similarity tasks\n",
    "# - Lightweight and fast (384-dimensional vectors)\n",
    "# - Runs fully offline\n",
    "\n",
    "# Requirements:\n",
    "#   pip install langchain langchain-huggingface sentence-transformers faiss-cpu\n",
    "\n",
    "from langchain_huggingface import HuggingFaceEmbeddings\n",
    "from langchain.vectorstores import FAISS\n",
    "\n",
    "# Initialize the embedding model\n",
    "embedding_model = HuggingFaceEmbeddings(\n",
    "    model_name=\"sentence-transformers/all-MiniLM-L6-v2\"\n",
    ")\n",
    "\n",
    "# Prepare inputs for embedding: note text and relevant metadata\n",
    "documents = df[\"note_text\"].tolist()\n",
    "metadata = df[[\"patient_num\", \"encounter_num\", \"start_date\"]].to_dict(orient=\"records\")\n",
    "\n",
    "# Create a FAISS vector store from the documents\n",
    "vectorstore = FAISS.from_texts(documents, embedding_model, metadatas=metadata)\n",
    "\n",
    "print(f\"✅ Successfully embedded {len(documents)} clinical notes using MiniLM.\")\n"
   ],
   "id": "cb4d79a45a47b55e",
   "outputs": [
    {
     "name": "stdout",
     "output_type": "stream",
     "text": [
      "✅ Successfully embedded 1128 clinical notes using MiniLM.\n"
     ]
    }
   ],
   "execution_count": 16
  },
  {
   "metadata": {
    "ExecuteTime": {
     "end_time": "2025-05-16T20:39:54.760871Z",
     "start_time": "2025-05-16T20:39:54.755106Z"
    }
   },
   "cell_type": "code",
   "source": [
    "# -----------------------------------------------------------\n",
    "# 2.2. View a Specific Embedded Document, Metadata, and Vector\n",
    "# -----------------------------------------------------------\n",
    "# Select an index (e.g., id = 5) to inspect the stored document.\n",
    "# This cell shows the document text, associated metadata, and\n",
    "# the corresponding FAISS embedding vector.\n",
    "\n",
    "id = 1  # You can change this index to view a different record\n",
    "\n",
    "# Get (doc_id, Document) tuple from LangChain's docstore\n",
    "doc_id, doc_example = list(vectorstore.docstore._dict.items())[id]\n",
    "\n",
    "# Retrieve corresponding vector from FAISS\n",
    "vector_example = vectorstore.index.reconstruct(id)\n",
    "\n",
    "display(Markdown(f\"### 🧾 Document ID: `{doc_id}`\"))\n",
    "display(Markdown(f\"**Metadata:** `{doc_example.metadata}`\"))\n",
    "\n",
    "display(Markdown(\"**Document Text (First 500 characters):**\"))\n",
    "display(Markdown(f\"```text\\n{doc_example.page_content[:500]}...\\n```\"))\n",
    "\n",
    "display(Markdown(\"**Embedded Vector (First 100):**\"))\n",
    "display(Markdown(f\"```text\\n{vector_example[:100]}\\n```\"))"
   ],
   "id": "2e8bf3477478862b",
   "outputs": [
    {
     "data": {
      "text/plain": [
       "<IPython.core.display.Markdown object>"
      ],
      "text/markdown": "### 🧾 Document ID: `3cea3cad-3d0f-4392-946a-afa3fe7618ce`"
     },
     "metadata": {},
     "output_type": "display_data"
    },
    {
     "data": {
      "text/plain": [
       "<IPython.core.display.Markdown object>"
      ],
      "text/markdown": "**Metadata:** `{'patient_num': 1000000001, 'encounter_num': 479681, 'start_date': '03/29/2007'}`"
     },
     "metadata": {},
     "output_type": "display_data"
    },
    {
     "data": {
      "text/plain": [
       "<IPython.core.display.Markdown object>"
      ],
      "text/markdown": "**Document Text (First 500 characters):**"
     },
     "metadata": {},
     "output_type": "display_data"
    },
    {
     "data": {
      "text/plain": [
       "<IPython.core.display.Markdown object>"
      ],
      "text/markdown": "```text\n**Visit Information:**\n- Patient ID: 1000000001\n- Encounter ID: 479681\n- Visit Date: 03/29/2007\n\n**Subjective:**\nThis is a 22-year-old Black female who presents for a follow-up visit regarding her asthma management and other health concerns. She has a history of asthma, which has recently been exacerbated, as well as chronic but unspecified asthma without status asthmaticus. Today, she reports experiencing increased shortness of breath, coughing, and wheezing, particularly at night and during ph...\n```"
     },
     "metadata": {},
     "output_type": "display_data"
    },
    {
     "data": {
      "text/plain": [
       "<IPython.core.display.Markdown object>"
      ],
      "text/markdown": "**Embedded Vector (First 100):**"
     },
     "metadata": {},
     "output_type": "display_data"
    },
    {
     "data": {
      "text/plain": [
       "<IPython.core.display.Markdown object>"
      ],
      "text/markdown": "```text\n[-1.71678141e-02  2.57554296e-02 -3.02366652e-02  5.90960197e-02\n -5.69125786e-02 -4.99190413e-04  8.61884840e-03  8.68016854e-02\n -6.81851804e-02 -6.68402463e-02  3.30676250e-02 -3.55875865e-02\n -1.23848217e-02  7.65940845e-02 -3.75763103e-02  9.54439640e-02\n  6.90067634e-02 -2.38603388e-05 -3.86461765e-02  4.25991453e-02\n -1.85658671e-02  5.61406054e-02  1.93215813e-02  2.50939541e-02\n -2.55058929e-02  2.48132050e-02  1.13040283e-02 -7.05091357e-02\n -4.29927222e-02  6.21788716e-03  3.62610035e-02  7.08533376e-02\n -2.21760888e-02  2.64465176e-02  7.54039586e-02  4.01692055e-02\n -6.26062378e-02  1.32325098e-01 -5.72330616e-02 -1.53708109e-03\n -4.10942920e-02 -4.31008749e-02 -7.04137757e-02 -1.14883482e-02\n -1.23254970e-01 -5.21464646e-02  9.94869322e-03  5.51104359e-02\n  3.66243050e-02 -4.14495505e-02 -8.01567286e-02 -2.10100575e-03\n -3.75144444e-02  3.52221541e-02 -2.79712770e-02 -3.74436043e-02\n -2.92122159e-02 -2.80889533e-02 -1.86977591e-02 -5.62554412e-02\n -8.22607130e-02 -4.13189344e-02 -3.52802058e-03 -3.82440048e-03\n -3.04170419e-02  3.33530866e-02  7.54628479e-02 -6.59794062e-02\n  7.56931379e-02  8.29117745e-02  1.21518439e-02  3.85913393e-03\n -3.69290859e-02  3.58938538e-02  8.32919627e-02  5.12350611e-02\n  8.61314014e-02 -8.09207782e-02  8.05566385e-02 -7.17616081e-02\n  4.12650108e-02  3.24600525e-02 -4.26827552e-04  6.82886988e-02\n  3.33798267e-02  1.21426703e-02 -1.62483845e-02 -1.23265274e-02\n -7.30338134e-03 -1.13389842e-01  4.83014695e-02  5.49841635e-02\n -1.20847290e-02 -4.13356461e-02  1.21255375e-01  1.19486563e-02\n -5.47067188e-02  6.44720122e-02 -8.70435610e-02  2.73401849e-02]\n```"
     },
     "metadata": {},
     "output_type": "display_data"
    }
   ],
   "execution_count": 32
  },
  {
   "metadata": {},
   "cell_type": "markdown",
   "source": [
    "## 3. Retrieving Clinical Notes with Similarity Score (RAG Retrieval)\n",
    "\n",
    "In this section, we perform semantic search over embedded clinical notes using a FAISS vector store and a locally generated query vector. We use similarity scores to evaluate the relevance of each match to the query.\n",
    "\n",
    "### Key Retrieval Steps:\n",
    "\n",
    "1. **Embed a Query (Step 3.1)**\n",
    "   - Converts a natural language question into a numerical vector using the same MiniLM model used to embed the notes.\n",
    "\n",
    "2. **Similarity Search with Scores (Step 3.2)**\n",
    "   - Retrieves the top-k clinical notes ranked by cosine similarity to the query.\n",
    "   - Includes similarity scores for transparency and ranking.\n",
    "\n",
    "3. **Score Threshold Filtering (Step 3.3)**\n",
    "   - Filters out matches with low similarity scores.\n",
    "   - Helps improve the precision and clinical relevance of the results.\n",
    "\n",
    "### Why Use These Techniques?\n",
    "\n",
    "Similarity search helps identify notes most relevant to a user-defined question or condition. Threshold filtering ensures:\n",
    "- Only strong matches are considered for downstream tasks like summarization\n",
    "- Noisy or unrelated content is excluded\n",
    "- Each result can be justified based on a similarity score\n",
    "\n",
    "<img src=\"./images/rag_retrieval.png\" alt=\"RAG Retrieval\" width=\"900\">\n"
   ],
   "id": "aeec2830e4432c29"
  },
  {
   "metadata": {
    "ExecuteTime": {
     "end_time": "2025-05-16T20:58:27.023465Z",
     "start_time": "2025-05-16T20:58:26.985021Z"
    }
   },
   "cell_type": "code",
   "source": [
    "# -----------------------------------------------------------\n",
    "# 3.1. Embed a Query and Inspect Its Vector Representation\n",
    "# -----------------------------------------------------------\n",
    "# This step encodes a natural language query into a numerical vector\n",
    "# using the same MiniLM model used for the clinical notes.\n",
    "# This vector will be used to search for semantically similar notes.\n",
    "\n",
    "from IPython.display import display, Markdown\n",
    "\n",
    "# Define a sample clinical query\n",
    "query = \"Who has asthma and is taking Fluticasone and Albuterol?\"\n",
    "\n",
    "# Generate the embedding for the query\n",
    "query_vector = embedding_model.embed_query(query)\n",
    "\n",
    "# Display the vector and its shape\n",
    "display(Markdown(\"### Vectorized Query\"))\n",
    "display(Markdown(f\"`Query:` *{query}*\"))\n",
    "display(Markdown(\"**Embedding Vector (truncated):**\"))\n",
    "display(Markdown(f\"```text\\n{query_vector[:100]} ... [{len(query_vector)} dimensions]\\n```\"))\n"
   ],
   "id": "b452485e8b120fb6",
   "outputs": [
    {
     "data": {
      "text/plain": [
       "<IPython.core.display.Markdown object>"
      ],
      "text/markdown": "### Vectorized Query"
     },
     "metadata": {},
     "output_type": "display_data"
    },
    {
     "data": {
      "text/plain": [
       "<IPython.core.display.Markdown object>"
      ],
      "text/markdown": "`Query:` *Who has asthma and is taking Fluticasone and Albuterol?*"
     },
     "metadata": {},
     "output_type": "display_data"
    },
    {
     "data": {
      "text/plain": [
       "<IPython.core.display.Markdown object>"
      ],
      "text/markdown": "**Embedding Vector (truncated):**"
     },
     "metadata": {},
     "output_type": "display_data"
    },
    {
     "data": {
      "text/plain": [
       "<IPython.core.display.Markdown object>"
      ],
      "text/markdown": "```text\n[0.03887706995010376, -0.042409393936395645, -0.05146171152591705, 0.04121880233287811, -0.025769369676709175, -0.04591357707977295, -0.0103689543902874, 0.08145193755626678, -0.057403627783060074, -0.024037929251790047, -0.03372789919376373, -0.017538271844387054, 0.011136984452605247, 0.026207493618130684, 0.05617568641901016, 0.10241179913282394, -0.010751360096037388, -0.080230213701725, -0.035150207579135895, 0.03298896923661232, -0.054257433861494064, 0.03680410236120224, -0.020248012617230415, -0.014638238586485386, -0.02407461777329445, 0.003959783352911472, -0.06827481091022491, -0.06968778371810913, -0.012535175308585167, -0.02130780555307865, 0.04345591366291046, 0.012301910668611526, 0.034768421202898026, 0.016457173973321915, -0.048210542649030685, -0.06472979485988617, -0.03769080340862274, 0.041117001324892044, -0.019274244084954262, 0.0037662305403500795, -0.021108878776431084, 0.04656617343425751, -0.008450526744127274, -0.049669861793518066, -0.04242834821343422, -0.06320502609014511, -0.01955222897231579, 0.054210860282182693, 0.1411016583442688, 0.1343386173248291, -0.020330237224698067, -0.10597763955593109, -0.017557138577103615, 0.025490937754511833, 0.01601383090019226, 0.013045622035861015, -0.060303207486867905, -0.03783290088176727, 0.00859709084033966, 0.039191484451293945, -0.08744332939386368, -0.05355598032474518, -0.05158739909529686, 0.0387701652944088, -0.016768554225564003, 0.08894018083810806, -0.04220253601670265, -0.010439642705023289, 0.04337993264198303, 0.024880973622202873, -0.04691239446401596, -0.09643535315990448, 0.001312048640102148, 0.05043662711977959, 0.06332380324602127, 0.06346283853054047, 0.00016291363863274455, -0.06721339374780655, -0.023447025567293167, -0.03179381415247917, 0.029838524758815765, 0.039168938994407654, 0.016349392011761665, 0.08783099800348282, 0.1331924945116043, -0.008966437540948391, 0.004134346731007099, 0.0647963434457779, -0.04450833424925804, -0.03666992485523224, 0.1214400976896286, -0.02252311259508133, -0.03951089456677437, 0.030040215700864792, 0.0030885825399309397, -0.04257494956254959, 0.0373033732175827, -0.009867946617305279, -0.13521036505699158, 0.04623591527342796] ... [384 dimensions]\n```"
     },
     "metadata": {},
     "output_type": "display_data"
    }
   ],
   "execution_count": 35
  },
  {
   "metadata": {
    "ExecuteTime": {
     "end_time": "2025-05-16T21:00:05.836469Z",
     "start_time": "2025-05-16T21:00:05.800293Z"
    }
   },
   "cell_type": "code",
   "source": [
    "# -----------------------------------------------------------\n",
    "# 3.2. Similarity Search (Top-K Results, No Filtering)\n",
    "# -----------------------------------------------------------\n",
    "# This cell performs a semantic similarity search using the embedded query,\n",
    "# returning the top-k most similar clinical notes along with similarity scores.\n",
    "\n",
    "# Score interpretation:\n",
    "# - 0.90 – 1.00: Highly relevant\n",
    "# - 0.70 – 0.90: Strong match\n",
    "# - 0.50 – 0.70: Moderate match\n",
    "# - 0.30 – 0.50: Low match\n",
    "# - 0.00 – 0.30: Minimal or irrelevant\n",
    "\n",
    "from IPython.display import Markdown, display\n",
    "\n",
    "# Define number of top results\n",
    "top_k = 5\n",
    "\n",
    "# Run similarity search\n",
    "results = vectorstore.similarity_search_with_score(query, k=top_k)\n",
    "\n",
    "# Display header\n",
    "display(Markdown(f\"### 🔍 Top {top_k} Most Similar Clinical Notes\"))\n",
    "\n",
    "# Iterate and display each match\n",
    "for i, (doc, score) in enumerate(results):\n",
    "    display(Markdown(f\"---\\n**Result {i+1}**  \\n- **Similarity Score:** `{score:.4f}`  \\n- **Patient Num:** `{doc.metadata.get('patient_num', 'N/A')}`  \\n- **Encounter:** `{doc.metadata.get('encounter_num', 'N/A')}`\\n\\n**Note Preview:**\\n```text\\n{doc.page_content[:1200]}\\n```\"))\n"
   ],
   "id": "10ff12b605678727",
   "outputs": [
    {
     "data": {
      "text/plain": [
       "<IPython.core.display.Markdown object>"
      ],
      "text/markdown": "### 🔍 Top 5 Most Similar Clinical Notes"
     },
     "metadata": {},
     "output_type": "display_data"
    },
    {
     "data": {
      "text/plain": [
       "<IPython.core.display.Markdown object>"
      ],
      "text/markdown": "---\n**Result 1**  \n- **Similarity Score:** `0.5248`  \n- **Patient Num:** `1000000005`  \n- **Encounter:** `477663`\n\n**Note Preview:**\n```text\n**Visit Information:**\n- Patient ID: 1000000005\n- Encounter ID: 477663\n- Visit Date: June 21, 2005\n\n**Subjective:**\n\nThis is a 32-year-old Hispanic female who has been receiving care at our clinic for approximately 3 months. She speaks English and presents today for a follow-up visit scheduled as part of her ongoing asthma management. The patient reports continued asthma symptoms, including persistent shortness of breath, wheezing particularly at night, and a cough that disrupts her sleep. Over the past two weeks, these symptoms have intensified despite regular usage of her asthma medications: albuterol inhaler for rescue, daily fluticasone inhaler, and nightly montelukast. She states the albuterol provides only brief relief.\n\nShe has a medical history of unspecified asthma without mention of status asthmaticus, back sprain from unspecified causes, vaginitis, and a previous high-risk pregnancy requiring special investigations. Her social history includes living in an urban environment known for high allergen exposure, working as a primary school teacher, and maintaining a non-smoking and non-drinking lifestyle. She has no known allergies.\n\n**Objective:**\n\nOn examination, the patien\n```"
     },
     "metadata": {},
     "output_type": "display_data"
    },
    {
     "data": {
      "text/plain": [
       "<IPython.core.display.Markdown object>"
      ],
      "text/markdown": "---\n**Result 2**  \n- **Similarity Score:** `0.5455`  \n- **Patient Num:** `1000000011`  \n- **Encounter:** `476139`\n\n**Note Preview:**\n```text\n**Visit Information:**\n- Patient ID: 1000000011\n- Encounter ID: 476139\n- Visit Date: Nov 20, 2003\n\n**Subjective:**\nThis is a 54-year-old Caucasian female who speaks English and has been receiving care at our clinic. She presents today for a follow-up regarding her recurrent asthma and associated symptoms. The patient is experiencing persistent shortness of breath, wheezing, and a nocturnal cough that interrupts her sleep. These symptoms have been particularly troublesome over the last month despite adherence to her current medication regimen. She denies smoking and has reported no recent exposure to known allergens or new environmental triggers.\n\nHer past medical history is significant for recurrent asthma, an acute myocardial infarction, hypertension, hypercholesterolemia, lumbar disc displacement leading to chronic lumbago, cervical dysplasia, and a panic disorder. Her medications include fluticasone and an albuterol inhaler for asthma, along with antihypertensive and lipid-lowering agents. She resides independently and leads an active lifestyle with a balanced diet and routine physical activity, adjusted as needed for her medical conditions.\n\n**Objective:**\nOn examination, the p\n```"
     },
     "metadata": {},
     "output_type": "display_data"
    },
    {
     "data": {
      "text/plain": [
       "<IPython.core.display.Markdown object>"
      ],
      "text/markdown": "---\n**Result 3**  \n- **Similarity Score:** `0.5618`  \n- **Patient Num:** `1000000123`  \n- **Encounter:** `475208`\n\n**Note Preview:**\n```text\n**Visit Information:**\n- Patient ID: 1000000123\n- Encounter ID: 475208\n- Visit Date: November 27, 2002\n\n**Subjective:**\nThis is a 19-year-old Indian male who has been under our care for asthma management. The patient speaks German and came to the clinic on November 27, 2002, for a follow-up visit. Since his last appointment in March 2001, he has experienced an uptick in both the frequency and severity of his asthma attacks. Recently, his nocturnal asthma episodes have become more disruptive, leading to sleep disturbances and affecting his daily function and academic performance. The patient reports consistent symptoms of wheezing, shortness of breath, and chest tightness that are exacerbated by physical activities and cold weather. He has been reliant on his rescue inhaler, using it three to four times a day with only partial relief.\n\nHis medical history includes chronic asthma, which has persisted since childhood. He is currently managed with a fluticasone/salmeterol inhaler taken twice daily and albuterol on an as-needed basis. He does not use any herbal supplements. As a high school student, he lives with his parents and younger siblings. He maintains an active lifestyle but has\n```"
     },
     "metadata": {},
     "output_type": "display_data"
    },
    {
     "data": {
      "text/plain": [
       "<IPython.core.display.Markdown object>"
      ],
      "text/markdown": "---\n**Result 4**  \n- **Similarity Score:** `0.5620`  \n- **Patient Num:** `1000000005`  \n- **Encounter:** `475726`\n\n**Note Preview:**\n```text\n**Visit Information:**\n- Patient ID: 1000000005\n- Encounter ID: 475726\n- Visit Date: July 2, 2003\n\n**Subjective:**\n\nThis is a 30-year-old Hispanic female who is an English speaker, followed at our clinic for asthma management. Today, she presents for a routine follow-up visit. The patient reports persistent symptoms of asthma, including increased shortness of breath, wheezing, and a nocturnal cough that disrupts her sleep. She mentions that these symptoms have worsened over the past two weeks despite regular use of her asthma medications. She is diligent with her albuterol inhaler (used as needed), fluticasone inhaler (daily), and montelukast (nightly), yet finds that the albuterol offers only temporary relief.\n\nHer medical history includes asthma with multiple past exacerbations usually triggered by allergens or respiratory infections. There are no past surgeries of note. Socially, she resides in an urban environment with high allergen exposure and works as a primary school teacher. She asserts a non-smoking and non-drinking lifestyle. No known allergies have been reported.\n\n**Objective:**\n\nUpon examination, the patient is in mild respiratory distress. Vital signs include a blood \n```"
     },
     "metadata": {},
     "output_type": "display_data"
    },
    {
     "data": {
      "text/plain": [
       "<IPython.core.display.Markdown object>"
      ],
      "text/markdown": "---\n**Result 5**  \n- **Similarity Score:** `0.5715`  \n- **Patient Num:** `1000000011`  \n- **Encounter:** `476451`\n\n**Note Preview:**\n```text\n## SOAP Note\n\n**Visit Information:**\n- Patient ID: 1000000011\n- Encounter ID: 476451\n- Visit Date: March 16, 2004\n\n**Subjective:**\nThis is a 55-year-old Caucasian female who speaks English and has been receiving care at our clinic for the past several months. She presents today for a follow-up visit primarily concerning her asthma, which has been problematic over the last month. The patient reports persistent shortness of breath, wheezing, and a nocturnal cough, hindering her sleep quality despite adherence to her prescribed medication regimen. She denies recent smoking, exposure to known allergens, or new environmental triggers.\n\nHer past medical history includes recurrent asthma, a previous myocardial infarction, hypertension, hypercholesterolemia, lumbar disc displacement with chronic lumbago, cervical dysplasia, and a panic disorder. She is currently taking fluticasone and an albuterol inhaler for asthma management, along with antihypertensive and lipid-lowering medications. The patient lives independently and maintains an active lifestyle, adjusting her routine as necessary due to her health conditions. She follows a balanced diet and engages in regular physical activity. She \n```"
     },
     "metadata": {},
     "output_type": "display_data"
    }
   ],
   "execution_count": 37
  },
  {
   "metadata": {
    "ExecuteTime": {
     "end_time": "2025-05-16T21:06:09.779236Z",
     "start_time": "2025-05-16T21:06:09.772950Z"
    }
   },
   "cell_type": "code",
   "source": [
    "# -----------------------------------------------------------\n",
    "# 3.3. Filter Search Results by Similarity Score Threshold\n",
    "# -----------------------------------------------------------\n",
    "# This cell filters the top-K search results to keep only those\n",
    "# with high similarity scores above a defined threshold.\n",
    "\n",
    "# Similarity Score Threshold:\n",
    "# - Only notes with scores ≥ threshold will be retained.\n",
    "# - Higher scores = greater semantic similarity.\n",
    "\n",
    "from IPython.display import Markdown, display\n",
    "\n",
    "threshold = 0.55  # Keep notes with score ≥ 0.55\n",
    "\n",
    "# Initialize an empty list to hold the filtered results\n",
    "filtered_results = []\n",
    "\n",
    "# Loop through each result (a tuple of Document and score)\n",
    "for doc, score in results:\n",
    "    # Check if the similarity score meets the threshold\n",
    "    if score >= threshold:\n",
    "        # If so, add it to the filtered list\n",
    "        filtered_results.append((doc, score))\n",
    "\n",
    "\n",
    "# Summary\n",
    "display(Markdown(f\"### ✅ {len(filtered_results)} of {top_k} notes passed the similarity threshold (≥ {threshold})\"))\n",
    "\n",
    "# Show filtered results\n",
    "for i, (doc, score) in enumerate(filtered_results):\n",
    "    display(Markdown(\n",
    "        f\"---\\n**Filtered Match {i+1}**  \\n\"\n",
    "        f\"- **Similarity Score:** `{score:.4f}`  \\n\"\n",
    "        f\"- **Patient Num:** `{doc.metadata.get('patient_num', 'N/A')}`  \\n\"\n",
    "        f\"- **Encounter:** `{doc.metadata.get('encounter_num', 'N/A')}`\\n\\n\"\n",
    "        f\"**Note Preview:**\\n```text\\n{doc.page_content[:1200]}\\n```\"\n",
    "    ))\n"
   ],
   "id": "e759fdce7afea1b1",
   "outputs": [
    {
     "data": {
      "text/plain": [
       "<IPython.core.display.Markdown object>"
      ],
      "text/markdown": "### ✅ 3 of 5 notes passed the similarity threshold (≥ 0.55)"
     },
     "metadata": {},
     "output_type": "display_data"
    },
    {
     "data": {
      "text/plain": [
       "<IPython.core.display.Markdown object>"
      ],
      "text/markdown": "---\n**Filtered Match 1**  \n- **Similarity Score:** `0.5618`  \n- **Patient Num:** `1000000123`  \n- **Encounter:** `475208`\n\n**Note Preview:**\n```text\n**Visit Information:**\n- Patient ID: 1000000123\n- Encounter ID: 475208\n- Visit Date: November 27, 2002\n\n**Subjective:**\nThis is a 19-year-old Indian male who has been under our care for asthma management. The patient speaks German and came to the clinic on November 27, 2002, for a follow-up visit. Since his last appointment in March 2001, he has experienced an uptick in both the frequency and severity of his asthma attacks. Recently, his nocturnal asthma episodes have become more disruptive, leading to sleep disturbances and affecting his daily function and academic performance. The patient reports consistent symptoms of wheezing, shortness of breath, and chest tightness that are exacerbated by physical activities and cold weather. He has been reliant on his rescue inhaler, using it three to four times a day with only partial relief.\n\nHis medical history includes chronic asthma, which has persisted since childhood. He is currently managed with a fluticasone/salmeterol inhaler taken twice daily and albuterol on an as-needed basis. He does not use any herbal supplements. As a high school student, he lives with his parents and younger siblings. He maintains an active lifestyle but has\n```"
     },
     "metadata": {},
     "output_type": "display_data"
    },
    {
     "data": {
      "text/plain": [
       "<IPython.core.display.Markdown object>"
      ],
      "text/markdown": "---\n**Filtered Match 2**  \n- **Similarity Score:** `0.5620`  \n- **Patient Num:** `1000000005`  \n- **Encounter:** `475726`\n\n**Note Preview:**\n```text\n**Visit Information:**\n- Patient ID: 1000000005\n- Encounter ID: 475726\n- Visit Date: July 2, 2003\n\n**Subjective:**\n\nThis is a 30-year-old Hispanic female who is an English speaker, followed at our clinic for asthma management. Today, she presents for a routine follow-up visit. The patient reports persistent symptoms of asthma, including increased shortness of breath, wheezing, and a nocturnal cough that disrupts her sleep. She mentions that these symptoms have worsened over the past two weeks despite regular use of her asthma medications. She is diligent with her albuterol inhaler (used as needed), fluticasone inhaler (daily), and montelukast (nightly), yet finds that the albuterol offers only temporary relief.\n\nHer medical history includes asthma with multiple past exacerbations usually triggered by allergens or respiratory infections. There are no past surgeries of note. Socially, she resides in an urban environment with high allergen exposure and works as a primary school teacher. She asserts a non-smoking and non-drinking lifestyle. No known allergies have been reported.\n\n**Objective:**\n\nUpon examination, the patient is in mild respiratory distress. Vital signs include a blood \n```"
     },
     "metadata": {},
     "output_type": "display_data"
    },
    {
     "data": {
      "text/plain": [
       "<IPython.core.display.Markdown object>"
      ],
      "text/markdown": "---\n**Filtered Match 3**  \n- **Similarity Score:** `0.5715`  \n- **Patient Num:** `1000000011`  \n- **Encounter:** `476451`\n\n**Note Preview:**\n```text\n## SOAP Note\n\n**Visit Information:**\n- Patient ID: 1000000011\n- Encounter ID: 476451\n- Visit Date: March 16, 2004\n\n**Subjective:**\nThis is a 55-year-old Caucasian female who speaks English and has been receiving care at our clinic for the past several months. She presents today for a follow-up visit primarily concerning her asthma, which has been problematic over the last month. The patient reports persistent shortness of breath, wheezing, and a nocturnal cough, hindering her sleep quality despite adherence to her prescribed medication regimen. She denies recent smoking, exposure to known allergens, or new environmental triggers.\n\nHer past medical history includes recurrent asthma, a previous myocardial infarction, hypertension, hypercholesterolemia, lumbar disc displacement with chronic lumbago, cervical dysplasia, and a panic disorder. She is currently taking fluticasone and an albuterol inhaler for asthma management, along with antihypertensive and lipid-lowering medications. The patient lives independently and maintains an active lifestyle, adjusting her routine as necessary due to her health conditions. She follows a balanced diet and engages in regular physical activity. She \n```"
     },
     "metadata": {},
     "output_type": "display_data"
    }
   ],
   "execution_count": 42
  },
  {
   "metadata": {},
   "cell_type": "markdown",
   "source": [
    "## 4. Generating Structured Responses with an LLM (RAG Retrieval)\n",
    "\n",
    "In this section, we take the clinical notes retrieved via semantic search and pass them into a Large Language Model (LLM) to generate structured, clinically meaningful responses. This is the final step in the **Retrieval-Augmented Generation (RAG)** pipeline.\n",
    "\n",
    "### Key Steps:\n",
    "\n",
    "1. **Creating a Prompt Template for LLM Querying (Step 4.1)**\n",
    "   - Defines a reusable prompt structure for analyzing and summarizing clinical notes.\n",
    "   - Ensures each response includes patient metadata and clear, structured outputs.\n",
    "\n",
    "2. **Invoking LLM with Retrieved Context (Step 4.2)**\n",
    "   - Inserts the top-retrieved clinical notes into the prompt.\n",
    "   - Sends the prompt to a local LLM (e.g., Qwen2 via Ollama) for structured generation.\n",
    "   - Returns a summary that directly answers the user’s medical query.\n",
    "\n",
    "### Why This Matters\n",
    "\n",
    "This step demonstrates how LLMs can synthesize information from real patient notes to produce:\n",
    "- Patient-specific summaries\n",
    "- Answered clinical questions\n",
    "- Traceable outputs with structured identifiers\n",
    "\n",
    "This capability is essential for use cases like clinical decision support, patient-facing summaries, or intelligent search interfaces.\n",
    "\n",
    "<img src=\"./images/rag_generation.png\" alt=\"RAG Generation\" width=\"1250\">\n"
   ],
   "id": "f36c72898d6bab9e"
  },
  {
   "metadata": {
    "ExecuteTime": {
     "end_time": "2025-05-16T21:20:02.809746Z",
     "start_time": "2025-05-16T21:20:02.807070Z"
    }
   },
   "cell_type": "code",
   "source": [
    "# -----------------------------------------------------------\n",
    "# 4.1. Create a Prompt Template for LLM Querying\n",
    "# -----------------------------------------------------------\n",
    "# This prompt template guides the LLM to generate structured summaries\n",
    "# from clinical notes retrieved via similarity search.\n",
    "\n",
    "# It includes placeholders for:\n",
    "# - {retrieved_docs}: Injects the top-matching clinical notes\n",
    "# - {query}: A user-defined clinical question\n",
    "\n",
    "# Output Expectations:\n",
    "# - One structured response per patient\n",
    "# - Includes metadata for traceability\n",
    "# - Summarizes and answers the query based on each patient's most recent note\n",
    "\n",
    "from langchain.prompts import PromptTemplate\n",
    "\n",
    "prompt_template = PromptTemplate.from_template(\n",
    "    \"You are a medical assistant analyzing clinical notes. Based on the following records:\\n\\n\"\n",
    "    \"{retrieved_docs}\\n\\n\"\n",
    "    \"Answer the question: {query} using the following structure:\\n\"\n",
    "    \"   - Patient Num: <value>, Gender: <value>, Age: <value>, Race: <value>\\n\"\n",
    "    \"   - Visit Date: <value>\\n\"\n",
    "    \"   - Summary: One paragraph summarizing the patient note and answering the question.\\n\\n\"\n",
    "    \"   - Has Asthma: <Yes/No>\"\n",
    "    \"Instructions:\\n\"\n",
    "    \"- Show all patients that are relevant to the query.\\n\"\n",
    "    \"- Only consider the most recent note for each patient (identified by patient_num).\"\n",
    ")\n",
    "\n",
    "display(prompt_template)\n"
   ],
   "id": "ebb9aec086115c34",
   "outputs": [
    {
     "data": {
      "text/plain": [
       "PromptTemplate(input_variables=['query', 'retrieved_docs'], input_types={}, partial_variables={}, template='You are a medical assistant analyzing clinical notes. Based on the following records:\\n\\n{retrieved_docs}\\n\\nAnswer the question: {query} using the following structure:\\n   - Patient Num: <value>, Gender: <value>, Age: <value>, Race: <value>\\n   - Visit Date: <value>\\n   - Summary: One paragraph summarizing the patient note and answering the question.\\n\\n   - Has Asthma: <Yes/No>Instructions:\\n- Show all patients that are relevant to the query.\\n- Only consider the most recent note for each patient (identified by patient_num).')"
      ]
     },
     "metadata": {},
     "output_type": "display_data"
    }
   ],
   "execution_count": 57
  },
  {
   "metadata": {
    "ExecuteTime": {
     "end_time": "2025-05-16T21:20:13.192365Z",
     "start_time": "2025-05-16T21:20:06.378821Z"
    }
   },
   "cell_type": "code",
   "source": [
    "# -----------------------------------------------------------\n",
    "# 4.2. Use Retrieved Context to Invoke LLM and Generate Response\n",
    "# -----------------------------------------------------------\n",
    "# This cell completes the RAG workflow by injecting the top-matching clinical notes\n",
    "# into a prompt template and invoking a local LLM to generate a structured response.\n",
    "\n",
    "from langchain_ollama import ChatOllama\n",
    "from IPython.display import display, Markdown\n",
    "\n",
    "# Initialize the local LLM (ensure this model has been pulled via Ollama)\n",
    "model = ChatOllama(model=\"qwen2\")\n",
    "\n",
    "# Prepare the context by joining top retrieved notes\n",
    "retrieved_context = \"\\n\\n---\\n\\n\".join([doc.page_content for doc, _ in filtered_results])\n",
    "\n",
    "# Fill in the prompt template with the retrieved notes and query\n",
    "final_prompt = prompt_template.format(\n",
    "    retrieved_docs=retrieved_context,\n",
    "    query=query\n",
    ")\n",
    "\n",
    "# Run inference using the LLM\n",
    "response = model.invoke(final_prompt)\n",
    "\n",
    "# Display the generated response\n",
    "display(Markdown(\"### 📋 LLM-Generated Response\"))\n",
    "display(Markdown(response.content))\n"
   ],
   "id": "44506dfe18ccb7c6",
   "outputs": [
    {
     "data": {
      "text/plain": [
       "<IPython.core.display.Markdown object>"
      ],
      "text/markdown": "### 📋 LLM-Generated Response"
     },
     "metadata": {},
     "output_type": "display_data"
    },
    {
     "data": {
      "text/plain": [
       "<IPython.core.display.Markdown object>"
      ],
      "text/markdown": "Patient Num: 1000000123, Gender: Male, Age: 19, Race: Indian\nVisit Date: November 27, 2002\nSummary: The patient is a 19-year-old male who has been under care for asthma management. He speaks German and experienced increased frequency and severity of asthma attacks since his last appointment in March 2001. His symptoms include wheezing, shortness of breath, and chest tightness exacerbated by physical activities and cold weather. He uses a rescue inhaler three to four times daily with only partial relief.\n\nPatient Num: 1000000005, Gender: Female, Age: 30, Race: Hispanic\nVisit Date: July 2, 2003\nSummary: The patient is a 30-year-old female who presents for routine follow-up visit concerning persistent symptoms of asthma. She reports increased shortness of breath, wheezing, and nocturnal cough despite regular use of her asthma medications, including albuterol inhaler (used as needed), fluticasone inhaler (daily), and montelukast (nightly). She lives in an environment with high allergen exposure.\n\nPatient Num: 1000000011, Gender: Female, Age: 55, Race: Caucasian\nVisit Date: March 16, 2004\nSummary: The patient is a 55-year-old female who has been under care for persistent asthma symptoms over the last month. She reports shortness of breath, wheezing, and nocturnal cough without improvement despite adherence to her prescribed medication regimen that includes fluticasone and albuterol inhalers.\n\nYes\nAll three patients listed above have asthma and are taking Fluticasone (an inhaled corticosteroid) and Albuterol (a short-acting bronchodilator)."
     },
     "metadata": {},
     "output_type": "display_data"
    }
   ],
   "execution_count": 58
  }
 ],
 "metadata": {
  "kernelspec": {
   "display_name": "Python 3",
   "language": "python",
   "name": "python3"
  },
  "language_info": {
   "codemirror_mode": {
    "name": "ipython",
    "version": 2
   },
   "file_extension": ".py",
   "mimetype": "text/x-python",
   "name": "python",
   "nbconvert_exporter": "python",
   "pygments_lexer": "ipython2",
   "version": "2.7.6"
  }
 },
 "nbformat": 4,
 "nbformat_minor": 5
}
